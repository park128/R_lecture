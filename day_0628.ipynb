{
  "nbformat": 4,
  "nbformat_minor": 0,
  "metadata": {
    "colab": {
      "name": "day_0628.ipynb",
      "provenance": [],
      "collapsed_sections": [],
      "authorship_tag": "ABX9TyPkgyhSI7bQH+2SzOTW0TFh",
      "include_colab_link": true
    },
    "kernelspec": {
      "name": "python3",
      "display_name": "Python 3"
    },
    "language_info": {
      "name": "python"
    }
  },
  "cells": [
    {
      "cell_type": "markdown",
      "metadata": {
        "id": "view-in-github",
        "colab_type": "text"
      },
      "source": [
        "<a href=\"https://colab.research.google.com/github/park128/R_lecture/blob/main/day_0628.ipynb\" target=\"_parent\"><img src=\"https://colab.research.google.com/assets/colab-badge.svg\" alt=\"Open In Colab\"/></a>"
      ]
    },
    {
      "cell_type": "code",
      "execution_count": null,
      "metadata": {
        "id": "Whlz8aCupvvg"
      },
      "outputs": [],
      "source": [
        "---\n",
        "title: \"Python 기초문법\"\n",
        "date: '2022-06-28'\n",
        "---"
      ]
    },
    {
      "cell_type": "markdown",
      "source": [
        "# 반복문 복습\n",
        "- for loop and while loop"
      ],
      "metadata": {
        "id": "3N1Ghktip3fI"
      }
    },
    {
      "cell_type": "code",
      "source": [
        "for i in range(1000):\n",
        "  print(\"No : \", i+1)\n",
        "  if i == 10:\n",
        "    break\n",
        "  print(\"Hello World\")\n",
        "  print(\"안녕하세요\")"
      ],
      "metadata": {
        "id": "RW8kerXvqJWn"
      },
      "execution_count": null,
      "outputs": []
    },
    {
      "cell_type": "code",
      "source": [
        "a = \"Kaggle\"\n",
        "\n",
        "for i in a:\n",
        "  print(i)\n",
        "  if i == \"a\":\n",
        "    break"
      ],
      "metadata": {
        "id": "3msSw-CvrEkX"
      },
      "execution_count": null,
      "outputs": []
    },
    {
      "cell_type": "code",
      "source": [
        "\"K\" in \"Kaggle\"\n",
        "if \"K\" == \"a\":\n",
        "  print(\"출력이 되나요?\")\n",
        "else:\n",
        "  print(\"출력이 안됨\")"
      ],
      "metadata": {
        "id": "ahvqh4b2rYUQ"
      },
      "execution_count": null,
      "outputs": []
    },
    {
      "cell_type": "markdown",
      "source": [
        "- 리스트의 값이 존재\n",
        "- 전체 총합 구하기"
      ],
      "metadata": {
        "id": "fSPV7xWsr9tQ"
      }
    },
    {
      "cell_type": "code",
      "source": [
        "numbers =[1, 2, 3, 4, 5]\n",
        "sum = 0\n",
        "\n",
        "for num in numbers:\n",
        "  print(\"numbers:\" , num)\n",
        "  sum = sum + num\n",
        "  print(\"total:\", sum)\n",
        "\n",
        "print(\"----최종 결괏값-----\")\n",
        "print(sum)"
      ],
      "metadata": {
        "id": "xL6x3HrRsBzO"
      },
      "execution_count": null,
      "outputs": []
    },
    {
      "cell_type": "code",
      "source": [
        "fruits = ['apple', 'kiwi', 'mango']\n",
        "newlist = []\n",
        "\n",
        "# apple : a가 있나요? 있네요. newlist에 추가하세요.\n",
        "# kiwi : a가 있나요? 없네요. 그럼 넘어가요\n",
        "# mango : a가 있나요? 있네요. newlist에 추가하세요\n",
        "for fruit in fruits :\n",
        "  print(\"조건문 밖 :\" ,fruit)\n",
        "  if \"k\" in fruit:\n",
        "    print(\"조건문 안쪽:\" , fruit)\n",
        "    newlist.append(fruit)\n",
        "\n",
        "print(newlist)"
      ],
      "metadata": {
        "id": "C6giqatDtOCI"
      },
      "execution_count": null,
      "outputs": []
    },
    {
      "cell_type": "markdown",
      "source": [
        "## While Loop"
      ],
      "metadata": {
        "id": "66BohP7XvN-R"
      }
    },
    {
      "cell_type": "code",
      "source": [
        "i = 1\n",
        "while i < 10: # 참일때만 반복문 코드가 돌게 됨\n",
        "  # 코드\n",
        "  i += 1 # 1씩 증감\n",
        "  print(i)\n",
        "  #i -= 1 # 1씩 감소"
      ],
      "metadata": {
        "id": "Sf1FiwcBvXEh"
      },
      "execution_count": null,
      "outputs": []
    },
    {
      "cell_type": "code",
      "source": [
        "i = 100\n",
        "while i > 10: # 참일때만 반복문 코드가 돌게 됨\n",
        "  # 코드\n",
        "  #i += 1 # 1씩 증감\n",
        "  i -= 1 # 1씩 감소\n",
        "  print(i)"
      ],
      "metadata": {
        "id": "_AyCfTeywtMD"
      },
      "execution_count": null,
      "outputs": []
    },
    {
      "cell_type": "markdown",
      "source": [
        "## 사용자 정의 함수\n",
        "- 내가 필요에 의해 직접 함수를 작성"
      ],
      "metadata": {
        "id": "K_T2UV0AxYPW"
      }
    },
    {
      "cell_type": "code",
      "source": [
        "def 함수명(param1, param2):\n",
        "  #코드\n",
        "  return None"
      ],
      "metadata": {
        "id": "uflGWakZxfhD"
      },
      "execution_count": 33,
      "outputs": []
    },
    {
      "cell_type": "markdown",
      "source": [
        ""
      ],
      "metadata": {
        "id": "eR_CnYui2anV"
      }
    },
    {
      "cell_type": "code",
      "source": [
        "def add(a = 0, b = 1):\n",
        "   c = a + b\n",
        "   return c\n",
        "  #return a + b\n",
        "  \n",
        "\n",
        "print(add(a = 5, b = 4))\n",
        "print(add())"
      ],
      "metadata": {
        "colab": {
          "base_uri": "https://localhost:8080/"
        },
        "id": "dnZEmPVZyBxL",
        "outputId": "b5f20d31-e3d7-4e2e-9cda-cbd62efdbe66"
      },
      "execution_count": 68,
      "outputs": [
        {
          "output_type": "stream",
          "name": "stdout",
          "text": [
            "9\n",
            "1\n"
          ]
        }
      ]
    },
    {
      "cell_type": "markdown",
      "source": [
        "- 사칙연산 사용자 정의 함수 만들"
      ],
      "metadata": {
        "id": "h_6gYWeJ1LSM"
      }
    },
    {
      "cell_type": "code",
      "source": [
        "def add(a, b):\n",
        "  return a + b\n",
        "\n",
        "print(add(4,5))\n",
        "\n",
        "def abb(a, b):\n",
        "  return a - b\n",
        "\n",
        "print(abb(9,9))\n",
        "\n",
        "def aff(a, b):\n",
        "  return a * b\n",
        "\n",
        "print(aff(7,3))\n",
        "\n",
        "def car(a, b):\n",
        "  return a / b\n",
        "\n",
        "print(car(8,4))"
      ],
      "metadata": {
        "colab": {
          "base_uri": "https://localhost:8080/"
        },
        "id": "dCIUPMLn1Nr8",
        "outputId": "ccfb3381-0ac4-4550-8a8f-449c7e5f3e1d"
      },
      "execution_count": 72,
      "outputs": [
        {
          "output_type": "stream",
          "name": "stdout",
          "text": [
            "9\n",
            "0\n",
            "21\n",
            "2.0\n"
          ]
        }
      ]
    },
    {
      "cell_type": "code",
      "source": [
        "def subtract(a, b):\n",
        "  \"\"\"\n",
        "a, b를 빼는 함수\n",
        "\n",
        "Parameters:\n",
        "a (int) : int 형 숫자 a가 입력\n",
        "\n",
        "b (int) : int 형 숫자 b가 dlqfur\n",
        "\n",
        "Returns:\n",
        "  int : 반환값\n",
        "\n",
        "  \"\"\"\n",
        "  return a-b\n",
        "\n",
        "print(subtract(a = 5, b = 10))"
      ],
      "metadata": {
        "colab": {
          "base_uri": "https://localhost:8080/"
        },
        "id": "LggLl22P6upE",
        "outputId": "ac3ed6bc-0f0a-41e6-b052-1cdd61158bde"
      },
      "execution_count": 76,
      "outputs": [
        {
          "output_type": "stream",
          "name": "stdout",
          "text": [
            "-5\n"
          ]
        }
      ]
    },
    {
      "cell_type": "markdown",
      "source": [
        "## NumPy\n",
        "- 내장 모듈(=라이브러리=패키지)\n",
        "- 별도 라이브러리 설치 필요"
      ],
      "metadata": {
        "id": "YorKMD5LDsxt"
      }
    },
    {
      "cell_type": "code",
      "source": [
        "import numpy as np\n",
        "print(np.__version__)"
      ],
      "metadata": {
        "id": "1A-aIYU_EDJ9",
        "outputId": "eaca0539-df81-4ac1-e6fe-ccaa3b1d53db",
        "colab": {
          "base_uri": "https://localhost:8080/"
        }
      },
      "execution_count": 78,
      "outputs": [
        {
          "output_type": "stream",
          "name": "stdout",
          "text": [
            "1.21.6\n"
          ]
        }
      ]
    },
    {
      "cell_type": "code",
      "source": [
        "temp = [1,2,3]\n",
        "temp_array = np.array(temp) # 리스트에서 배열로 변환\n",
        "\n",
        "print(type(temp))\n",
        "print(type(temp_array))"
      ],
      "metadata": {
        "id": "M-mZIAvUER0N",
        "outputId": "29296ec5-8491-426a-a533-dc5ac4b4df9e",
        "colab": {
          "base_uri": "https://localhost:8080/"
        }
      },
      "execution_count": 80,
      "outputs": [
        {
          "output_type": "stream",
          "name": "stdout",
          "text": [
            "<class 'list'>\n",
            "<class 'numpy.ndarray'>\n"
          ]
        }
      ]
    },
    {
      "cell_type": "markdown",
      "source": [
        "## 사칙연산"
      ],
      "metadata": {
        "id": "HpauzbRWEkXj"
      }
    },
    {
      "cell_type": "code",
      "source": [
        "math_score = [90, 80, 100]\n",
        "eng_score = [80, 90, 100]\n",
        "\n",
        "# math_score + eng_score\n",
        "math_score = np.array(math_score)\n",
        "eng_score = np.array(eng_score)\n",
        "\n",
        "total = math_array + eng_array\n",
        "print(total)\n",
        "print(type(total))\n"
      ],
      "metadata": {
        "id": "KciglOxCEkG9",
        "outputId": "e6f652df-9027-4723-ff90-b9ea259f2b1b",
        "colab": {
          "base_uri": "https://localhost:8080/",
          "height": 248
        }
      },
      "execution_count": 89,
      "outputs": [
        {
          "output_type": "error",
          "ename": "NameError",
          "evalue": "ignored",
          "traceback": [
            "\u001b[0;31m---------------------------------------------------------------------------\u001b[0m",
            "\u001b[0;31mNameError\u001b[0m                                 Traceback (most recent call last)",
            "\u001b[0;32m<ipython-input-89-e706c772faaa>\u001b[0m in \u001b[0;36m<module>\u001b[0;34m()\u001b[0m\n\u001b[1;32m      6\u001b[0m \u001b[0meng_score\u001b[0m \u001b[0;34m=\u001b[0m \u001b[0mnp\u001b[0m\u001b[0;34m.\u001b[0m\u001b[0marray\u001b[0m\u001b[0;34m(\u001b[0m\u001b[0meng_score\u001b[0m\u001b[0;34m)\u001b[0m\u001b[0;34m\u001b[0m\u001b[0;34m\u001b[0m\u001b[0m\n\u001b[1;32m      7\u001b[0m \u001b[0;34m\u001b[0m\u001b[0m\n\u001b[0;32m----> 8\u001b[0;31m \u001b[0mtotal\u001b[0m \u001b[0;34m=\u001b[0m \u001b[0mmath_array\u001b[0m \u001b[0;34m+\u001b[0m \u001b[0meng_array\u001b[0m\u001b[0;34m\u001b[0m\u001b[0;34m\u001b[0m\u001b[0m\n\u001b[0m\u001b[1;32m      9\u001b[0m \u001b[0mprint\u001b[0m\u001b[0;34m(\u001b[0m\u001b[0mtotal\u001b[0m\u001b[0;34m)\u001b[0m\u001b[0;34m\u001b[0m\u001b[0;34m\u001b[0m\u001b[0m\n\u001b[1;32m     10\u001b[0m \u001b[0mprint\u001b[0m\u001b[0;34m(\u001b[0m\u001b[0mtype\u001b[0m\u001b[0;34m(\u001b[0m\u001b[0mtotal\u001b[0m\u001b[0;34m)\u001b[0m\u001b[0;34m)\u001b[0m\u001b[0;34m\u001b[0m\u001b[0;34m\u001b[0m\u001b[0m\n",
            "\u001b[0;31mNameError\u001b[0m: name 'math_array' is not defined"
          ]
        }
      ]
    },
    {
      "cell_type": "markdown",
      "source": [
        "## 집계함수"
      ],
      "metadata": {
        "id": "UB-bsVscFhf8"
      }
    },
    {
      "cell_type": "code",
      "source": [
        "print(np.min(total))\n",
        "print(np.max(total))\n",
        "print(np.sum(total))"
      ],
      "metadata": {
        "id": "s8_h6IkLFjT8",
        "outputId": "6dec6480-044f-4647-850e-4632ebcb61c9",
        "colab": {
          "base_uri": "https://localhost:8080/",
          "height": 211
        }
      },
      "execution_count": 88,
      "outputs": [
        {
          "output_type": "error",
          "ename": "NameError",
          "evalue": "ignored",
          "traceback": [
            "\u001b[0;31m---------------------------------------------------------------------------\u001b[0m",
            "\u001b[0;31mNameError\u001b[0m                                 Traceback (most recent call last)",
            "\u001b[0;32m<ipython-input-88-3d5abd469337>\u001b[0m in \u001b[0;36m<module>\u001b[0;34m()\u001b[0m\n\u001b[0;32m----> 1\u001b[0;31m \u001b[0mprint\u001b[0m\u001b[0;34m(\u001b[0m\u001b[0mnp\u001b[0m\u001b[0;34m.\u001b[0m\u001b[0mmin\u001b[0m\u001b[0;34m(\u001b[0m\u001b[0mtotal\u001b[0m\u001b[0;34m)\u001b[0m\u001b[0;34m)\u001b[0m\u001b[0;34m\u001b[0m\u001b[0;34m\u001b[0m\u001b[0m\n\u001b[0m\u001b[1;32m      2\u001b[0m \u001b[0mprint\u001b[0m\u001b[0;34m(\u001b[0m\u001b[0mnp\u001b[0m\u001b[0;34m.\u001b[0m\u001b[0mmax\u001b[0m\u001b[0;34m(\u001b[0m\u001b[0mtotal\u001b[0m\u001b[0;34m)\u001b[0m\u001b[0;34m)\u001b[0m\u001b[0;34m\u001b[0m\u001b[0;34m\u001b[0m\u001b[0m\n\u001b[1;32m      3\u001b[0m \u001b[0mprint\u001b[0m\u001b[0;34m(\u001b[0m\u001b[0mnp\u001b[0m\u001b[0;34m.\u001b[0m\u001b[0msum\u001b[0m\u001b[0;34m(\u001b[0m\u001b[0mtotal\u001b[0m\u001b[0;34m)\u001b[0m\u001b[0;34m)\u001b[0m\u001b[0;34m\u001b[0m\u001b[0;34m\u001b[0m\u001b[0m\n",
            "\u001b[0;31mNameError\u001b[0m: name 'total' is not defined"
          ]
        }
      ]
    },
    {
      "cell_type": "markdown",
      "source": [
        "## 차원 확인\n",
        "- 배열의 차원 확인 필요\n",
        "- "
      ],
      "metadata": {
        "id": "YempkgXOF5BN"
      }
    },
    {
      "cell_type": "code",
      "source": [
        "# 1차원 배열 생성\n",
        "temp_arr = np.array([1, 2, 3])\n",
        "print(temp_arr.shape)\n",
        "print(temp_arr.ndim)\n",
        "print(temp_arr)"
      ],
      "metadata": {
        "id": "Ts5OQ1ABF9Nz"
      },
      "execution_count": null,
      "outputs": []
    },
    {
      "cell_type": "code",
      "source": [
        "# 2차원 배열 생성\n",
        "temp_arr = np.array([[1,2,3], [4,5,6]])\n",
        "print(temp_arr.shape)\n",
        "print(temp_arr.ndim)\n",
        "print(temp_arr)"
      ],
      "metadata": {
        "id": "vnrifbS3GacM"
      },
      "execution_count": null,
      "outputs": []
    },
    {
      "cell_type": "code",
      "source": [
        "# 3차원 배열 -> 이미지\n",
        "temp_arr = np.array([[[1,2,3], [4,5,6]], [[7,8,9], [10,11,12]]])\n",
        "print(temp_arr.shape)\n",
        "print(temp_arr.ndim)\n",
        "print(temp_arr)"
      ],
      "metadata": {
        "id": "Z7b-CIV_HW3l"
      },
      "execution_count": null,
      "outputs": []
    },
    {
      "cell_type": "markdown",
      "source": [
        "## 배열 생성의 다양한 방법들\n",
        "- 모두 0으로 채운다.\n"
      ],
      "metadata": {
        "id": "XLINCUK9r_iF"
      }
    },
    {
      "cell_type": "code",
      "source": [
        "import numpy as np\n",
        "print(np.__version__)"
      ],
      "metadata": {
        "id": "zk9PrPqXsEOM",
        "outputId": "4cc10e9c-c1ba-4517-e79e-81c0994e716a",
        "colab": {
          "base_uri": "https://localhost:8080/"
        }
      },
      "execution_count": 2,
      "outputs": [
        {
          "output_type": "stream",
          "name": "stdout",
          "text": [
            "1.21.6\n"
          ]
        }
      ]
    },
    {
      "cell_type": "code",
      "source": [
        "temp_arr = np.ones((2, 3))\n",
        "temp_arr"
      ],
      "metadata": {
        "id": "VWQiXDJ2sbCG",
        "outputId": "63290927-33ab-4193-8979-abd3b8cf2787",
        "colab": {
          "base_uri": "https://localhost:8080/"
        }
      },
      "execution_count": 6,
      "outputs": [
        {
          "output_type": "execute_result",
          "data": {
            "text/plain": [
              "array([[1., 1., 1.],\n",
              "       [1., 1., 1.]])"
            ]
          },
          "metadata": {},
          "execution_count": 6
        }
      ]
    },
    {
      "cell_type": "markdown",
      "source": [
        "- 임의의 상수값으로 채운다."
      ],
      "metadata": {
        "id": "SQjvAkpLs0BW"
      }
    },
    {
      "cell_type": "code",
      "source": [
        "temp_arr = np.full((3,3),100)\n",
        "temp_arr"
      ],
      "metadata": {
        "id": "44FCfUm3s2im",
        "outputId": "6efafe6c-ce09-4641-99d3-e58a21e06f0b",
        "colab": {
          "base_uri": "https://localhost:8080/"
        }
      },
      "execution_count": 8,
      "outputs": [
        {
          "output_type": "execute_result",
          "data": {
            "text/plain": [
              "array([[100, 100, 100],\n",
              "       [100, 100, 100],\n",
              "       [100, 100, 100]])"
            ]
          },
          "metadata": {},
          "execution_count": 8
        }
      ]
    },
    {
      "cell_type": "markdown",
      "source": [
        "- 최소, 최대 숫자의 범위를 정해두고, 각 구간별로 값을 생성"
      ],
      "metadata": {
        "id": "JDVXJWdCtZL-"
      }
    },
    {
      "cell_type": "code",
      "source": [
        "temp_arr = np.linspace(5, 10, 10)\n",
        "temp_arr"
      ],
      "metadata": {
        "id": "VLjaH-0htdmd",
        "outputId": "e90c0b98-40cf-477e-d74c-035f91fa1849",
        "colab": {
          "base_uri": "https://localhost:8080/"
        }
      },
      "execution_count": 9,
      "outputs": [
        {
          "output_type": "execute_result",
          "data": {
            "text/plain": [
              "array([ 5.        ,  5.55555556,  6.11111111,  6.66666667,  7.22222222,\n",
              "        7.77777778,  8.33333333,  8.88888889,  9.44444444, 10.        ])"
            ]
          },
          "metadata": {},
          "execution_count": 9
        }
      ]
    },
    {
      "cell_type": "markdown",
      "source": [
        "- 반복문 시, 자주 등장하는 배열"
      ],
      "metadata": {
        "id": "bBXRZsz6trXe"
      }
    },
    {
      "cell_type": "code",
      "source": [
        "temp_arr = np.arange(1, 11, 1)\n",
        "temp_arr"
      ],
      "metadata": {
        "id": "ebm27ZsHt15Y",
        "outputId": "ef3f0df6-1282-48a8-c8f9-2616f92500be",
        "colab": {
          "base_uri": "https://localhost:8080/"
        }
      },
      "execution_count": 10,
      "outputs": [
        {
          "output_type": "execute_result",
          "data": {
            "text/plain": [
              "array([ 1,  2,  3,  4,  5,  6,  7,  8,  9, 10])"
            ]
          },
          "metadata": {},
          "execution_count": 10
        }
      ]
    },
    {
      "cell_type": "markdown",
      "source": [
        "## 난수 생성"
      ],
      "metadata": {
        "id": "1ckljQFUuBwu"
      }
    },
    {
      "cell_type": "code",
      "source": [
        "from numpy import random\n",
        "x = random.rand()\n",
        "print(x)"
      ],
      "metadata": {
        "id": "QnYKfQa_uEtf",
        "outputId": "23f28a15-adb7-4e08-db22-68f6eaa5959a",
        "colab": {
          "base_uri": "https://localhost:8080/"
        }
      },
      "execution_count": 17,
      "outputs": [
        {
          "output_type": "stream",
          "name": "stdout",
          "text": [
            "0.6680686208892246\n"
          ]
        }
      ]
    },
    {
      "cell_type": "code",
      "source": [
        "import numpy\n",
        "x = numpy.random.rand()\n",
        "print(x)"
      ],
      "metadata": {
        "id": "k9DOcC-sun_u",
        "outputId": "e58e9683-a820-46e0-ab73-0f5ee126b9bb",
        "colab": {
          "base_uri": "https://localhost:8080/"
        }
      },
      "execution_count": 18,
      "outputs": [
        {
          "output_type": "stream",
          "name": "stdout",
          "text": [
            "0.899287401044804\n"
          ]
        }
      ]
    },
    {
      "cell_type": "markdown",
      "source": [
        "- 랜덤 정수값 추"
      ],
      "metadata": {
        "id": "j073mafbvKdX"
      }
    },
    {
      "cell_type": "code",
      "source": [
        "from numpy import random\n",
        "x = random.randint(100, size = (5))\n",
        "print(x)\n",
        "print(type(x))"
      ],
      "metadata": {
        "id": "Qzi_giY_vNk1",
        "outputId": "a9881d61-a61a-4b57-acac-2cc71111e578",
        "colab": {
          "base_uri": "https://localhost:8080/"
        }
      },
      "execution_count": 26,
      "outputs": [
        {
          "output_type": "stream",
          "name": "stdout",
          "text": [
            "[13 88 34  1 97]\n",
            "<class 'numpy.ndarray'>\n"
          ]
        }
      ]
    },
    {
      "cell_type": "markdown",
      "source": [
        "- 랜던 배열, 실숫값 추출"
      ],
      "metadata": {
        "id": "3Oj65WKGvvrX"
      }
    },
    {
      "cell_type": "code",
      "source": [
        "from numpy import random\n",
        "x = random.rand(2, 5)\n",
        "print(x)\n",
        "print(type(x))"
      ],
      "metadata": {
        "id": "l3mUNhQZv5tf",
        "outputId": "bbb6642b-38f0-4a26-b7c5-f97b1964a6c8",
        "colab": {
          "base_uri": "https://localhost:8080/"
        }
      },
      "execution_count": 28,
      "outputs": [
        {
          "output_type": "stream",
          "name": "stdout",
          "text": [
            "[[0.95995604 0.07848514 0.88021415 0.68953379 0.56988889]\n",
            " [0.65402798 0.30885682 0.13766482 0.17967603 0.7091518 ]]\n",
            "<class 'numpy.ndarray'>\n"
          ]
        }
      ]
    },
    {
      "cell_type": "markdown",
      "source": [
        "## NumPy 사칙 연산"
      ],
      "metadata": {
        "id": "8c0VRE5NwNDP"
      }
    },
    {
      "cell_type": "code",
      "source": [
        "import numpy as np\n",
        "array_01 = np.array([1, 2, 3])\n",
        "array_02 = np.array([10, 20, 30])\n"
      ],
      "metadata": {
        "id": "mdB6067FwQme"
      },
      "execution_count": 30,
      "outputs": []
    },
    {
      "cell_type": "code",
      "source": [
        "# 덧셈\n",
        "newArr = np.add(array_01, array_02)\n",
        "print(newArr)\n",
        "# 뺄셈\n",
        "newArr = np.subtract(array_01, array_02)\n",
        "print(newArr)\n",
        "# 곱셈\n",
        "newArr = np.multiply(array_01, array_02)\n",
        "print(newArr)\n",
        "# 나눗셈\n",
        "newArr = np.divide(array_01, array_02)\n",
        "print(newArr)\n",
        "# 거듭제곱\n",
        "array_01 = np.array([1, 2, 3])\n",
        "array_02 = np.array([2, 4, 2])\n",
        "newArr = np.power(array_01, array_02)\n",
        "print(newArr)"
      ],
      "metadata": {
        "id": "lmQ8Na9MwdaH",
        "outputId": "87b435ca-9ccd-4341-eb91-035978f3f087",
        "colab": {
          "base_uri": "https://localhost:8080/"
        }
      },
      "execution_count": 33,
      "outputs": [
        {
          "output_type": "stream",
          "name": "stdout",
          "text": [
            "[3 6 5]\n",
            "[-1 -2  1]\n",
            "[2 8 6]\n",
            "[0.5 0.5 1.5]\n",
            "[ 1 16  9]\n"
          ]
        }
      ]
    },
    {
      "cell_type": "markdown",
      "source": [
        "## 소숫점 정렬\n",
        "- 소숫점을 정렬하는 다양한 방법"
      ],
      "metadata": {
        "id": "JPpLqJV3xz74"
      }
    },
    {
      "cell_type": "code",
      "source": [
        "# 소숫점 제거\n",
        "import numpy as np\n",
        "temp_arr = np.trunc([-1.23, 1.23])\n",
        "print(temp_arr)\n",
        "\n",
        "temp_arr = np.fix[-1.23, 1.23])\n",
        "print(temp_arr)"
      ],
      "metadata": {
        "id": "Tsfod4z5x4ZA",
        "outputId": "3552c5b5-bc29-4cac-dffe-915bbcb03d12",
        "colab": {
          "base_uri": "https://localhost:8080/",
          "height": 137
        }
      },
      "execution_count": 50,
      "outputs": [
        {
          "output_type": "error",
          "ename": "SyntaxError",
          "evalue": "ignored",
          "traceback": [
            "\u001b[0;36m  File \u001b[0;32m\"<ipython-input-50-011f88aa9ed6>\"\u001b[0;36m, line \u001b[0;32m6\u001b[0m\n\u001b[0;31m    temp_arr = np.fix[-1.23, 1.23])\u001b[0m\n\u001b[0m                                  ^\u001b[0m\n\u001b[0;31mSyntaxError\u001b[0m\u001b[0;31m:\u001b[0m invalid syntax\n"
          ]
        }
      ]
    },
    {
      "cell_type": "code",
      "source": [
        "# 임의의 소숫점 자리에서 반올림\n",
        "temp_arr = np.around([-1.234546123, 1.238791631], 5)\n",
        "print(temp_arr)"
      ],
      "metadata": {
        "id": "s1qJ8Ynoy1fa",
        "outputId": "5349599a-1d79-429d-ed5c-bad432e487dd",
        "colab": {
          "base_uri": "https://localhost:8080/"
        }
      },
      "execution_count": 36,
      "outputs": [
        {
          "output_type": "stream",
          "name": "stdout",
          "text": [
            "[-1.23455  1.23879]\n"
          ]
        }
      ]
    },
    {
      "cell_type": "code",
      "source": [
        "# 소숫점 모두 내림\n",
        "temp_arr"
      ],
      "metadata": {
        "id": "oAf-cSvjy1UD"
      },
      "execution_count": null,
      "outputs": []
    },
    {
      "cell_type": "markdown",
      "source": [
        "- pan"
      ],
      "metadata": {
        "id": "H85IG6C14331"
      }
    },
    {
      "cell_type": "code",
      "source": [
        "temp_arr = np.arange(10)\n",
        "temp_arr"
      ],
      "metadata": {
        "id": "FY6trYdJ3_NT",
        "outputId": "779d91ab-29d5-4a85-e2ee-99ce24bea686",
        "colab": {
          "base_uri": "https://localhost:8080/"
        }
      },
      "execution_count": 37,
      "outputs": [
        {
          "output_type": "execute_result",
          "data": {
            "text/plain": [
              "array([0, 1, 2, 3, 4, 5, 6, 7, 8, 9])"
            ]
          },
          "metadata": {},
          "execution_count": 37
        }
      ]
    },
    {
      "cell_type": "code",
      "source": [
        "# 5보다 작으면 원 값 유지\n",
        "# 5보다 크면 곱하기 10을 해줌"
      ],
      "metadata": {
        "id": "TK2bXyLH4F-N"
      },
      "execution_count": null,
      "outputs": []
    },
    {
      "cell_type": "code",
      "source": [
        "# np.where(조건식, 참일 때, 거짓일 때)\n",
        "np.where(temp_arr < 5, temp_arr, temp_arr * 10)"
      ],
      "metadata": {
        "id": "XAgyYdTA4Nur",
        "outputId": "141b9031-b8c0-4e7c-a4a7-29281379841d",
        "colab": {
          "base_uri": "https://localhost:8080/"
        }
      },
      "execution_count": 39,
      "outputs": [
        {
          "output_type": "execute_result",
          "data": {
            "text/plain": [
              "array([ 0,  1,  2,  3,  4, 50, 60, 70, 80, 90])"
            ]
          },
          "metadata": {},
          "execution_count": 39
        }
      ]
    },
    {
      "cell_type": "code",
      "source": [
        "temp_arr = np.arange(10)\n",
        "# temp_arr\n",
        "cond_list = [temp_arr > 5, temp_arr <2]\n",
        "choice_list = [temp_arr * 2, temp_arr +100]\n",
        "\n",
        "# np.select(조건식 리스트, 결괏값 리스트, default =)\n",
        "np.select(cond_list, choice_list, default = temp_arr)"
      ],
      "metadata": {
        "id": "KeChGUVQ5I1F",
        "outputId": "f278290a-1c5e-42c2-bb46-ff13e191c819",
        "colab": {
          "base_uri": "https://localhost:8080/"
        }
      },
      "execution_count": 42,
      "outputs": [
        {
          "output_type": "execute_result",
          "data": {
            "text/plain": [
              "array([100, 101,   2,   3,   4,   5,  12,  14,  16,  18])"
            ]
          },
          "metadata": {},
          "execution_count": 42
        }
      ]
    },
    {
      "cell_type": "markdown",
      "source": [
        "## Reshape\n",
        "- 배열의 차원 또는 크기를 바꾼다.\n",
        "- 곱셈만 할줄 알면 끝."
      ],
      "metadata": {
        "id": "iTHVYNRv6Z_b"
      }
    },
    {
      "cell_type": "code",
      "source": [
        "import numpy as np\n",
        "temp_array = np.ones((5, 4))\n",
        "print(temp_array.shape)\n",
        "print(temp_array)"
      ],
      "metadata": {
        "id": "0Yh9obby6nck",
        "outputId": "d430807f-c507-4c1b-f729-f0e07f8319dc",
        "colab": {
          "base_uri": "https://localhost:8080/"
        }
      },
      "execution_count": 47,
      "outputs": [
        {
          "output_type": "stream",
          "name": "stdout",
          "text": [
            "(5, 4)\n",
            "[[1. 1. 1. 1.]\n",
            " [1. 1. 1. 1.]\n",
            " [1. 1. 1. 1.]\n",
            " [1. 1. 1. 1.]\n",
            " [1. 1. 1. 1.]]\n"
          ]
        }
      ]
    },
    {
      "cell_type": "code",
      "source": [
        "after_reshape = temp_array.reshape(2, 2, -1)\n",
        "print(after_reshape.shape)\n",
        "print(after_reshape)"
      ],
      "metadata": {
        "id": "I4SntUni65fU",
        "outputId": "dde453a9-87f9-4de7-cfec-8d9b226db134",
        "colab": {
          "base_uri": "https://localhost:8080/"
        }
      },
      "execution_count": 49,
      "outputs": [
        {
          "output_type": "stream",
          "name": "stdout",
          "text": [
            "(2, 2, 5)\n",
            "[[[1. 1. 1. 1. 1.]\n",
            "  [1. 1. 1. 1. 1.]]\n",
            "\n",
            " [[1. 1. 1. 1. 1.]\n",
            "  [1. 1. 1. 1. 1.]]]\n"
          ]
        }
      ]
    },
    {
      "cell_type": "markdown",
      "source": [
        "# 브로드 캐스팅"
      ],
      "metadata": {
        "id": "OLG3nhs68TRl"
      }
    }
  ]
}