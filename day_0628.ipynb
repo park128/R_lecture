{
  "nbformat": 4,
  "nbformat_minor": 0,
  "metadata": {
    "colab": {
      "name": "day_0628.ipynb",
      "provenance": [],
      "include_colab_link": true
    },
    "kernelspec": {
      "name": "python3",
      "display_name": "Python 3"
    },
    "language_info": {
      "name": "python"
    }
  },
  "cells": [
    {
      "cell_type": "markdown",
      "metadata": {
        "id": "view-in-github",
        "colab_type": "text"
      },
      "source": [
        "<a href=\"https://colab.research.google.com/github/park128/R_lecture/blob/main/day_0628.ipynb\" target=\"_parent\"><img src=\"https://colab.research.google.com/assets/colab-badge.svg\" alt=\"Open In Colab\"/></a>"
      ]
    },
    {
      "cell_type": "markdown",
      "source": [
        "## 반복문 복습\n",
        "- for loop and while loop"
      ],
      "metadata": {
        "id": "MXPT9R0bptlw"
      }
    },
    {
      "cell_type": "code",
      "execution_count": null,
      "metadata": {
        "colab": {
          "base_uri": "https://localhost:8080/"
        },
        "id": "DkQCtCmMnsBL",
        "outputId": "04ba6c02-2e24-4494-faca-17ee3b785316"
      },
      "outputs": [
        {
          "output_type": "stream",
          "name": "stdout",
          "text": [
            "Hello World\n",
            "안녕하세요\n",
            "Hello World\n",
            "안녕하세요\n",
            "Hello World\n",
            "안녕하세요\n"
          ]
        }
      ],
      "source": [
        "for i in range(3):\n",
        "  print(\"Hello World\")\n",
        "  print(\"안녕하세요\")"
      ]
    },
    {
      "cell_type": "code",
      "source": [
        "# \"K\" in \"Kaggle\"\n",
        "if \"K\" == \"a\":\n",
        "  print(\"출력이 되나요?\")\n",
        "else: \n",
        "  print(\"출력이 안된듯\")\n"
      ],
      "metadata": {
        "colab": {
          "base_uri": "https://localhost:8080/"
        },
        "id": "eRSUGNe5rHrq",
        "outputId": "7704be2b-ffd9-4923-ffac-91fca93be03d"
      },
      "execution_count": null,
      "outputs": [
        {
          "output_type": "stream",
          "name": "stdout",
          "text": [
            "출력이 안된듯\n"
          ]
        }
      ]
    },
    {
      "cell_type": "code",
      "source": [
        "a = \"Kaggle\"\n",
        "\n",
        "for i in a:\n",
        "  print(i)\n",
        "  if i == \"a\":\n",
        "    break"
      ],
      "metadata": {
        "colab": {
          "base_uri": "https://localhost:8080/"
        },
        "id": "1P1-9ow8qNEW",
        "outputId": "cedb49c2-a4ab-473c-d504-66fc519f29c0"
      },
      "execution_count": null,
      "outputs": [
        {
          "output_type": "stream",
          "name": "stdout",
          "text": [
            "K\n",
            "a\n"
          ]
        }
      ]
    },
    {
      "cell_type": "markdown",
      "source": [
        "- 리스트의 값이 존재\n",
        "- 전체 총합 구하기\n"
      ],
      "metadata": {
        "id": "mq4SAiJtr5jD"
      }
    },
    {
      "cell_type": "code",
      "source": [
        "numbers = [1, 2, 3, 4, 5]\n",
        "sum = 0\n",
        "\n",
        "for num in numbers:\n",
        "  print(\"numbers: \", num)\n",
        "  sum = sum + num \n",
        "  print(\"total:\", sum)\n",
        "\n",
        "print(\"----최종 결괏값----\")\n",
        "print(sum)"
      ],
      "metadata": {
        "colab": {
          "base_uri": "https://localhost:8080/"
        },
        "id": "a1dLgWZtr-tH",
        "outputId": "bb6f2689-4d79-40df-9f80-d107fe0a6dc4"
      },
      "execution_count": null,
      "outputs": [
        {
          "output_type": "stream",
          "name": "stdout",
          "text": [
            "numbers:  1\n",
            "total: 1\n",
            "numbers:  2\n",
            "total: 3\n",
            "numbers:  3\n",
            "total: 6\n",
            "numbers:  4\n",
            "total: 10\n",
            "numbers:  5\n",
            "total: 15\n",
            "----최종 결괏값----\n",
            "15\n"
          ]
        }
      ]
    },
    {
      "cell_type": "code",
      "source": [
        "fruits = ['apple', 'kiwi', 'mango']\n",
        "newlist = []\n",
        "\n",
        "# apple : a가 있나요? 있네요, newlist에 추가하세요. \n",
        "# kiwi : a가 있나요? 없네요. 그럼 넘어가요\n",
        "# mango : a가 있나요? 있네요. newlist에 추가하세요. \n",
        "for fruit in fruits:\n",
        "  print(\"조건문 밖 : \", fruit)\n",
        "  if \"a\" in fruit:\n",
        "    print(\"조건문 안쪽 : \", fruit)\n",
        "    newlist.append(fruit)\n",
        "\n",
        "print(newlist)"
      ],
      "metadata": {
        "colab": {
          "base_uri": "https://localhost:8080/"
        },
        "id": "0rUunpV9tLIQ",
        "outputId": "3b99703f-c300-469b-a78f-78db2dcfbe18"
      },
      "execution_count": null,
      "outputs": [
        {
          "output_type": "stream",
          "name": "stdout",
          "text": [
            "조건문 밖 :  apple\n",
            "조건문 안쪽 :  apple\n",
            "조건문 밖 :  kiwi\n",
            "조건문 밖 :  mango\n",
            "조건문 안쪽 :  mango\n",
            "['apple', 'mango']\n"
          ]
        }
      ]
    },
    {
      "cell_type": "markdown",
      "source": [
        "### While Loop"
      ],
      "metadata": {
        "id": "w-f4nCHwvIju"
      }
    },
    {
      "cell_type": "markdown",
      "source": [
        "while문 : 분석할 때? 거의 쓸일이 없음\n"
      ],
      "metadata": {
        "id": "-O0zLO4Qwo9a"
      }
    },
    {
      "cell_type": "code",
      "source": [
        "i = 1\n",
        "while i < 10: # 참일때만 반복문 코드가 돔\n",
        "  # 코드\n",
        "  print(i)\n",
        "  i += 1 # 1씩 증감\n",
        "  # i -= 1 # 1씩 감소"
      ],
      "metadata": {
        "colab": {
          "base_uri": "https://localhost:8080/"
        },
        "id": "wVJGpe2qvLVc",
        "outputId": "ee7972c9-7820-489d-c8fd-7f8f03d49a89"
      },
      "execution_count": null,
      "outputs": [
        {
          "output_type": "stream",
          "name": "stdout",
          "text": [
            "1\n",
            "2\n",
            "3\n",
            "4\n",
            "5\n",
            "6\n",
            "7\n",
            "8\n",
            "9\n"
          ]
        }
      ]
    },
    {
      "cell_type": "markdown",
      "source": [
        "## 사용자 정의 함수\n",
        "- 내가 필요에 의해 직접 함수를 작성\n"
      ],
      "metadata": {
        "id": "hgEqXixjxT49"
      }
    },
    {
      "cell_type": "code",
      "source": [
        "def 함수명(param1, param2):\n",
        "  # 코드 \n",
        "  return None"
      ],
      "metadata": {
        "id": "QE41_p9Nxb0F"
      },
      "execution_count": null,
      "outputs": []
    },
    {
      "cell_type": "code",
      "source": [
        "def add(a = 0, b = 1):\n",
        "  # c = a + b \n",
        "  # return c\n",
        "  return a + b\n",
        "\n",
        "print(add(a = 5, b = 4))\n",
        "print(add())"
      ],
      "metadata": {
        "colab": {
          "base_uri": "https://localhost:8080/"
        },
        "id": "Vf2hxRgDxjnc",
        "outputId": "1d083ba3-cab8-46a4-c3fd-b96226b2803f"
      },
      "execution_count": null,
      "outputs": [
        {
          "output_type": "stream",
          "name": "stdout",
          "text": [
            "9\n",
            "1\n"
          ]
        }
      ]
    },
    {
      "cell_type": "markdown",
      "source": [
        "- 사칙연산 사용자 정의 함수 만들기\n",
        "- 함수 문서화\n",
        "  + 키워드 : Docstring"
      ],
      "metadata": {
        "id": "jYEWEw9b046l"
      }
    },
    {
      "cell_type": "code",
      "source": [
        "def subtract(a, b):\n",
        "  \"\"\"a, b를 빼는 함수\n",
        "\n",
        "  Parameters:\n",
        "  a (int): int형 숫자 a가 입력\n",
        "  \n",
        "  b (int): int형 숫자 b가 입력\n",
        "\n",
        "  Returns:\n",
        "    int : 반환값\n",
        "  \"\"\"\n",
        "  return a-b\n",
        "\n",
        "print(subtract(a = 5, b = 10))\n",
        "print(subtract.__doc__)"
      ],
      "metadata": {
        "colab": {
          "base_uri": "https://localhost:8080/"
        },
        "id": "nqRZVIGwxSJz",
        "outputId": "673334bb-f33b-4da8-dfca-9499078b54f1"
      },
      "execution_count": null,
      "outputs": [
        {
          "output_type": "stream",
          "name": "stdout",
          "text": [
            "-5\n",
            "a, b를 빼는 함수\n",
            "\n",
            "  Parameters:\n",
            "  a (int): int형 숫자 a가 입력\n",
            "  \n",
            "  b (int): int형 숫자 b가 입력\n",
            "\n",
            "  Returns:\n",
            "    int : 반환값\n",
            "\n",
            "  \n"
          ]
        }
      ]
    },
    {
      "cell_type": "markdown",
      "source": [
        "## NumPy\n",
        "- 내장 모듈(=라이브러리=패키지) (X)\n",
        "- 별도 라이브러리 설치 필요"
      ],
      "metadata": {
        "id": "QYeIwt-39UCo"
      }
    },
    {
      "cell_type": "code",
      "source": [
        "import numpy as np\n",
        "print(np.__version__)"
      ],
      "metadata": {
        "colab": {
          "base_uri": "https://localhost:8080/"
        },
        "id": "Kel5LBMBD4Gq",
        "outputId": "5053885d-5be0-4315-894b-3bde5b2f589d"
      },
      "execution_count": null,
      "outputs": [
        {
          "output_type": "stream",
          "name": "stdout",
          "text": [
            "1.21.6\n"
          ]
        }
      ]
    },
    {
      "cell_type": "code",
      "source": [
        "temp = [1, 2, 3]\n",
        "temp_array = np.array(temp) # 리스트에서 배열로 변환\n",
        "\n",
        "print(type(temp))\n",
        "print(type(temp_array))"
      ],
      "metadata": {
        "colab": {
          "base_uri": "https://localhost:8080/"
        },
        "id": "cQKtdXmYELyE",
        "outputId": "72afb3e7-661e-4881-d959-5f5d82e30a6e"
      },
      "execution_count": null,
      "outputs": [
        {
          "output_type": "stream",
          "name": "stdout",
          "text": [
            "<class 'list'>\n",
            "<class 'numpy.ndarray'>\n"
          ]
        }
      ]
    },
    {
      "cell_type": "markdown",
      "source": [
        "## 사칙연산"
      ],
      "metadata": {
        "id": "X2LlPxS4EfC2"
      }
    },
    {
      "cell_type": "code",
      "source": [
        "math_score = [90, 80, 100, 60]\n",
        "eng_score = [80, 90, 100, 50]\n",
        "\n",
        "# math_score + eng_score\n",
        "math_array = np.array(math_score)\n",
        "eng_array = np.array(eng_score)\n",
        "\n",
        "total = math_array + eng_array\n",
        "print(total)\n",
        "print(type(total))"
      ],
      "metadata": {
        "colab": {
          "base_uri": "https://localhost:8080/"
        },
        "id": "z78FeKRqEdWB",
        "outputId": "4a3fa572-75ac-4fbb-b66d-8cfd24dbb345"
      },
      "execution_count": null,
      "outputs": [
        {
          "output_type": "stream",
          "name": "stdout",
          "text": [
            "[170 170 200 110]\n",
            "<class 'numpy.ndarray'>\n"
          ]
        }
      ]
    },
    {
      "cell_type": "markdown",
      "source": [
        "## 집계함수"
      ],
      "metadata": {
        "id": "_61fI5_3FZBt"
      }
    },
    {
      "cell_type": "code",
      "source": [
        "print(np.min(total))\n",
        "print(np.max(total))\n",
        "print(np.sum(total))"
      ],
      "metadata": {
        "colab": {
          "base_uri": "https://localhost:8080/"
        },
        "id": "EWqwuwSyFbi4",
        "outputId": "b8b4be9c-2cab-4708-ae90-962f80875d54"
      },
      "execution_count": null,
      "outputs": [
        {
          "output_type": "stream",
          "name": "stdout",
          "text": [
            "110\n",
            "200\n",
            "650\n"
          ]
        }
      ]
    },
    {
      "cell_type": "markdown",
      "source": [
        "## 차원 확인\n",
        "- 배열의 차원 확인 필요\n",
        "- "
      ],
      "metadata": {
        "id": "N-xRvdV8Fx9o"
      }
    },
    {
      "cell_type": "code",
      "source": [
        "# 1차원 배열 생성\n",
        "temp_arr = np.array([1, 2, 3])\n",
        "print(temp_arr.shape)\n",
        "print(temp_arr.ndim)\n",
        "print(temp_arr)"
      ],
      "metadata": {
        "colab": {
          "base_uri": "https://localhost:8080/"
        },
        "id": "cGwTt3Q3F5xJ",
        "outputId": "acf2faba-1b76-4dc8-94e4-10a8267a9557"
      },
      "execution_count": null,
      "outputs": [
        {
          "output_type": "stream",
          "name": "stdout",
          "text": [
            "(3,)\n",
            "1\n",
            "[1 2 3]\n"
          ]
        }
      ]
    },
    {
      "cell_type": "code",
      "source": [
        "# 2차원 배열 생성\n",
        "temp_arr = np.array([[1, 2, 3], [4, 5, 6]])\n",
        "print(temp_arr.shape)\n",
        "print(temp_arr.ndim)\n",
        "print(temp_arr)"
      ],
      "metadata": {
        "colab": {
          "base_uri": "https://localhost:8080/"
        },
        "id": "-buOq8YcGU55",
        "outputId": "561ef249-b6d1-4e69-f65f-17ff0fdd80a6"
      },
      "execution_count": null,
      "outputs": [
        {
          "output_type": "stream",
          "name": "stdout",
          "text": [
            "(2, 3)\n",
            "2\n",
            "[[1 2 3]\n",
            " [4 5 6]]\n"
          ]
        }
      ]
    },
    {
      "cell_type": "code",
      "source": [
        "# 3차원 배열 -> 이미지\n",
        "temp_arr = np.array([[[1, 2, 3], [4, 5, 6]], [[7, 8, 9], [10, 11, 12]]])\n",
        "print(temp_arr.shape)\n",
        "print(temp_arr.ndim)\n",
        "print(temp_arr)"
      ],
      "metadata": {
        "colab": {
          "base_uri": "https://localhost:8080/"
        },
        "id": "HPSQGvxeHI-q",
        "outputId": "e727f796-c577-4fa7-b2a7-e846949978eb"
      },
      "execution_count": null,
      "outputs": [
        {
          "output_type": "stream",
          "name": "stdout",
          "text": [
            "(2, 2, 3)\n",
            "3\n",
            "[[[ 1  2  3]\n",
            "  [ 4  5  6]]\n",
            "\n",
            " [[ 7  8  9]\n",
            "  [10 11 12]]]\n"
          ]
        }
      ]
    },
    {
      "cell_type": "code",
      "source": [
        "(255, 255, 3)"
      ],
      "metadata": {
        "id": "jCR4CMjOIR4d"
      },
      "execution_count": null,
      "outputs": []
    },
    {
      "cell_type": "markdown",
      "source": [
        "## 배열 생성의 다양한 방법들\n",
        "- 모두 0으로 채운다. "
      ],
      "metadata": {
        "id": "-rK8cdBNHICW"
      }
    },
    {
      "cell_type": "code",
      "source": [
        "import numpy as np \n",
        "print(np.__version__)"
      ],
      "metadata": {
        "colab": {
          "base_uri": "https://localhost:8080/"
        },
        "id": "xpm8UfgLsDJc",
        "outputId": "1e1ff81a-1377-4a11-ca1c-bcb15c3e838a"
      },
      "execution_count": null,
      "outputs": [
        {
          "output_type": "stream",
          "name": "stdout",
          "text": [
            "1.21.6\n"
          ]
        }
      ]
    },
    {
      "cell_type": "code",
      "source": [
        "temp_arr = np.zeros((2, 3))\n",
        "temp_arr"
      ],
      "metadata": {
        "colab": {
          "base_uri": "https://localhost:8080/"
        },
        "id": "HQUSBsirsT-I",
        "outputId": "d567a724-2bf0-4c7b-afac-41684805cfa2"
      },
      "execution_count": null,
      "outputs": [
        {
          "output_type": "execute_result",
          "data": {
            "text/plain": [
              "array([[0., 0., 0.],\n",
              "       [0., 0., 0.]])"
            ]
          },
          "metadata": {},
          "execution_count": 4
        }
      ]
    },
    {
      "cell_type": "markdown",
      "source": [
        "- 모두 1로 채운다. "
      ],
      "metadata": {
        "id": "Rnp3a5RssnF5"
      }
    },
    {
      "cell_type": "code",
      "source": [
        "temp_arr = np.ones((2, 3))\n",
        "temp_arr"
      ],
      "metadata": {
        "colab": {
          "base_uri": "https://localhost:8080/"
        },
        "id": "Ufu7ySQ7so-l",
        "outputId": "d1ff80bc-edbe-41af-8032-1a01b0faf8de"
      },
      "execution_count": null,
      "outputs": [
        {
          "output_type": "execute_result",
          "data": {
            "text/plain": [
              "array([[1., 1., 1.],\n",
              "       [1., 1., 1.]])"
            ]
          },
          "metadata": {},
          "execution_count": 5
        }
      ]
    },
    {
      "cell_type": "markdown",
      "source": [
        "- 임의의 상수값으로 채운다. "
      ],
      "metadata": {
        "id": "x45zMefrswNe"
      }
    },
    {
      "cell_type": "code",
      "source": [
        "temp_arr = np.full((3, 3), 100)\n",
        "temp_arr"
      ],
      "metadata": {
        "colab": {
          "base_uri": "https://localhost:8080/"
        },
        "id": "joSMsgT6syKl",
        "outputId": "5a785587-8b16-4889-89eb-418bf912cbaf"
      },
      "execution_count": null,
      "outputs": [
        {
          "output_type": "execute_result",
          "data": {
            "text/plain": [
              "array([[100, 100, 100],\n",
              "       [100, 100, 100],\n",
              "       [100, 100, 100]])"
            ]
          },
          "metadata": {},
          "execution_count": 7
        }
      ]
    },
    {
      "cell_type": "markdown",
      "source": [
        "- 최소, 최대 숫자의 범위를 정해두고, 각 구간별로 값을 생성"
      ],
      "metadata": {
        "id": "PZAkosZPtTw-"
      }
    },
    {
      "cell_type": "code",
      "source": [
        "temp_arr = np.linspace(5, 10, 10)\n",
        "temp_arr"
      ],
      "metadata": {
        "colab": {
          "base_uri": "https://localhost:8080/"
        },
        "id": "IHp3DN5ztX7O",
        "outputId": "63177a23-e7e4-4c26-ac06-99e643cd886c"
      },
      "execution_count": null,
      "outputs": [
        {
          "output_type": "execute_result",
          "data": {
            "text/plain": [
              "array([ 5.        ,  5.55555556,  6.11111111,  6.66666667,  7.22222222,\n",
              "        7.77777778,  8.33333333,  8.88888889,  9.44444444, 10.        ])"
            ]
          },
          "metadata": {},
          "execution_count": 8
        }
      ]
    },
    {
      "cell_type": "markdown",
      "source": [
        "- 반복문 시, 자주 등장하는 배열"
      ],
      "metadata": {
        "id": "P5gi9a2utqTx"
      }
    },
    {
      "cell_type": "code",
      "source": [
        "temp_arr = np.arange(1, 11, 1)\n",
        "temp_arr"
      ],
      "metadata": {
        "colab": {
          "base_uri": "https://localhost:8080/"
        },
        "id": "M9K6ZM7ItvLq",
        "outputId": "3dfd7dd2-78d9-4a64-afc4-86b7d4ae210e"
      },
      "execution_count": null,
      "outputs": [
        {
          "output_type": "execute_result",
          "data": {
            "text/plain": [
              "array([ 1,  2,  3,  4,  5,  6,  7,  8,  9, 10])"
            ]
          },
          "metadata": {},
          "execution_count": 9
        }
      ]
    },
    {
      "cell_type": "markdown",
      "source": [
        "## 난수 생성"
      ],
      "metadata": {
        "id": "fXliG-GuuBVX"
      }
    },
    {
      "cell_type": "code",
      "source": [
        "from numpy import random\n",
        "x = random.rand()\n",
        "print(x)"
      ],
      "metadata": {
        "colab": {
          "base_uri": "https://localhost:8080/"
        },
        "id": "TAJA3gWFuCsv",
        "outputId": "6441e8d1-70b2-4ba4-fc94-f3b0a9ac0c4f"
      },
      "execution_count": null,
      "outputs": [
        {
          "output_type": "stream",
          "name": "stdout",
          "text": [
            "0.11621638529248979\n"
          ]
        }
      ]
    },
    {
      "cell_type": "code",
      "source": [
        "import numpy \n",
        "x = numpy.random.rand()\n",
        "print(x)"
      ],
      "metadata": {
        "colab": {
          "base_uri": "https://localhost:8080/"
        },
        "id": "G4aCMgdwulKa",
        "outputId": "facd1f2a-7526-43e9-bf6c-ada41386b4df"
      },
      "execution_count": null,
      "outputs": [
        {
          "output_type": "stream",
          "name": "stdout",
          "text": [
            "0.3315584451465583\n"
          ]
        }
      ]
    },
    {
      "cell_type": "markdown",
      "source": [
        "- 랜덤 정수값 추출"
      ],
      "metadata": {
        "id": "7xU9oEcLvKHX"
      }
    },
    {
      "cell_type": "code",
      "source": [
        "from numpy import random \n",
        "# x = random.randint(100, size = (5))\n",
        "x = random.randint(100, size = (3, 5))\n",
        "print(x)\n",
        "print(type(x))"
      ],
      "metadata": {
        "colab": {
          "base_uri": "https://localhost:8080/"
        },
        "id": "9tuYsAoGvNN7",
        "outputId": "278c7c5d-387a-4168-c560-febdd814fff6"
      },
      "execution_count": null,
      "outputs": [
        {
          "output_type": "stream",
          "name": "stdout",
          "text": [
            "[[88  2 19 78 13]\n",
            " [92 80 62 22 96]\n",
            " [66 71 89 62 76]]\n",
            "<class 'numpy.ndarray'>\n"
          ]
        }
      ]
    },
    {
      "cell_type": "markdown",
      "source": [
        "- 랜덤 배열, 실숫값 추출"
      ],
      "metadata": {
        "id": "uEy8ja2TvunX"
      }
    },
    {
      "cell_type": "code",
      "source": [
        "from numpy import random \n",
        "x = random.rand(2, 5)\n",
        "print(x)\n",
        "print(type(x))"
      ],
      "metadata": {
        "colab": {
          "base_uri": "https://localhost:8080/"
        },
        "id": "7JrI0AOevtik",
        "outputId": "be1e9396-078e-4db6-d074-a9df17cf90e1"
      },
      "execution_count": null,
      "outputs": [
        {
          "output_type": "stream",
          "name": "stdout",
          "text": [
            "[[0.06336531 0.34486775 0.66923826 0.31566607 0.84566463]\n",
            " [0.61713876 0.67541796 0.65161201 0.04912466 0.45433901]]\n",
            "<class 'numpy.ndarray'>\n"
          ]
        }
      ]
    },
    {
      "cell_type": "markdown",
      "source": [
        "## NumPy 사칙 연산"
      ],
      "metadata": {
        "id": "gYm2cv85wMUo"
      }
    },
    {
      "cell_type": "code",
      "source": [
        "import numpy as np\n",
        "array_01 = np.array([1, 2, 3])\n",
        "array_02 = np.array([10, 20, 30])"
      ],
      "metadata": {
        "id": "K2HyWnFiwORY"
      },
      "execution_count": null,
      "outputs": []
    },
    {
      "cell_type": "code",
      "source": [
        "# 덧셈\n",
        "newArr = np.add(array_01, array_02)\n",
        "print(newArr)\n",
        "\n",
        "# 뺄셈\n",
        "newArr = np.subtract(array_01, array_02)\n",
        "print(newArr)\n",
        "\n",
        "# 곱셈\n",
        "newArr = np.multiply(array_01, array_02)\n",
        "print(newArr)\n",
        "\n",
        "# 나누기\n",
        "newArr = np.divide(array_01, array_02)\n",
        "print(newArr)\n",
        "\n",
        "# 거듭제곱\n",
        "array_01 = np.array([1, 2, 3])\n",
        "array_02 = np.array([2, 4, 2])\n",
        "newArr = np.power(array_01, array_02)\n",
        "print(newArr)"
      ],
      "metadata": {
        "colab": {
          "base_uri": "https://localhost:8080/"
        },
        "id": "VZmsWx9mwX7M",
        "outputId": "fedcff56-a092-43d8-e21f-12888481eade"
      },
      "execution_count": null,
      "outputs": [
        {
          "output_type": "stream",
          "name": "stdout",
          "text": [
            "[3 5 5]\n",
            "[-1 -1  1]\n",
            "[2 6 6]\n",
            "[0.5        0.66666667 1.5       ]\n",
            "[ 1 16  9]\n"
          ]
        }
      ]
    },
    {
      "cell_type": "markdown",
      "source": [
        "## 소숫점 정렬\n",
        "- 소숫점을 정렬하는 다양한 방법"
      ],
      "metadata": {
        "id": "1kBqM7Ypxx3e"
      }
    },
    {
      "cell_type": "code",
      "source": [
        "# 소숫점 제거 \n",
        "import numpy as np\n",
        "temp_arr = np.trunc([-1.23, 1.23])\n",
        "print(temp_arr)\n",
        "\n",
        "temp_arr = np.fix([-1.23, 1.23])\n",
        "print(temp_arr)"
      ],
      "metadata": {
        "colab": {
          "base_uri": "https://localhost:8080/"
        },
        "id": "-vP0i7Bjx2FF",
        "outputId": "bafea151-d5cf-4ec7-a950-10c9b9b78224"
      },
      "execution_count": null,
      "outputs": [
        {
          "output_type": "stream",
          "name": "stdout",
          "text": [
            "[-1.  1.]\n",
            "[-1.  1.]\n"
          ]
        }
      ]
    },
    {
      "cell_type": "code",
      "source": [
        "# 임의의 소숫점 자리에서 반올림\n",
        "temp_arr = np.around([-1.234546123, 1.238791631], 5)\n",
        "print(temp_arr)"
      ],
      "metadata": {
        "colab": {
          "base_uri": "https://localhost:8080/"
        },
        "id": "Ot75_P56yLmg",
        "outputId": "aa2b6689-4f33-4337-ce6d-c2c2eb6bb17a"
      },
      "execution_count": null,
      "outputs": [
        {
          "output_type": "stream",
          "name": "stdout",
          "text": [
            "[-1.23455  1.23879]\n"
          ]
        }
      ]
    },
    {
      "cell_type": "code",
      "source": [
        "# 소숫점 모두 내림\n",
        "temp_arr = np.floor([-1.234546123, 1.238791631])\n",
        "print(temp_arr)"
      ],
      "metadata": {
        "colab": {
          "base_uri": "https://localhost:8080/"
        },
        "id": "xnmt_LvLydNF",
        "outputId": "c714beb0-6a4b-45bc-c244-768fc9271fd4"
      },
      "execution_count": null,
      "outputs": [
        {
          "output_type": "stream",
          "name": "stdout",
          "text": [
            "[-2.  1.]\n"
          ]
        }
      ]
    },
    {
      "cell_type": "markdown",
      "source": [
        ""
      ],
      "metadata": {
        "id": "ejufNaSWyKz5"
      }
    },
    {
      "cell_type": "code",
      "source": [
        "# 소숫점 모두 올림\n",
        "temp_arr = np.ceil([-1.234546123, 1.238791631])\n",
        "print(temp_arr)"
      ],
      "metadata": {
        "colab": {
          "base_uri": "https://localhost:8080/"
        },
        "id": "zkdTiCmfyq3f",
        "outputId": "41774730-5c26-45b7-9677-ee920b597aaf"
      },
      "execution_count": null,
      "outputs": [
        {
          "output_type": "stream",
          "name": "stdout",
          "text": [
            "[-1.  2.]\n"
          ]
        }
      ]
    },
    {
      "cell_type": "markdown",
      "source": [
        "## 조건식\n",
        "- pandas 가공\n",
        "- numpy\n",
        "- 조건식\n",
        "  + 하나의 조건식 (= np.where)\n",
        "  + 다중 조건식\n"
      ],
      "metadata": {
        "id": "u9htFBaj3d8-"
      }
    },
    {
      "cell_type": "code",
      "source": [
        "temp_arr = np.arange(10)\n",
        "temp_arr"
      ],
      "metadata": {
        "colab": {
          "base_uri": "https://localhost:8080/"
        },
        "id": "PXS_BUjXyCzm",
        "outputId": "f00c4759-2d77-4f4c-9c8d-162216c40b32"
      },
      "execution_count": null,
      "outputs": [
        {
          "output_type": "execute_result",
          "data": {
            "text/plain": [
              "array([0, 1, 2, 3, 4, 5, 6, 7, 8, 9])"
            ]
          },
          "metadata": {},
          "execution_count": 40
        }
      ]
    },
    {
      "cell_type": "code",
      "source": [
        "# 5보다 작으면 원 값 유지\n",
        "# 5보다 크면 곱하기 10을 해줌"
      ],
      "metadata": {
        "id": "O8nEFdFd36wL"
      },
      "execution_count": null,
      "outputs": []
    },
    {
      "cell_type": "code",
      "source": [
        "# np.where(조건식, 참일 때, 거짓일 때)\n",
        "np.where(temp_arr < 5, temp_arr, temp_arr * 10)"
      ],
      "metadata": {
        "colab": {
          "base_uri": "https://localhost:8080/"
        },
        "id": "uKBHXZi-4Ert",
        "outputId": "9bccb4c0-2a72-49db-d7cb-0b4c69f48f49"
      },
      "execution_count": null,
      "outputs": [
        {
          "output_type": "execute_result",
          "data": {
            "text/plain": [
              "array([ 0,  1,  2,  3,  4, 50, 60, 70, 80, 90])"
            ]
          },
          "metadata": {},
          "execution_count": 41
        }
      ]
    },
    {
      "cell_type": "markdown",
      "source": [
        ""
      ],
      "metadata": {
        "id": "VvoF2h6A4SAF"
      }
    },
    {
      "cell_type": "code",
      "source": [
        "temp_arr = np.arange(10)\n",
        "# temp_arr\n",
        "cond_list   = [temp_arr > 5 , temp_arr < 2]\n",
        "choice_list = [temp_arr  * 2, temp_arr + 100]\n",
        "\n",
        "# np.select(조건식 리스트, 결괏값 리스트, default = )\n",
        "np.select(cond_list, choice_list, default = temp_arr)"
      ],
      "metadata": {
        "colab": {
          "base_uri": "https://localhost:8080/"
        },
        "id": "0__jvAnH4EJr",
        "outputId": "84dcfc98-3ee4-4dab-b697-8fada367df3b"
      },
      "execution_count": null,
      "outputs": [
        {
          "output_type": "execute_result",
          "data": {
            "text/plain": [
              "array([100, 101,   2,   3,   4,   5,  12,  14,  16,  18])"
            ]
          },
          "metadata": {},
          "execution_count": 43
        }
      ]
    },
    {
      "cell_type": "markdown",
      "source": [
        "## Reshape\n",
        "- 배열의 차원 또는 크기를 바꾼다. \n",
        "- 곱셈만 할줄 알면 끝. "
      ],
      "metadata": {
        "id": "8aAz64Hu6Y96"
      }
    },
    {
      "cell_type": "code",
      "source": [
        "import numpy as np \n",
        "temp_array = np.ones((3, 4))\n",
        "print(temp_array.shape)\n",
        "print(temp_array)"
      ],
      "metadata": {
        "colab": {
          "base_uri": "https://localhost:8080/"
        },
        "id": "uQUFmv4y6imU",
        "outputId": "5206628d-adbe-4aa2-a120-e55fc59de92d"
      },
      "execution_count": null,
      "outputs": [
        {
          "output_type": "stream",
          "name": "stdout",
          "text": [
            "(3, 4)\n",
            "[[1. 1. 1. 1.]\n",
            " [1. 1. 1. 1.]\n",
            " [1. 1. 1. 1.]]\n"
          ]
        }
      ]
    },
    {
      "cell_type": "code",
      "source": [
        "after_reshape = temp_array.reshape(2, 2, 5)\n",
        "print(after_reshape.shape)\n",
        "print(after_reshape)"
      ],
      "metadata": {
        "colab": {
          "base_uri": "https://localhost:8080/",
          "height": 209
        },
        "id": "Dl_0gPFR65qF",
        "outputId": "c9ffddf4-ceca-4135-97d6-9ab0ed0cfe01"
      },
      "execution_count": null,
      "outputs": [
        {
          "output_type": "error",
          "ename": "ValueError",
          "evalue": "ignored",
          "traceback": [
            "\u001b[0;31m---------------------------------------------------------------------------\u001b[0m",
            "\u001b[0;31mValueError\u001b[0m                                Traceback (most recent call last)",
            "\u001b[0;32m<ipython-input-50-d57dd065a075>\u001b[0m in \u001b[0;36m<module>\u001b[0;34m()\u001b[0m\n\u001b[0;32m----> 1\u001b[0;31m \u001b[0mafter_reshape\u001b[0m \u001b[0;34m=\u001b[0m \u001b[0mtemp_array\u001b[0m\u001b[0;34m.\u001b[0m\u001b[0mreshape\u001b[0m\u001b[0;34m(\u001b[0m\u001b[0;36m2\u001b[0m\u001b[0;34m,\u001b[0m \u001b[0;36m2\u001b[0m\u001b[0;34m,\u001b[0m \u001b[0;36m5\u001b[0m\u001b[0;34m)\u001b[0m\u001b[0;34m\u001b[0m\u001b[0;34m\u001b[0m\u001b[0m\n\u001b[0m\u001b[1;32m      2\u001b[0m \u001b[0mprint\u001b[0m\u001b[0;34m(\u001b[0m\u001b[0mafter_reshape\u001b[0m\u001b[0;34m.\u001b[0m\u001b[0mshape\u001b[0m\u001b[0;34m)\u001b[0m\u001b[0;34m\u001b[0m\u001b[0;34m\u001b[0m\u001b[0m\n\u001b[1;32m      3\u001b[0m \u001b[0mprint\u001b[0m\u001b[0;34m(\u001b[0m\u001b[0mafter_reshape\u001b[0m\u001b[0;34m)\u001b[0m\u001b[0;34m\u001b[0m\u001b[0;34m\u001b[0m\u001b[0m\n",
            "\u001b[0;31mValueError\u001b[0m: cannot reshape array of size 12 into shape (2,2,5)"
          ]
        }
      ]
    },
    {
      "cell_type": "code",
      "source": [
        "after_reshape = temp_array.reshape(7, -1)\n",
        "print(after_reshape.shape)\n",
        "print(after_reshape)"
      ],
      "metadata": {
        "colab": {
          "base_uri": "https://localhost:8080/",
          "height": 209
        },
        "id": "HyMNhORg70_p",
        "outputId": "1cd9fdb5-119b-4f24-8898-84bac7e630d2"
      },
      "execution_count": null,
      "outputs": [
        {
          "output_type": "error",
          "ename": "ValueError",
          "evalue": "ignored",
          "traceback": [
            "\u001b[0;31m---------------------------------------------------------------------------\u001b[0m",
            "\u001b[0;31mValueError\u001b[0m                                Traceback (most recent call last)",
            "\u001b[0;32m<ipython-input-53-00ad0ee6a004>\u001b[0m in \u001b[0;36m<module>\u001b[0;34m()\u001b[0m\n\u001b[0;32m----> 1\u001b[0;31m \u001b[0mafter_reshape\u001b[0m \u001b[0;34m=\u001b[0m \u001b[0mtemp_array\u001b[0m\u001b[0;34m.\u001b[0m\u001b[0mreshape\u001b[0m\u001b[0;34m(\u001b[0m\u001b[0;36m7\u001b[0m\u001b[0;34m,\u001b[0m \u001b[0;34m-\u001b[0m\u001b[0;36m1\u001b[0m\u001b[0;34m)\u001b[0m\u001b[0;34m\u001b[0m\u001b[0;34m\u001b[0m\u001b[0m\n\u001b[0m\u001b[1;32m      2\u001b[0m \u001b[0mprint\u001b[0m\u001b[0;34m(\u001b[0m\u001b[0mafter_reshape\u001b[0m\u001b[0;34m.\u001b[0m\u001b[0mshape\u001b[0m\u001b[0;34m)\u001b[0m\u001b[0;34m\u001b[0m\u001b[0;34m\u001b[0m\u001b[0m\n\u001b[1;32m      3\u001b[0m \u001b[0mprint\u001b[0m\u001b[0;34m(\u001b[0m\u001b[0mafter_reshape\u001b[0m\u001b[0;34m)\u001b[0m\u001b[0;34m\u001b[0m\u001b[0;34m\u001b[0m\u001b[0m\n",
            "\u001b[0;31mValueError\u001b[0m: cannot reshape array of size 12 into shape (7,newaxis)"
          ]
        }
      ]
    },
    {
      "cell_type": "markdown",
      "source": [
        "# 브로드 캐스팅 "
      ],
      "metadata": {
        "id": "czbixM7P8SIo"
      }
    },
    {
      "cell_type": "markdown",
      "source": [
        "# pandas 튜토리얼"
      ],
      "metadata": {
        "id": "EEKLOSnYIGvn"
      }
    },
    {
      "cell_type": "code",
      "source": [
        "import pandas as pd \n",
        "print(pd.__version__)"
      ],
      "metadata": {
        "colab": {
          "base_uri": "https://localhost:8080/"
        },
        "id": "xo83hRrrIK2z",
        "outputId": "45f3707c-dc98-4b27-9208-68a9e2d699ee"
      },
      "execution_count": null,
      "outputs": [
        {
          "output_type": "stream",
          "name": "stdout",
          "text": [
            "1.3.5\n"
          ]
        }
      ]
    },
    {
      "cell_type": "code",
      "source": [
        "temp_dict = {\n",
        "    'col1' : [1, 2], \n",
        "    'col2' : [3, 4]\n",
        "}\n",
        "\n",
        "df = pd.DataFrame(temp_dict)\n",
        "print(df)\n",
        "print(type(df))"
      ],
      "metadata": {
        "colab": {
          "base_uri": "https://localhost:8080/"
        },
        "id": "obsN7OHOISuB",
        "outputId": "9e50434d-d8ae-43fd-9013-3dbc98042ce9"
      },
      "execution_count": null,
      "outputs": [
        {
          "output_type": "stream",
          "name": "stdout",
          "text": [
            "   col1  col2\n",
            "0     1     3\n",
            "1     2     4\n",
            "<class 'pandas.core.frame.DataFrame'>\n"
          ]
        }
      ]
    },
    {
      "cell_type": "markdown",
      "source": [
        "## 구글 드라이브 연동\n"
      ],
      "metadata": {
        "id": "LWGqyncJJQaI"
      }
    },
    {
      "cell_type": "code",
      "source": [
        "from google.colab import drive \n",
        "drive.mount('/content/drive')"
      ],
      "metadata": {
        "colab": {
          "base_uri": "https://localhost:8080/"
        },
        "id": "-S8wlNo4JUPd",
        "outputId": "be59c4b5-ee51-40a3-dd7e-47e5e150e9d8"
      },
      "execution_count": null,
      "outputs": [
        {
          "output_type": "stream",
          "name": "stdout",
          "text": [
            "Mounted at /content/drive\n"
          ]
        }
      ]
    },
    {
      "cell_type": "code",
      "source": [
        "DATA_PATH = '/content/drive/MyDrive/Colab Notebooks/human_AI/Basic/Chapter 3. pandas/data/'\n",
        "print(DATA_PATH + 'Lemonade2016.csv')\n",
        "\n",
        "lemonade = pd.read_csv(DATA_PATH + 'Lemonade2016.csv')\n",
        "# covid_df = pd.read_csv(DATA_PATH + 'owid-covid-data.csv')\n",
        "\n",
        "lemonade.info() # str()"
      ],
      "metadata": {
        "colab": {
          "base_uri": "https://localhost:8080/"
        },
        "id": "Mn7e-ZzJK1ba",
        "outputId": "4fdfe318-ba73-4db1-edce-98f725c30edf"
      },
      "execution_count": null,
      "outputs": [
        {
          "output_type": "stream",
          "name": "stdout",
          "text": [
            "/content/drive/MyDrive/Colab Notebooks/human_AI/Basic/Chapter 3. pandas/data/Lemonade2016.csv\n",
            "<class 'pandas.core.frame.DataFrame'>\n",
            "RangeIndex: 32 entries, 0 to 31\n",
            "Data columns (total 7 columns):\n",
            " #   Column       Non-Null Count  Dtype  \n",
            "---  ------       --------------  -----  \n",
            " 0   Date         31 non-null     object \n",
            " 1   Location     32 non-null     object \n",
            " 2   Lemon        32 non-null     int64  \n",
            " 3   Orange       32 non-null     int64  \n",
            " 4   Temperature  32 non-null     int64  \n",
            " 5   Leaflets     31 non-null     float64\n",
            " 6   Price        32 non-null     float64\n",
            "dtypes: float64(2), int64(3), object(2)\n",
            "memory usage: 1.9+ KB\n"
          ]
        }
      ]
    },
    {
      "cell_type": "markdown",
      "source": [
        ""
      ],
      "metadata": {
        "id": "i8IOBPxZMq2u"
      }
    },
    {
      "cell_type": "markdown",
      "source": [
        ""
      ],
      "metadata": {
        "id": "HWYhJSN5Mq0i"
      }
    }
  ]
}