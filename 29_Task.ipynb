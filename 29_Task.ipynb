{
  "nbformat": 4,
  "nbformat_minor": 0,
  "metadata": {
    "colab": {
      "name": "29_Task.ipynb",
      "provenance": [],
      "collapsed_sections": [],
      "authorship_tag": "ABX9TyOQmg45+973owpqASTMbcSQ",
      "include_colab_link": true
    },
    "kernelspec": {
      "name": "python3",
      "display_name": "Python 3"
    },
    "language_info": {
      "name": "python"
    }
  },
  "cells": [
    {
      "cell_type": "markdown",
      "metadata": {
        "id": "view-in-github",
        "colab_type": "text"
      },
      "source": [
        "<a href=\"https://colab.research.google.com/github/park128/R_lecture/blob/main/29_Task.ipynb\" target=\"_parent\"><img src=\"https://colab.research.google.com/assets/colab-badge.svg\" alt=\"Open In Colab\"/></a>"
      ]
    },
    {
      "cell_type": "markdown",
      "source": [
        "# Unit 29. 함수 사용하기"
      ],
      "metadata": {
        "id": "-VDZuJhvmZSf"
      }
    },
    {
      "cell_type": "markdown",
      "source": [
        "프로그래밍을 하다 보면 들어가는 값만 바뀐 뿐 같은 코드가 계속 반복되는 경우가 많다. 특히 같은 코드를 반복해서 작성하면 코드도 길어지고 중간에 실수 할 가능성이 높아진다.\n",
        "\n",
        "파이썬은 함수(function)라는 기능을 제공하는데 특정 용도의 코드를 한 곳에 모아 놓은 것을 뜻한다. 그래서 함수는 처음 한 번만 작성해 놓으면 나중에 필요할 때 계속 불러 쓸 수 있다.\n",
        "예를 들어 지금까지 사용했더 print, input 등도 모두 파이썬에서 미리 만들어 둔 함수이다.\n",
        "\n",
        "즉, 함수를 사용하면 이런 점이 용이하다.\n",
        "- 코드의 용도를 구분할 수 있다.\n",
        "- 코드를 재사용할 수 있다.\n",
        "- 실수를 줄일 수 있다.\n",
        "\n",
        "함수는 다양한 사용 방법이 있으므로 이제부터 각 유닛에서 함수의 사용법을 알아보자."
      ],
      "metadata": {
        "id": "dwpF27rxmtAK"
      }
    },
    {
      "cell_type": "markdown",
      "source": [
        "## 29.1 Hello,world! 출력 함수 만들기\n",
        "함수는 def에 함수 이름을 지정하고()(괄호)와 :(콜론)을 붙인 뒤 다음 줄에 원하는 코드를 작성한다.(함수의 이름을 짓는 방법은 변수와 같다.)\n",
        "\n",
        "이때 코드는 반드시 들여쓰기를 해야한다.(들여쓰기 규칙은 if, for, while과 같다.)"
      ],
      "metadata": {
        "id": "EDtA4fjLnitI"
      }
    },
    {
      "cell_type": "code",
      "source": [
        "def 함수이름 ():\n",
        "  코드"
      ],
      "metadata": {
        "id": "eb7mclwhQMUJ"
      },
      "execution_count": null,
      "outputs": []
    },
    {
      "cell_type": "markdown",
      "source": [
        "- 여기서 def는 정의하다(define)에서 따온 키워드 이다."
      ],
      "metadata": {
        "id": "HFEZuxWZQTBC"
      }
    },
    {
      "cell_type": "markdown",
      "source": [
        "## 29.1.1 함수 만들기\n",
        "그럼 'Hello, world!'를 출력하는 함수를 만들어보겠다.\n"
      ],
      "metadata": {
        "id": "r-qlhaNqQa-t"
      }
    },
    {
      "cell_type": "code",
      "source": [
        "def hello():\n",
        "  print('Hello, world')\n"
      ],
      "metadata": {
        "id": "NcJMhi_mQqkW"
      },
      "execution_count": null,
      "outputs": []
    },
    {
      "cell_type": "markdown",
      "source": [
        "함수 이름은 hello로 지정하고, 그다음 줄에서 print로 'Hello, world!' 문자열을 출력하도록 만들었다."
      ],
      "metadata": {
        "id": "bfSPkBP3Q3NJ"
      }
    },
    {
      "cell_type": "markdown",
      "source": [
        "## 29.1.2 함수 호출하기"
      ],
      "metadata": {
        "id": "k8N_aOTxRmLI"
      }
    },
    {
      "cell_type": "markdown",
      "source": [
        "함수를 만들었으니 사용을 해봐보자. 함수를 만든 부분 아래에서 hello()와 같이 함수 이름과 () 를 적어주면 함수를 사용 할 수 있다.\n",
        "- 함수()"
      ],
      "metadata": {
        "id": "kjJJS_TBRn1H"
      }
    },
    {
      "cell_type": "code",
      "source": [
        "hello()"
      ],
      "metadata": {
        "colab": {
          "base_uri": "https://localhost:8080/"
        },
        "id": "oTrzz_WRRyGq",
        "outputId": "04f71254-95f9-447e-cbc0-27a0120e6964"
      },
      "execution_count": null,
      "outputs": [
        {
          "output_type": "stream",
          "name": "stdout",
          "text": [
            "Hello, world\n"
          ]
        }
      ]
    },
    {
      "cell_type": "markdown",
      "source": [
        "이렇게 함수를 사용하는 방법을\"함수를 호출(call)한다\"라고 부른다."
      ],
      "metadata": {
        "id": "D3JsxZpmR41a"
      }
    },
    {
      "cell_type": "markdown",
      "source": [
        "## 29.1.3 소스 파일에서 함수를 만들고 호출하기\n",
        "이번에는 소스 파일에서 함수를 만들고 호출해보겠습니다. 다음 내용을 IDLE의 소스 코드 편집 창에 입력한 뒤 실행해보자."
      ],
      "metadata": {
        "id": "b9bi3F7ySTCM"
      }
    },
    {
      "cell_type": "code",
      "source": [
        "def hello():\n",
        "  print('Hello, world')\n",
        "\n",
        "hello()"
      ],
      "metadata": {
        "colab": {
          "base_uri": "https://localhost:8080/"
        },
        "id": "tGoL0uRBSdAN",
        "outputId": "a072cd65-ee3f-4bb4-9478-f8b4fe6e4d97"
      },
      "execution_count": null,
      "outputs": [
        {
          "output_type": "stream",
          "name": "stdout",
          "text": [
            "Hello, world\n"
          ]
        }
      ]
    },
    {
      "cell_type": "markdown",
      "source": [
        "## 29.1.4 함수의 실행 순서\n",
        "이제 파이썬 스크립트에서 함수의 실행 순서를 알아보겠습니다. hello 함수는 다음과 같은 순서로 실행된다.\n",
        "- 1.파이썬 스크립트 최초 실행\n",
        "- 2.hello 함수 호출\n",
        "- 3.hello 함수 실행\n",
        "- 4.print 함수 실행 및 'Hello, world!'출력\n",
        "- 5.hello 함수 종료\n",
        "- 6.파이썬 스크립트 종료\n"
      ],
      "metadata": {
        "id": "Sa_aLnt6StX2"
      }
    },
    {
      "cell_type": "markdown",
      "source": [
        "## 29.1.5 함수 작성과 함수 호출 순서\n",
        "함수를 만들고 호출할 때 주의할 점이 있는데, 바로 함수를 만들기 전에 함수를 먼저 호출하면 안 된다는 점이다. 즉, 다음과 같이 함수를 먼저 호출한 뒤 함수를 만들 수는 없다."
      ],
      "metadata": {
        "id": "JgLZH5INT5M7"
      }
    },
    {
      "cell_type": "code",
      "source": [
        "hello1() # hello 함수를 만들기 전에 함수를 먼저 호출\n",
        "\n",
        "def hello1(): # hello 함수를 만듦\n",
        "  print('Hello, world!')"
      ],
      "metadata": {
        "colab": {
          "base_uri": "https://localhost:8080/",
          "height": 218
        },
        "id": "6fc4hscWUFRD",
        "outputId": "26aca76a-fbd4-468c-d6c3-5631f8d48ad3"
      },
      "execution_count": null,
      "outputs": [
        {
          "output_type": "error",
          "ename": "NameError",
          "evalue": "ignored",
          "traceback": [
            "\u001b[0;31m---------------------------------------------------------------------------\u001b[0m",
            "\u001b[0;31mNameError\u001b[0m                                 Traceback (most recent call last)",
            "\u001b[0;32m<ipython-input-11-d6cf6188abdf>\u001b[0m in \u001b[0;36m<module>\u001b[0;34m()\u001b[0m\n\u001b[0;32m----> 1\u001b[0;31m \u001b[0mhello1\u001b[0m\u001b[0;34m(\u001b[0m\u001b[0;34m)\u001b[0m \u001b[0;31m# hello 함수를 만들기 전에 함수를 먼저 호출\u001b[0m\u001b[0;34m\u001b[0m\u001b[0;34m\u001b[0m\u001b[0m\n\u001b[0m\u001b[1;32m      2\u001b[0m \u001b[0;34m\u001b[0m\u001b[0m\n\u001b[1;32m      3\u001b[0m \u001b[0;32mdef\u001b[0m \u001b[0mhello1\u001b[0m\u001b[0;34m(\u001b[0m\u001b[0;34m)\u001b[0m\u001b[0;34m:\u001b[0m \u001b[0;31m# hello 함수를 만듦\u001b[0m\u001b[0;34m\u001b[0m\u001b[0;34m\u001b[0m\u001b[0m\n\u001b[1;32m      4\u001b[0m   \u001b[0mprint\u001b[0m\u001b[0;34m(\u001b[0m\u001b[0;34m'Hello, world!'\u001b[0m\u001b[0;34m)\u001b[0m\u001b[0;34m\u001b[0m\u001b[0;34m\u001b[0m\u001b[0m\n",
            "\u001b[0;31mNameError\u001b[0m: name 'hello1' is not defined"
          ]
        }
      ]
    },
    {
      "cell_type": "markdown",
      "source": [
        "함수를 먼저 호출하면 함수가 정의(define)되지 않닸다는 에러가 발생한다. 왜냐하면 파이썬 코드는 위에서 아래로 순차적으로 실행되기 때문이다. 반드시 함수를 먼저 만든 뒤에 함수를 호출해야된다."
      ],
      "metadata": {
        "id": "TDteqaFEVd_X"
      }
    },
    {
      "cell_type": "code",
      "source": [
        "def hello1():\n",
        "  print('Hello, world!')\n",
        "\n",
        "hello1()"
      ],
      "metadata": {
        "colab": {
          "base_uri": "https://localhost:8080/"
        },
        "id": "1L6tldRlVspr",
        "outputId": "9c06c888-333b-4432-a119-188d9fde0fd4"
      },
      "execution_count": null,
      "outputs": [
        {
          "output_type": "stream",
          "name": "stdout",
          "text": [
            "Hello, world!\n"
          ]
        }
      ]
    },
    {
      "cell_type": "markdown",
      "source": [
        "- 바른 예를 한번 더 작성해보았다."
      ],
      "metadata": {
        "id": "ZhqhxSkJV_YF"
      }
    },
    {
      "cell_type": "markdown",
      "source": [
        "## 29.2 덧셈 함수 만들기\n",
        "지금까지 만들어본 hello 함수는 동작이 고정되어 있다. 즉, 같은 문자열만 출력한다. 이러면 함수를 사용하는 의미가 없다. 그러니 이번에는 함수에 값을 넣어 동작을 바꿔보겠다.\n",
        "\n",
        "함수의 값을 받으려면()(괄호)안에 변수 이름을 지정해주면 된다. 특히 이 변수를 매개변수(parameter)라고 부른다."
      ],
      "metadata": {
        "id": "rcJq7-A5WIY6"
      }
    },
    {
      "cell_type": "code",
      "source": [
        "def 함수이름(매개변수1, 매개변수2):\n",
        "  코드"
      ],
      "metadata": {
        "id": "HusoksD3Wr2s"
      },
      "execution_count": null,
      "outputs": []
    },
    {
      "cell_type": "markdown",
      "source": [
        "이제 두 수를 더하는 함수를 만들어보겠다. 다음과 같이 함수의 괄호 안에 매개변수 a와 b를 지정하고, 그다음 줄에서 print로 a와b의 합을 출력한다."
      ],
      "metadata": {
        "id": "8Ux7crMVWxmm"
      }
    },
    {
      "cell_type": "code",
      "source": [
        "def add(a,b):\n",
        "  print(a+b)"
      ],
      "metadata": {
        "id": "L5t--16XW7uQ"
      },
      "execution_count": null,
      "outputs": []
    },
    {
      "cell_type": "markdown",
      "source": [
        "add 함수가 만들어졌다. 그럼 add 함수에 10과 20을 넣어서 호출해보자."
      ],
      "metadata": {
        "id": "ATWm6TM1XPfV"
      }
    },
    {
      "cell_type": "code",
      "source": [
        "add(10,20)"
      ],
      "metadata": {
        "colab": {
          "base_uri": "https://localhost:8080/"
        },
        "id": "IPTkJVQGXUlI",
        "outputId": "56ae7f21-6857-4676-f50f-59eec8a5cccc"
      },
      "execution_count": null,
      "outputs": [
        {
          "output_type": "stream",
          "name": "stdout",
          "text": [
            "30\n"
          ]
        }
      ]
    },
    {
      "cell_type": "markdown",
      "source": [
        "10과 20을 더한 값인 30이 출력되었다. 여기서 함수를 호출할 때 넣은 값을 인수(argument)라고 부른다. 즉, add(10, 20)에서 10과 20이 인수이다."
      ],
      "metadata": {
        "id": "44jsmjhdX44y"
      }
    },
    {
      "cell_type": "markdown",
      "source": [
        "## 29.3 함수의 결과를 반환하기\n",
        "앞에서 만든 add 함수는 두 수를 더해서 바로 출력하였다. 그러면 함수에서 값을 꺼내 올 수는 없을까?\n",
        "다음과 같이 함수 안에서 return을 사용하면 값을 함수 바깥으로 반환하게 된다.(return에 값을 지정하지 않으면 None을 반환)."
      ],
      "metadata": {
        "id": "KwGOjIbcYV1I"
      }
    },
    {
      "cell_type": "code",
      "source": [
        "def 함수이름(매개변수):\n",
        "  return 반환값"
      ],
      "metadata": {
        "id": "8RQYoGiEYpv1"
      },
      "execution_count": null,
      "outputs": []
    },
    {
      "cell_type": "markdown",
      "source": [
        "그럼 두 수를 더해서 반환하는 add 함수를 만들어보자. 함수 add에 매개변수에 a와 b를 지정하고 그다음 줄에서 return으로 a와 b를 더한 값을 반환하도록 만든다."
      ],
      "metadata": {
        "id": "HM8-hsthYv2N"
      }
    },
    {
      "cell_type": "code",
      "source": [
        "def add(a,b):\n",
        "  return a+b"
      ],
      "metadata": {
        "id": "Bkl1F_pAY9ug"
      },
      "execution_count": null,
      "outputs": []
    },
    {
      "cell_type": "markdown",
      "source": [
        "이제 add 함수에 10과 20을 넣고 결과를 x에 저장한다. 그리고 x의 값을 출력해보면"
      ],
      "metadata": {
        "id": "hj0SIir5ZHCx"
      }
    },
    {
      "cell_type": "code",
      "source": [
        "x = add(10, 20)\n",
        "x"
      ],
      "metadata": {
        "colab": {
          "base_uri": "https://localhost:8080/"
        },
        "id": "34V9ELUvZPOf",
        "outputId": "0562b7a5-41f3-4948-8dd7-bbfc68a057ad"
      },
      "execution_count": null,
      "outputs": [
        {
          "output_type": "execute_result",
          "data": {
            "text/plain": [
              "30"
            ]
          },
          "metadata": {},
          "execution_count": 19
        }
      ]
    },
    {
      "cell_type": "markdown",
      "source": [
        "x의 값을 출력해보면 10과 20을 더한 값인 30이 나온다. 이처럼 return을 사용하면 값을 함수 바깥으로 반환할 수 있고, 함수에서 나온 값을 변수에 저장할 수 있다.\n",
        "\n",
        "즉, return으로 반환하는 값은 반환값이라고 하고 함수를 호출해준 바깥에 결과를 알려주기 위해 사용한다.\n",
        "\n",
        "변환값은 변수에 저장하지 않고 바로 다른 함수에 넣을 수도 있다. 다음은 print에서 바로 add를 호출하여 결과를 출력해보겠다."
      ],
      "metadata": {
        "id": "FtoXyW7FZVli"
      }
    },
    {
      "cell_type": "code",
      "source": [
        "print(add(10,20))"
      ],
      "metadata": {
        "colab": {
          "base_uri": "https://localhost:8080/"
        },
        "id": "QYYYUwK2dqIH",
        "outputId": "567617ed-55e1-43d2-faee-6aa2de976166"
      },
      "execution_count": null,
      "outputs": [
        {
          "output_type": "stream",
          "name": "stdout",
          "text": [
            "30\n"
          ]
        }
      ]
    },
    {
      "cell_type": "markdown",
      "source": [
        "## 29.4 함수에서 값을 여러 개 반환하기\n",
        "지금까지 함수의 결과를 변수에 저장할 때 값을 한 개만 저장했다. 이번에는 함수에서 값을 여러 개 반환하는 방법을 알아보자.\n",
        "\n",
        "함수에서 값을 여러 개 반환할 때는 다음과 같이 return에 값이나 변수를 ,(콤마)로 구분해서 지정하면 된다."
      ],
      "metadata": {
        "id": "UWxDn02eebtx"
      }
    },
    {
      "cell_type": "code",
      "source": [
        "def 함수이름(매개변수):\n",
        "  return 반환값1, 반환값2"
      ],
      "metadata": {
        "id": "gOffpv5WeuIK"
      },
      "execution_count": null,
      "outputs": []
    },
    {
      "cell_type": "markdown",
      "source": [
        "그럼 두 수를 더한 값과 뺀 값을 반환하는 함수를 만들어보자. 다음과 같이 retuurn으로 a와b를 더한 값과 a에서 b를 뺀 값을 반환하도록 만든다."
      ],
      "metadata": {
        "id": "bkQdbPOTe2B5"
      }
    },
    {
      "cell_type": "code",
      "source": [
        "def add_sub(a,b):\n",
        "  return a+b,a-b"
      ],
      "metadata": {
        "id": "PpKGESA1e_z7"
      },
      "execution_count": null,
      "outputs": []
    },
    {
      "cell_type": "markdown",
      "source": [
        "이제 add_sub 함수에 10과 20을 넣고 결과를 x와y에 저장한다. 그리고 x와 y의 값을 출력해본다."
      ],
      "metadata": {
        "id": "cG8_2wyPfI4p"
      }
    },
    {
      "cell_type": "code",
      "source": [
        "x, y = add_sub(10, 20)\n",
        "print(x)\n",
        "\n",
        "print(y)"
      ],
      "metadata": {
        "colab": {
          "base_uri": "https://localhost:8080/"
        },
        "id": "oXl2dXS7fR9X",
        "outputId": "b3e85896-7156-4d1e-b299-809451db4f8b"
      },
      "execution_count": null,
      "outputs": [
        {
          "output_type": "stream",
          "name": "stdout",
          "text": [
            "30\n",
            "-10\n"
          ]
        }
      ]
    },
    {
      "cell_type": "markdown",
      "source": [
        "x의 값을 출력해보면 10과 20을 더한 값인 30이 나오고, y의 값을 출력해보면 10에서 20을 뺀 값인 -10이 나온다. 이처럼 return은 여러 개 반환할 수 있다.\n",
        "\n",
        "- retyrn으로 값을 여러 개 반환하면 실제로는 튜플이 반환된다. 다음과 같이 add_sub의 결과를 변수 한 개에 저장해서 출력해보면 튜플이 반환되는 것을 볼 수 있다."
      ],
      "metadata": {
        "id": "g-jmnjslfdIe"
      }
    },
    {
      "cell_type": "code",
      "source": [
        "x = add_sub(10,20)\n",
        "x"
      ],
      "metadata": {
        "colab": {
          "base_uri": "https://localhost:8080/"
        },
        "id": "g3p_0KVXf7tv",
        "outputId": "fbcd8635-72c0-40ec-d45d-7896ef2868b1"
      },
      "execution_count": null,
      "outputs": [
        {
          "output_type": "execute_result",
          "data": {
            "text/plain": [
              "(30, -10)"
            ]
          },
          "metadata": {},
          "execution_count": 26
        }
      ]
    },
    {
      "cell_type": "markdown",
      "source": [
        "- 즉, 튜플이 변수 여러 개에 할당되는 특성을 이용한 것(언패킹)"
      ],
      "metadata": {
        "id": "grrflotggR2H"
      }
    },
    {
      "cell_type": "code",
      "source": [
        "x, y = (30,-10)\n",
        "print(x)\n",
        "\n",
        "print(y)"
      ],
      "metadata": {
        "colab": {
          "base_uri": "https://localhost:8080/"
        },
        "id": "Hz1VAfvUgXH4",
        "outputId": "381cdff3-b5e6-4175-ef64-66dfa79298d9"
      },
      "execution_count": null,
      "outputs": [
        {
          "output_type": "stream",
          "name": "stdout",
          "text": [
            "30\n",
            "-10\n"
          ]
        }
      ]
    },
    {
      "cell_type": "markdown",
      "source": [
        "## 29.5 함수의 호출 과정 알아보기\n",
        "지금까지 함수를 만드는 방법을 배웠다. 이번에는 함수 여러 개를 만든 뒤에 각 함수의 호출 과정을 스택 다이어그램(stack diagram)으로 알아보자.\n",
        "스택은 접시 쌓기와 같은데 접시를 차곡차곡 쌓고 꺼낼 때는 위쪽부터 차례대로 꺼내는 방식이다.(단, 중간에 있는 접시는 뺄 수 없다.)\n",
        "파이썬에서는 접시 쌓기와 방향이 반대인데, 함수가 아래쪽 방향으로 추가되고 함수가 끝나면 위쪽 방향으로 사라진다.\n",
        "다음은 덧셈 함수 add와 곱셈 함수 mul이 있고, add함수 안에서 mul 함수를 호출하는 방식으로 만들어져 있다."
      ],
      "metadata": {
        "id": "f7V984mtgrB1"
      }
    },
    {
      "cell_type": "code",
      "source": [
        "def mul(a,b):\n",
        "  c = a*b\n",
        "  return c\n",
        "\n",
        "def add(a,b):\n",
        "  c = a+b\n",
        "  print(c)\n",
        "  d = mul(a,b)\n",
        "  print(d)\n",
        "\n",
        "x = 10\n",
        "y = 20\n",
        "add(x,y)"
      ],
      "metadata": {
        "colab": {
          "base_uri": "https://localhost:8080/"
        },
        "id": "axLsURYkgvpT",
        "outputId": "75928503-d3ba-4a9e-e743-443cf37aa93b"
      },
      "execution_count": null,
      "outputs": [
        {
          "output_type": "stream",
          "name": "stdout",
          "text": [
            "30\n",
            "200\n"
          ]
        }
      ]
    },
    {
      "cell_type": "markdown",
      "source": [
        "## 연습문제: 몫과 나머지를 구하는 함수 만들기\n",
        "다음 소스 코드를 완성하여 x를 y로 나누었을 때의 몫과 나머지가 출력되게 만드세요."
      ],
      "metadata": {
        "id": "ChnZuSqzj3Jv"
      }
    },
    {
      "cell_type": "code",
      "source": [
        "x = 10\n",
        "y = 3\n",
        "\n",
        "def get_quotient_remainder(a, b):\n",
        "  return a // b, a % b"
      ],
      "metadata": {
        "colab": {
          "base_uri": "https://localhost:8080/",
          "height": 200
        },
        "id": "0YHR1uE0kAuQ",
        "outputId": "9e0e8912-c9f4-45fa-9191-8104d3683454"
      },
      "execution_count": null,
      "outputs": [
        {
          "output_type": "error",
          "ename": "NameError",
          "evalue": "ignored",
          "traceback": [
            "\u001b[0;31m---------------------------------------------------------------------------\u001b[0m",
            "\u001b[0;31mNameError\u001b[0m                                 Traceback (most recent call last)",
            "\u001b[0;32m<ipython-input-48-94b0ab4d6187>\u001b[0m in \u001b[0;36m<module>\u001b[0;34m()\u001b[0m\n\u001b[1;32m      5\u001b[0m   \u001b[0;32mreturn\u001b[0m \u001b[0ma\u001b[0m \u001b[0;34m//\u001b[0m \u001b[0mb\u001b[0m\u001b[0;34m,\u001b[0m \u001b[0ma\u001b[0m \u001b[0;34m%\u001b[0m \u001b[0mb\u001b[0m\u001b[0;34m\u001b[0m\u001b[0;34m\u001b[0m\u001b[0m\n\u001b[1;32m      6\u001b[0m \u001b[0;34m\u001b[0m\u001b[0m\n\u001b[0;32m----> 7\u001b[0;31m \u001b[0mprint\u001b[0m\u001b[0;34m(\u001b[0m\u001b[0ma\u001b[0m \u001b[0;34m//\u001b[0m \u001b[0mb\u001b[0m\u001b[0;34m,\u001b[0m \u001b[0ma\u001b[0m\u001b[0;34m%\u001b[0m\u001b[0mb\u001b[0m\u001b[0;34m)\u001b[0m\u001b[0;34m\u001b[0m\u001b[0;34m\u001b[0m\u001b[0m\n\u001b[0m",
            "\u001b[0;31mNameError\u001b[0m: name 'a' is not defined"
          ]
        }
      ]
    }
  ]
}