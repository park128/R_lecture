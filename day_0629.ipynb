{
  "nbformat": 4,
  "nbformat_minor": 0,
  "metadata": {
    "colab": {
      "name": "day_0629.ipynb",
      "provenance": [],
      "collapsed_sections": [],
      "authorship_tag": "ABX9TyNieQAidjphBAcMELoawO+Q",
      "include_colab_link": true
    },
    "kernelspec": {
      "name": "python3",
      "display_name": "Python 3"
    },
    "language_info": {
      "name": "python"
    }
  },
  "cells": [
    {
      "cell_type": "markdown",
      "metadata": {
        "id": "view-in-github",
        "colab_type": "text"
      },
      "source": [
        "<a href=\"https://colab.research.google.com/github/park128/R_lecture/blob/main/day_0629.ipynb\" target=\"_parent\"><img src=\"https://colab.research.google.com/assets/colab-badge.svg\" alt=\"Open In Colab\"/></a>"
      ]
    },
    {
      "cell_type": "markdown",
      "source": [
        "---\n",
        "title: \"Python 기초문법\"\n",
        "date: '2022-06-29'\n",
        "---\n"
      ],
      "metadata": {
        "id": "ux8H5Plt_h1i"
      }
    },
    {
      "cell_type": "markdown",
      "source": [
        "## 라이브러리 불러오기"
      ],
      "metadata": {
        "id": "XnwIaJR6APnz"
      }
    },
    {
      "cell_type": "code",
      "source": [
        "import pandas as pd\n",
        "import numpy as np\n",
        "print(\"pandas version:\",pd.__version__)\n",
        "print(\"numpy version:\",np.__version__)"
      ],
      "metadata": {
        "colab": {
          "base_uri": "https://localhost:8080/"
        },
        "id": "c17kB-vKABED",
        "outputId": "24850fbc-e6ee-4c74-ef00-7f8f5721a3f7"
      },
      "execution_count": null,
      "outputs": [
        {
          "output_type": "stream",
          "name": "stdout",
          "text": [
            "pandas version: 1.3.5\n",
            "numpy version: 1.21.6\n"
          ]
        }
      ]
    },
    {
      "cell_type": "markdown",
      "source": [
        "## 데이터 불러오기\n",
        "- 구글 드라이브에 데이터 존재"
      ],
      "metadata": {
        "id": "nEKaezSdA0nC"
      }
    },
    {
      "cell_type": "code",
      "source": [
        "from google.colab import drive\n",
        "drive.mount('/content/drive')"
      ],
      "metadata": {
        "colab": {
          "base_uri": "https://localhost:8080/"
        },
        "id": "tahKzQ8YA36b",
        "outputId": "3d5d5c8c-8bad-4219-b64c-ac9b47af695e"
      },
      "execution_count": null,
      "outputs": [
        {
          "output_type": "stream",
          "name": "stdout",
          "text": [
            "Mounted at /content/drive\n"
          ]
        }
      ]
    },
    {
      "cell_type": "code",
      "source": [
        "DATA_PATH = '/content/drive/MyDrive/Colab Notebooks/human_ai/Basic/Chapter 3. pandas/data/Lemonade2016.csv'\n",
        "lemonade = pd.read_csv(DATA_PATH)\n",
        "\n",
        "print(type(lemonade))\n",
        "lemonade.info()"
      ],
      "metadata": {
        "colab": {
          "base_uri": "https://localhost:8080/"
        },
        "id": "Hq2G24XBBU9b",
        "outputId": "176738da-6efd-4dfd-cc5c-d4b97356149d"
      },
      "execution_count": null,
      "outputs": [
        {
          "output_type": "stream",
          "name": "stdout",
          "text": [
            "<class 'pandas.core.frame.DataFrame'>\n",
            "<class 'pandas.core.frame.DataFrame'>\n",
            "RangeIndex: 32 entries, 0 to 31\n",
            "Data columns (total 7 columns):\n",
            " #   Column       Non-Null Count  Dtype  \n",
            "---  ------       --------------  -----  \n",
            " 0   Date         31 non-null     object \n",
            " 1   Location     32 non-null     object \n",
            " 2   Lemon        32 non-null     int64  \n",
            " 3   Orange       32 non-null     int64  \n",
            " 4   Temperature  32 non-null     int64  \n",
            " 5   Leaflets     31 non-null     float64\n",
            " 6   Price        32 non-null     float64\n",
            "dtypes: float64(2), int64(3), object(2)\n",
            "memory usage: 1.9+ KB\n"
          ]
        }
      ]
    },
    {
      "cell_type": "markdown",
      "source": [
        "- 데이터 맛보기"
      ],
      "metadata": {
        "id": "-995ERsSEs-r"
      }
    },
    {
      "cell_type": "code",
      "source": [
        "print(lemonade.head()) # 맨 위부터 보여줌"
      ],
      "metadata": {
        "colab": {
          "base_uri": "https://localhost:8080/"
        },
        "id": "k3jeJIEUEu3T",
        "outputId": "f5757a20-a67f-4896-ccb7-8ef8a73d5439"
      },
      "execution_count": null,
      "outputs": [
        {
          "output_type": "stream",
          "name": "stdout",
          "text": [
            "       Date Location  Lemon  Orange  Temperature  Leaflets  Price\n",
            "0  7/1/2016     Park     97      67           70      90.0   0.25\n",
            "1  7/2/2016     Park     98      67           72      90.0   0.25\n",
            "2  7/3/2016     Park    110      77           71     104.0   0.25\n",
            "3  7/4/2016    Beach    134      99           76      98.0   0.25\n",
            "4  7/5/2016    Beach    159     118           78     135.0   0.25\n"
          ]
        }
      ]
    },
    {
      "cell_type": "code",
      "source": [
        "print(lemonade.tail(10)) # 맨 아래부터 보여줌"
      ],
      "metadata": {
        "colab": {
          "base_uri": "https://localhost:8080/"
        },
        "id": "FlIswaNDFLmU",
        "outputId": "f3a54143-2470-48a1-8249-dd313ad41990"
      },
      "execution_count": null,
      "outputs": [
        {
          "output_type": "stream",
          "name": "stdout",
          "text": [
            "         Date Location  Lemon  Orange  Temperature  Leaflets  Price\n",
            "22  7/22/2016     Park    112      75           80     108.0   0.50\n",
            "23  7/23/2016     Park    120      82           81     117.0   0.50\n",
            "24  7/24/2016     Park    121      82           82     117.0   0.50\n",
            "25  7/25/2016     Park    156     113           84     135.0   0.50\n",
            "26  7/26/2016     Park    176     129           83     158.0   0.35\n",
            "27  7/27/2016     Park    104      68           80      99.0   0.35\n",
            "28  7/28/2016     Park     96      63           82      90.0   0.35\n",
            "29  7/29/2016     Park    100      66           81      95.0   0.35\n",
            "30  7/30/2016    Beach     88      57           82      81.0   0.35\n",
            "31  7/31/2016    Beach     76      47           82      68.0   0.35\n"
          ]
        }
      ]
    },
    {
      "cell_type": "markdown",
      "source": [
        "- 기술통계량 보는 함수\n",
        "- descrbe()"
      ],
      "metadata": {
        "id": "ew_ZplPxFXgD"
      }
    },
    {
      "cell_type": "code",
      "source": [
        "print(lemonade.describe())"
      ],
      "metadata": {
        "colab": {
          "base_uri": "https://localhost:8080/"
        },
        "id": "dsAMzjWMFbJi",
        "outputId": "c88dec4a-8026-4be8-bba5-ee13af22d2ad"
      },
      "execution_count": null,
      "outputs": [
        {
          "output_type": "stream",
          "name": "stdout",
          "text": [
            "            Lemon      Orange  Temperature    Leaflets      Price\n",
            "count   32.000000   32.000000    32.000000   31.000000  32.000000\n",
            "mean   116.156250   80.000000    78.968750  108.548387   0.354688\n",
            "std     25.823357   21.863211     4.067847   20.117718   0.113137\n",
            "min     71.000000   42.000000    70.000000   68.000000   0.250000\n",
            "25%     98.000000   66.750000    77.000000   90.000000   0.250000\n",
            "50%    113.500000   76.500000    80.500000  108.000000   0.350000\n",
            "75%    131.750000   95.000000    82.000000  124.000000   0.500000\n",
            "max    176.000000  129.000000    84.000000  158.000000   0.500000\n"
          ]
        }
      ]
    },
    {
      "cell_type": "markdown",
      "source": [
        "- 범주형 데이터 빈도수 구하"
      ],
      "metadata": {
        "id": "KaBj4BQAG1p0"
      }
    },
    {
      "cell_type": "code",
      "source": [
        "print(type(lemonade['Location']))"
      ],
      "metadata": {
        "colab": {
          "base_uri": "https://localhost:8080/"
        },
        "id": "DST-TDQyHFqc",
        "outputId": "a0b8ad80-5737-4d1c-d875-2f8a2655db16"
      },
      "execution_count": null,
      "outputs": [
        {
          "output_type": "stream",
          "name": "stdout",
          "text": [
            "<class 'pandas.core.series.Series'>\n"
          ]
        }
      ]
    },
    {
      "cell_type": "code",
      "source": [
        "lemonade['Location'].value_counts()"
      ],
      "metadata": {
        "colab": {
          "base_uri": "https://localhost:8080/"
        },
        "id": "R9ETUg9rG4Ys",
        "outputId": "4260d28c-ae7d-4446-bae9-e50eaf633c47"
      },
      "execution_count": null,
      "outputs": [
        {
          "output_type": "execute_result",
          "data": {
            "text/plain": [
              "Beach    17\n",
              "Park     15\n",
              "Name: Location, dtype: int64"
            ]
          },
          "metadata": {},
          "execution_count": 17
        }
      ]
    },
    {
      "cell_type": "markdown",
      "source": [
        "## 행과 열 다루기\n",
        "- Sold(판매량) 컬럼(=피처=feature)을 추가\n",
        " "
      ],
      "metadata": {
        "id": "H4C7XSz7IGEV"
      }
    },
    {
      "cell_type": "code",
      "source": [
        "lemonade['Sold'] = 0\n",
        "print(lemonade.head())"
      ],
      "metadata": {
        "colab": {
          "base_uri": "https://localhost:8080/"
        },
        "id": "WiGbakTUIYGz",
        "outputId": "0379e7ae-d943-4b2b-f220-f5d8e149d3a1"
      },
      "execution_count": null,
      "outputs": [
        {
          "output_type": "stream",
          "name": "stdout",
          "text": [
            "       Date Location  Lemon  Orange  Temperature  Leaflets  Price  Sold  \\\n",
            "0  7/1/2016     Park     97      67           70      90.0   0.25     0   \n",
            "1  7/2/2016     Park     98      67           72      90.0   0.25     0   \n",
            "2  7/3/2016     Park    110      77           71     104.0   0.25     0   \n",
            "3  7/4/2016    Beach    134      99           76      98.0   0.25     0   \n",
            "4  7/5/2016    Beach    159     118           78     135.0   0.25     0   \n",
            "\n",
            "   Revenue  \n",
            "0    41.00  \n",
            "1    41.25  \n",
            "2    46.75  \n",
            "3    58.25  \n",
            "4    69.25  \n"
          ]
        }
      ]
    },
    {
      "cell_type": "code",
      "source": [
        "lemonade['Sold'] = lemonade['Lemon'] + lemonade['Orange']\n",
        "print(lemonade.head())"
      ],
      "metadata": {
        "colab": {
          "base_uri": "https://localhost:8080/"
        },
        "id": "IjkxH0zkIlJt",
        "outputId": "f4f44ea4-fa17-4322-b690-3f9031a37b9d"
      },
      "execution_count": null,
      "outputs": [
        {
          "output_type": "stream",
          "name": "stdout",
          "text": [
            "       Date Location  Lemon  Orange  Temperature  Leaflets  Price  Sold  \\\n",
            "0  7/1/2016     Park     97      67           70      90.0   0.25   164   \n",
            "1  7/2/2016     Park     98      67           72      90.0   0.25   165   \n",
            "2  7/3/2016     Park    110      77           71     104.0   0.25   187   \n",
            "3  7/4/2016    Beach    134      99           76      98.0   0.25   233   \n",
            "4  7/5/2016    Beach    159     118           78     135.0   0.25   277   \n",
            "\n",
            "   Revenue  \n",
            "0    41.00  \n",
            "1    41.25  \n",
            "2    46.75  \n",
            "3    58.25  \n",
            "4    69.25  \n"
          ]
        }
      ]
    },
    {
      "cell_type": "markdown",
      "source": [
        "- Revenue(매출) = 단가 x 판매량"
      ],
      "metadata": {
        "id": "fY5hjbbPI_hs"
      }
    },
    {
      "cell_type": "code",
      "source": [
        "lemonade['Revenue'] = lemonade['Price'] * lemonade['Sold']\n",
        "print(lemonade.head())"
      ],
      "metadata": {
        "colab": {
          "base_uri": "https://localhost:8080/"
        },
        "id": "NYwHHabYJEaA",
        "outputId": "ca69dc5d-2847-4845-efa6-03d687e261ec"
      },
      "execution_count": null,
      "outputs": [
        {
          "output_type": "stream",
          "name": "stdout",
          "text": [
            "       Date Location  Lemon  Orange  Temperature  Leaflets  Price  Sold  \\\n",
            "0  7/1/2016     Park     97      67           70      90.0   0.25   164   \n",
            "1  7/2/2016     Park     98      67           72      90.0   0.25   165   \n",
            "2  7/3/2016     Park    110      77           71     104.0   0.25   187   \n",
            "3  7/4/2016    Beach    134      99           76      98.0   0.25   233   \n",
            "4  7/5/2016    Beach    159     118           78     135.0   0.25   277   \n",
            "\n",
            "   Revenue  \n",
            "0    41.00  \n",
            "1    41.25  \n",
            "2    46.75  \n",
            "3    58.25  \n",
            "4    69.25  \n"
          ]
        }
      ]
    },
    {
      "cell_type": "markdown",
      "source": [
        "- drop() 함수 사용해서 열 제거"
      ],
      "metadata": {
        "id": "appL_INFNaHN"
      }
    },
    {
      "cell_type": "code",
      "source": [
        "# 컬럼 제거\n",
        "col_drop = lemonade.drop('Sold', axis=1)\n",
        "print(col_drop.head())"
      ],
      "metadata": {
        "colab": {
          "base_uri": "https://localhost:8080/"
        },
        "id": "zVkhDXF4OyZY",
        "outputId": "04f3ff13-b555-403e-dfe7-1299343cca8e"
      },
      "execution_count": null,
      "outputs": [
        {
          "output_type": "stream",
          "name": "stdout",
          "text": [
            "       Date Location  Lemon  Orange  Temperature  Leaflets  Price  Revenue\n",
            "0  7/1/2016     Park     97      67           70      90.0   0.25    41.00\n",
            "1  7/2/2016     Park     98      67           72      90.0   0.25    41.25\n",
            "2  7/3/2016     Park    110      77           71     104.0   0.25    46.75\n",
            "3  7/4/2016    Beach    134      99           76      98.0   0.25    58.25\n",
            "4  7/5/2016    Beach    159     118           78     135.0   0.25    69.25\n"
          ]
        }
      ]
    },
    {
      "cell_type": "code",
      "source": [
        "# 행 제거\n",
        "row_drop = lemonade.drop(2, axis =0)\n",
        "print(row_drop.head())"
      ],
      "metadata": {
        "colab": {
          "base_uri": "https://localhost:8080/"
        },
        "id": "Z1FKepruOzTi",
        "outputId": "fa44f4ea-e980-4686-ca55-9934794bbd2a"
      },
      "execution_count": null,
      "outputs": [
        {
          "output_type": "stream",
          "name": "stdout",
          "text": [
            "       Date Location  Lemon  Orange  Temperature  Leaflets  Price  Sold  \\\n",
            "0  7/1/2016     Park     97      67           70      90.0   0.25   164   \n",
            "1  7/2/2016     Park     98      67           72      90.0   0.25   165   \n",
            "3  7/4/2016    Beach    134      99           76      98.0   0.25   233   \n",
            "4  7/5/2016    Beach    159     118           78     135.0   0.25   277   \n",
            "5  7/6/2016    Beach    103      69           82      90.0   0.25   172   \n",
            "\n",
            "   Revenue  \n",
            "0    41.00  \n",
            "1    41.25  \n",
            "3    58.25  \n",
            "4    69.25  \n",
            "5    43.00  \n"
          ]
        }
      ]
    },
    {
      "cell_type": "markdown",
      "source": [
        "## 데이터 인덱싱"
      ],
      "metadata": {
        "id": "L9apyMzHPIwl"
      }
    },
    {
      "cell_type": "code",
      "source": [
        "print(lemonade[4:7])"
      ],
      "metadata": {
        "colab": {
          "base_uri": "https://localhost:8080/"
        },
        "id": "cbespkKgPcDV",
        "outputId": "c3bd26f0-2d01-4394-ac5b-dbc19d402cab"
      },
      "execution_count": null,
      "outputs": [
        {
          "output_type": "stream",
          "name": "stdout",
          "text": [
            "       Date Location  Lemon  Orange  Temperature  Leaflets  Price  Sold  \\\n",
            "4  7/5/2016    Beach    159     118           78     135.0   0.25   277   \n",
            "5  7/6/2016    Beach    103      69           82      90.0   0.25   172   \n",
            "6  7/6/2016    Beach    103      69           82      90.0   0.25   172   \n",
            "\n",
            "   Revenue  \n",
            "4    69.25  \n",
            "5    43.00  \n",
            "6    43.00  \n"
          ]
        }
      ]
    },
    {
      "cell_type": "markdown",
      "source": [
        "- 특정 값만 추출\n",
        "- filter로 Beach만 출력하"
      ],
      "metadata": {
        "id": "2jNpuALWPryF"
      }
    },
    {
      "cell_type": "code",
      "source": [
        "# 데이터[데이터 컬럼 == 특정값]\n",
        "lemonade[lemonade['Location'] == 'Beach']"
      ],
      "metadata": {
        "id": "abFUdjVGP79G"
      },
      "execution_count": null,
      "outputs": []
    },
    {
      "cell_type": "code",
      "source": [
        "[lemonade['Location'] == 'Beach']"
      ],
      "metadata": {
        "id": "S6h6WhpIRBVF"
      },
      "execution_count": null,
      "outputs": []
    },
    {
      "cell_type": "code",
      "source": [
        "[lemonade['Temperature'] >= 80]"
      ],
      "metadata": {
        "id": "lzRUhtydREHO"
      },
      "execution_count": null,
      "outputs": []
    },
    {
      "cell_type": "code",
      "source": [
        "lemonade[(lemonade['Temperature'] >= 80) & (lemonade['Orange'] >= 100) & (lemonade['Location'] == \"Beach\")]"
      ],
      "metadata": {
        "colab": {
          "base_uri": "https://localhost:8080/",
          "height": 112
        },
        "id": "dAyzeo4oSsOm",
        "outputId": "dcf9c15a-dfce-4ff4-dfff-37cd8f1b623f"
      },
      "execution_count": null,
      "outputs": [
        {
          "output_type": "execute_result",
          "data": {
            "text/plain": [
              "         Date Location  Lemon  Orange  Temperature  Leaflets  Price  Sold  \\\n",
              "7    7/7/2016    Beach    143     101           81     135.0   0.25   244   \n",
              "11  7/11/2016    Beach    162     120           83     135.0   0.25   282   \n",
              "\n",
              "    Revenue  \n",
              "7      61.0  \n",
              "11     70.5  "
            ],
            "text/html": [
              "\n",
              "  <div id=\"df-a7739896-665f-4535-964a-95bdca513e69\">\n",
              "    <div class=\"colab-df-container\">\n",
              "      <div>\n",
              "<style scoped>\n",
              "    .dataframe tbody tr th:only-of-type {\n",
              "        vertical-align: middle;\n",
              "    }\n",
              "\n",
              "    .dataframe tbody tr th {\n",
              "        vertical-align: top;\n",
              "    }\n",
              "\n",
              "    .dataframe thead th {\n",
              "        text-align: right;\n",
              "    }\n",
              "</style>\n",
              "<table border=\"1\" class=\"dataframe\">\n",
              "  <thead>\n",
              "    <tr style=\"text-align: right;\">\n",
              "      <th></th>\n",
              "      <th>Date</th>\n",
              "      <th>Location</th>\n",
              "      <th>Lemon</th>\n",
              "      <th>Orange</th>\n",
              "      <th>Temperature</th>\n",
              "      <th>Leaflets</th>\n",
              "      <th>Price</th>\n",
              "      <th>Sold</th>\n",
              "      <th>Revenue</th>\n",
              "    </tr>\n",
              "  </thead>\n",
              "  <tbody>\n",
              "    <tr>\n",
              "      <th>7</th>\n",
              "      <td>7/7/2016</td>\n",
              "      <td>Beach</td>\n",
              "      <td>143</td>\n",
              "      <td>101</td>\n",
              "      <td>81</td>\n",
              "      <td>135.0</td>\n",
              "      <td>0.25</td>\n",
              "      <td>244</td>\n",
              "      <td>61.0</td>\n",
              "    </tr>\n",
              "    <tr>\n",
              "      <th>11</th>\n",
              "      <td>7/11/2016</td>\n",
              "      <td>Beach</td>\n",
              "      <td>162</td>\n",
              "      <td>120</td>\n",
              "      <td>83</td>\n",
              "      <td>135.0</td>\n",
              "      <td>0.25</td>\n",
              "      <td>282</td>\n",
              "      <td>70.5</td>\n",
              "    </tr>\n",
              "  </tbody>\n",
              "</table>\n",
              "</div>\n",
              "      <button class=\"colab-df-convert\" onclick=\"convertToInteractive('df-a7739896-665f-4535-964a-95bdca513e69')\"\n",
              "              title=\"Convert this dataframe to an interactive table.\"\n",
              "              style=\"display:none;\">\n",
              "        \n",
              "  <svg xmlns=\"http://www.w3.org/2000/svg\" height=\"24px\"viewBox=\"0 0 24 24\"\n",
              "       width=\"24px\">\n",
              "    <path d=\"M0 0h24v24H0V0z\" fill=\"none\"/>\n",
              "    <path d=\"M18.56 5.44l.94 2.06.94-2.06 2.06-.94-2.06-.94-.94-2.06-.94 2.06-2.06.94zm-11 1L8.5 8.5l.94-2.06 2.06-.94-2.06-.94L8.5 2.5l-.94 2.06-2.06.94zm10 10l.94 2.06.94-2.06 2.06-.94-2.06-.94-.94-2.06-.94 2.06-2.06.94z\"/><path d=\"M17.41 7.96l-1.37-1.37c-.4-.4-.92-.59-1.43-.59-.52 0-1.04.2-1.43.59L10.3 9.45l-7.72 7.72c-.78.78-.78 2.05 0 2.83L4 21.41c.39.39.9.59 1.41.59.51 0 1.02-.2 1.41-.59l7.78-7.78 2.81-2.81c.8-.78.8-2.07 0-2.86zM5.41 20L4 18.59l7.72-7.72 1.47 1.35L5.41 20z\"/>\n",
              "  </svg>\n",
              "      </button>\n",
              "      \n",
              "  <style>\n",
              "    .colab-df-container {\n",
              "      display:flex;\n",
              "      flex-wrap:wrap;\n",
              "      gap: 12px;\n",
              "    }\n",
              "\n",
              "    .colab-df-convert {\n",
              "      background-color: #E8F0FE;\n",
              "      border: none;\n",
              "      border-radius: 50%;\n",
              "      cursor: pointer;\n",
              "      display: none;\n",
              "      fill: #1967D2;\n",
              "      height: 32px;\n",
              "      padding: 0 0 0 0;\n",
              "      width: 32px;\n",
              "    }\n",
              "\n",
              "    .colab-df-convert:hover {\n",
              "      background-color: #E2EBFA;\n",
              "      box-shadow: 0px 1px 2px rgba(60, 64, 67, 0.3), 0px 1px 3px 1px rgba(60, 64, 67, 0.15);\n",
              "      fill: #174EA6;\n",
              "    }\n",
              "\n",
              "    [theme=dark] .colab-df-convert {\n",
              "      background-color: #3B4455;\n",
              "      fill: #D2E3FC;\n",
              "    }\n",
              "\n",
              "    [theme=dark] .colab-df-convert:hover {\n",
              "      background-color: #434B5C;\n",
              "      box-shadow: 0px 1px 3px 1px rgba(0, 0, 0, 0.15);\n",
              "      filter: drop-shadow(0px 1px 2px rgba(0, 0, 0, 0.3));\n",
              "      fill: #FFFFFF;\n",
              "    }\n",
              "  </style>\n",
              "\n",
              "      <script>\n",
              "        const buttonEl =\n",
              "          document.querySelector('#df-a7739896-665f-4535-964a-95bdca513e69 button.colab-df-convert');\n",
              "        buttonEl.style.display =\n",
              "          google.colab.kernel.accessAllowed ? 'block' : 'none';\n",
              "\n",
              "        async function convertToInteractive(key) {\n",
              "          const element = document.querySelector('#df-a7739896-665f-4535-964a-95bdca513e69');\n",
              "          const dataTable =\n",
              "            await google.colab.kernel.invokeFunction('convertToInteractive',\n",
              "                                                     [key], {});\n",
              "          if (!dataTable) return;\n",
              "\n",
              "          const docLinkHtml = 'Like what you see? Visit the ' +\n",
              "            '<a target=\"_blank\" href=https://colab.research.google.com/notebooks/data_table.ipynb>data table notebook</a>'\n",
              "            + ' to learn more about interactive tables.';\n",
              "          element.innerHTML = '';\n",
              "          dataTable['output_type'] = 'display_data';\n",
              "          await google.colab.output.renderOutput(dataTable, element);\n",
              "          const docLink = document.createElement('div');\n",
              "          docLink.innerHTML = docLinkHtml;\n",
              "          element.appendChild(docLink);\n",
              "        }\n",
              "      </script>\n",
              "    </div>\n",
              "  </div>\n",
              "  "
            ]
          },
          "metadata": {},
          "execution_count": 52
        }
      ]
    },
    {
      "cell_type": "code",
      "source": [
        "lemonade.loc[lemonade['Temperature'] >= 80, ['Date' , 'Sold' ,'Location']]"
      ],
      "metadata": {
        "id": "aDexCRHrTne_"
      },
      "execution_count": null,
      "outputs": []
    },
    {
      "cell_type": "code",
      "source": [
        "lemonade[(lemonade['Sold'] >= 100) & (lemonade['Date'] >=\"7/7/2016\") & (lemonade['Location'] == \"Beach\")]"
      ],
      "metadata": {
        "colab": {
          "base_uri": "https://localhost:8080/",
          "height": 112
        },
        "id": "ZRErLCgIYe2w",
        "outputId": "4a110d4d-cae2-425f-9b63-594dd2a87d5f"
      },
      "execution_count": null,
      "outputs": [
        {
          "output_type": "execute_result",
          "data": {
            "text/plain": [
              "       Date Location  Lemon  Orange  Temperature  Leaflets  Price  Sold  \\\n",
              "7  7/7/2016    Beach    143     101           81     135.0   0.25   244   \n",
              "9  7/9/2016    Beach    134      95           80     126.0   0.25   229   \n",
              "\n",
              "   Revenue  \n",
              "7    61.00  \n",
              "9    57.25  "
            ],
            "text/html": [
              "\n",
              "  <div id=\"df-601b8b84-a6d9-46c5-a81e-fc3ea0e90b14\">\n",
              "    <div class=\"colab-df-container\">\n",
              "      <div>\n",
              "<style scoped>\n",
              "    .dataframe tbody tr th:only-of-type {\n",
              "        vertical-align: middle;\n",
              "    }\n",
              "\n",
              "    .dataframe tbody tr th {\n",
              "        vertical-align: top;\n",
              "    }\n",
              "\n",
              "    .dataframe thead th {\n",
              "        text-align: right;\n",
              "    }\n",
              "</style>\n",
              "<table border=\"1\" class=\"dataframe\">\n",
              "  <thead>\n",
              "    <tr style=\"text-align: right;\">\n",
              "      <th></th>\n",
              "      <th>Date</th>\n",
              "      <th>Location</th>\n",
              "      <th>Lemon</th>\n",
              "      <th>Orange</th>\n",
              "      <th>Temperature</th>\n",
              "      <th>Leaflets</th>\n",
              "      <th>Price</th>\n",
              "      <th>Sold</th>\n",
              "      <th>Revenue</th>\n",
              "    </tr>\n",
              "  </thead>\n",
              "  <tbody>\n",
              "    <tr>\n",
              "      <th>7</th>\n",
              "      <td>7/7/2016</td>\n",
              "      <td>Beach</td>\n",
              "      <td>143</td>\n",
              "      <td>101</td>\n",
              "      <td>81</td>\n",
              "      <td>135.0</td>\n",
              "      <td>0.25</td>\n",
              "      <td>244</td>\n",
              "      <td>61.00</td>\n",
              "    </tr>\n",
              "    <tr>\n",
              "      <th>9</th>\n",
              "      <td>7/9/2016</td>\n",
              "      <td>Beach</td>\n",
              "      <td>134</td>\n",
              "      <td>95</td>\n",
              "      <td>80</td>\n",
              "      <td>126.0</td>\n",
              "      <td>0.25</td>\n",
              "      <td>229</td>\n",
              "      <td>57.25</td>\n",
              "    </tr>\n",
              "  </tbody>\n",
              "</table>\n",
              "</div>\n",
              "      <button class=\"colab-df-convert\" onclick=\"convertToInteractive('df-601b8b84-a6d9-46c5-a81e-fc3ea0e90b14')\"\n",
              "              title=\"Convert this dataframe to an interactive table.\"\n",
              "              style=\"display:none;\">\n",
              "        \n",
              "  <svg xmlns=\"http://www.w3.org/2000/svg\" height=\"24px\"viewBox=\"0 0 24 24\"\n",
              "       width=\"24px\">\n",
              "    <path d=\"M0 0h24v24H0V0z\" fill=\"none\"/>\n",
              "    <path d=\"M18.56 5.44l.94 2.06.94-2.06 2.06-.94-2.06-.94-.94-2.06-.94 2.06-2.06.94zm-11 1L8.5 8.5l.94-2.06 2.06-.94-2.06-.94L8.5 2.5l-.94 2.06-2.06.94zm10 10l.94 2.06.94-2.06 2.06-.94-2.06-.94-.94-2.06-.94 2.06-2.06.94z\"/><path d=\"M17.41 7.96l-1.37-1.37c-.4-.4-.92-.59-1.43-.59-.52 0-1.04.2-1.43.59L10.3 9.45l-7.72 7.72c-.78.78-.78 2.05 0 2.83L4 21.41c.39.39.9.59 1.41.59.51 0 1.02-.2 1.41-.59l7.78-7.78 2.81-2.81c.8-.78.8-2.07 0-2.86zM5.41 20L4 18.59l7.72-7.72 1.47 1.35L5.41 20z\"/>\n",
              "  </svg>\n",
              "      </button>\n",
              "      \n",
              "  <style>\n",
              "    .colab-df-container {\n",
              "      display:flex;\n",
              "      flex-wrap:wrap;\n",
              "      gap: 12px;\n",
              "    }\n",
              "\n",
              "    .colab-df-convert {\n",
              "      background-color: #E8F0FE;\n",
              "      border: none;\n",
              "      border-radius: 50%;\n",
              "      cursor: pointer;\n",
              "      display: none;\n",
              "      fill: #1967D2;\n",
              "      height: 32px;\n",
              "      padding: 0 0 0 0;\n",
              "      width: 32px;\n",
              "    }\n",
              "\n",
              "    .colab-df-convert:hover {\n",
              "      background-color: #E2EBFA;\n",
              "      box-shadow: 0px 1px 2px rgba(60, 64, 67, 0.3), 0px 1px 3px 1px rgba(60, 64, 67, 0.15);\n",
              "      fill: #174EA6;\n",
              "    }\n",
              "\n",
              "    [theme=dark] .colab-df-convert {\n",
              "      background-color: #3B4455;\n",
              "      fill: #D2E3FC;\n",
              "    }\n",
              "\n",
              "    [theme=dark] .colab-df-convert:hover {\n",
              "      background-color: #434B5C;\n",
              "      box-shadow: 0px 1px 3px 1px rgba(0, 0, 0, 0.15);\n",
              "      filter: drop-shadow(0px 1px 2px rgba(0, 0, 0, 0.3));\n",
              "      fill: #FFFFFF;\n",
              "    }\n",
              "  </style>\n",
              "\n",
              "      <script>\n",
              "        const buttonEl =\n",
              "          document.querySelector('#df-601b8b84-a6d9-46c5-a81e-fc3ea0e90b14 button.colab-df-convert');\n",
              "        buttonEl.style.display =\n",
              "          google.colab.kernel.accessAllowed ? 'block' : 'none';\n",
              "\n",
              "        async function convertToInteractive(key) {\n",
              "          const element = document.querySelector('#df-601b8b84-a6d9-46c5-a81e-fc3ea0e90b14');\n",
              "          const dataTable =\n",
              "            await google.colab.kernel.invokeFunction('convertToInteractive',\n",
              "                                                     [key], {});\n",
              "          if (!dataTable) return;\n",
              "\n",
              "          const docLinkHtml = 'Like what you see? Visit the ' +\n",
              "            '<a target=\"_blank\" href=https://colab.research.google.com/notebooks/data_table.ipynb>data table notebook</a>'\n",
              "            + ' to learn more about interactive tables.';\n",
              "          element.innerHTML = '';\n",
              "          dataTable['output_type'] = 'display_data';\n",
              "          await google.colab.output.renderOutput(dataTable, element);\n",
              "          const docLink = document.createElement('div');\n",
              "          docLink.innerHTML = docLinkHtml;\n",
              "          element.appendChild(docLink);\n",
              "        }\n",
              "      </script>\n",
              "    </div>\n",
              "  </div>\n",
              "  "
            ]
          },
          "metadata": {},
          "execution_count": 68
        }
      ]
    },
    {
      "cell_type": "markdown",
      "source": [
        "## iloc vs loc\n",
        "- 문법상의 차이 확인"
      ],
      "metadata": {
        "id": "XydFvXwgz-zj"
      }
    },
    {
      "cell_type": "code",
      "source": [
        "lemonade.head()"
      ],
      "metadata": {
        "colab": {
          "base_uri": "https://localhost:8080/",
          "height": 206
        },
        "id": "r6zdPzpoz9ej",
        "outputId": "83d79062-eae1-4adf-9ce4-74222adf1025"
      },
      "execution_count": null,
      "outputs": [
        {
          "output_type": "execute_result",
          "data": {
            "text/plain": [
              "       Date Location  Lemon  Orange  Temperature  Leaflets  Price  Sold  \\\n",
              "0  7/1/2016     Park     97      67           70      90.0   0.25   164   \n",
              "1  7/2/2016     Park     98      67           72      90.0   0.25   165   \n",
              "2  7/3/2016     Park    110      77           71     104.0   0.25   187   \n",
              "3  7/4/2016    Beach    134      99           76      98.0   0.25   233   \n",
              "4  7/5/2016    Beach    159     118           78     135.0   0.25   277   \n",
              "\n",
              "   Revenue  \n",
              "0    41.00  \n",
              "1    41.25  \n",
              "2    46.75  \n",
              "3    58.25  \n",
              "4    69.25  "
            ],
            "text/html": [
              "\n",
              "  <div id=\"df-1a045e80-309a-4f44-8982-1e7191c9de4c\">\n",
              "    <div class=\"colab-df-container\">\n",
              "      <div>\n",
              "<style scoped>\n",
              "    .dataframe tbody tr th:only-of-type {\n",
              "        vertical-align: middle;\n",
              "    }\n",
              "\n",
              "    .dataframe tbody tr th {\n",
              "        vertical-align: top;\n",
              "    }\n",
              "\n",
              "    .dataframe thead th {\n",
              "        text-align: right;\n",
              "    }\n",
              "</style>\n",
              "<table border=\"1\" class=\"dataframe\">\n",
              "  <thead>\n",
              "    <tr style=\"text-align: right;\">\n",
              "      <th></th>\n",
              "      <th>Date</th>\n",
              "      <th>Location</th>\n",
              "      <th>Lemon</th>\n",
              "      <th>Orange</th>\n",
              "      <th>Temperature</th>\n",
              "      <th>Leaflets</th>\n",
              "      <th>Price</th>\n",
              "      <th>Sold</th>\n",
              "      <th>Revenue</th>\n",
              "    </tr>\n",
              "  </thead>\n",
              "  <tbody>\n",
              "    <tr>\n",
              "      <th>0</th>\n",
              "      <td>7/1/2016</td>\n",
              "      <td>Park</td>\n",
              "      <td>97</td>\n",
              "      <td>67</td>\n",
              "      <td>70</td>\n",
              "      <td>90.0</td>\n",
              "      <td>0.25</td>\n",
              "      <td>164</td>\n",
              "      <td>41.00</td>\n",
              "    </tr>\n",
              "    <tr>\n",
              "      <th>1</th>\n",
              "      <td>7/2/2016</td>\n",
              "      <td>Park</td>\n",
              "      <td>98</td>\n",
              "      <td>67</td>\n",
              "      <td>72</td>\n",
              "      <td>90.0</td>\n",
              "      <td>0.25</td>\n",
              "      <td>165</td>\n",
              "      <td>41.25</td>\n",
              "    </tr>\n",
              "    <tr>\n",
              "      <th>2</th>\n",
              "      <td>7/3/2016</td>\n",
              "      <td>Park</td>\n",
              "      <td>110</td>\n",
              "      <td>77</td>\n",
              "      <td>71</td>\n",
              "      <td>104.0</td>\n",
              "      <td>0.25</td>\n",
              "      <td>187</td>\n",
              "      <td>46.75</td>\n",
              "    </tr>\n",
              "    <tr>\n",
              "      <th>3</th>\n",
              "      <td>7/4/2016</td>\n",
              "      <td>Beach</td>\n",
              "      <td>134</td>\n",
              "      <td>99</td>\n",
              "      <td>76</td>\n",
              "      <td>98.0</td>\n",
              "      <td>0.25</td>\n",
              "      <td>233</td>\n",
              "      <td>58.25</td>\n",
              "    </tr>\n",
              "    <tr>\n",
              "      <th>4</th>\n",
              "      <td>7/5/2016</td>\n",
              "      <td>Beach</td>\n",
              "      <td>159</td>\n",
              "      <td>118</td>\n",
              "      <td>78</td>\n",
              "      <td>135.0</td>\n",
              "      <td>0.25</td>\n",
              "      <td>277</td>\n",
              "      <td>69.25</td>\n",
              "    </tr>\n",
              "  </tbody>\n",
              "</table>\n",
              "</div>\n",
              "      <button class=\"colab-df-convert\" onclick=\"convertToInteractive('df-1a045e80-309a-4f44-8982-1e7191c9de4c')\"\n",
              "              title=\"Convert this dataframe to an interactive table.\"\n",
              "              style=\"display:none;\">\n",
              "        \n",
              "  <svg xmlns=\"http://www.w3.org/2000/svg\" height=\"24px\"viewBox=\"0 0 24 24\"\n",
              "       width=\"24px\">\n",
              "    <path d=\"M0 0h24v24H0V0z\" fill=\"none\"/>\n",
              "    <path d=\"M18.56 5.44l.94 2.06.94-2.06 2.06-.94-2.06-.94-.94-2.06-.94 2.06-2.06.94zm-11 1L8.5 8.5l.94-2.06 2.06-.94-2.06-.94L8.5 2.5l-.94 2.06-2.06.94zm10 10l.94 2.06.94-2.06 2.06-.94-2.06-.94-.94-2.06-.94 2.06-2.06.94z\"/><path d=\"M17.41 7.96l-1.37-1.37c-.4-.4-.92-.59-1.43-.59-.52 0-1.04.2-1.43.59L10.3 9.45l-7.72 7.72c-.78.78-.78 2.05 0 2.83L4 21.41c.39.39.9.59 1.41.59.51 0 1.02-.2 1.41-.59l7.78-7.78 2.81-2.81c.8-.78.8-2.07 0-2.86zM5.41 20L4 18.59l7.72-7.72 1.47 1.35L5.41 20z\"/>\n",
              "  </svg>\n",
              "      </button>\n",
              "      \n",
              "  <style>\n",
              "    .colab-df-container {\n",
              "      display:flex;\n",
              "      flex-wrap:wrap;\n",
              "      gap: 12px;\n",
              "    }\n",
              "\n",
              "    .colab-df-convert {\n",
              "      background-color: #E8F0FE;\n",
              "      border: none;\n",
              "      border-radius: 50%;\n",
              "      cursor: pointer;\n",
              "      display: none;\n",
              "      fill: #1967D2;\n",
              "      height: 32px;\n",
              "      padding: 0 0 0 0;\n",
              "      width: 32px;\n",
              "    }\n",
              "\n",
              "    .colab-df-convert:hover {\n",
              "      background-color: #E2EBFA;\n",
              "      box-shadow: 0px 1px 2px rgba(60, 64, 67, 0.3), 0px 1px 3px 1px rgba(60, 64, 67, 0.15);\n",
              "      fill: #174EA6;\n",
              "    }\n",
              "\n",
              "    [theme=dark] .colab-df-convert {\n",
              "      background-color: #3B4455;\n",
              "      fill: #D2E3FC;\n",
              "    }\n",
              "\n",
              "    [theme=dark] .colab-df-convert:hover {\n",
              "      background-color: #434B5C;\n",
              "      box-shadow: 0px 1px 3px 1px rgba(0, 0, 0, 0.15);\n",
              "      filter: drop-shadow(0px 1px 2px rgba(0, 0, 0, 0.3));\n",
              "      fill: #FFFFFF;\n",
              "    }\n",
              "  </style>\n",
              "\n",
              "      <script>\n",
              "        const buttonEl =\n",
              "          document.querySelector('#df-1a045e80-309a-4f44-8982-1e7191c9de4c button.colab-df-convert');\n",
              "        buttonEl.style.display =\n",
              "          google.colab.kernel.accessAllowed ? 'block' : 'none';\n",
              "\n",
              "        async function convertToInteractive(key) {\n",
              "          const element = document.querySelector('#df-1a045e80-309a-4f44-8982-1e7191c9de4c');\n",
              "          const dataTable =\n",
              "            await google.colab.kernel.invokeFunction('convertToInteractive',\n",
              "                                                     [key], {});\n",
              "          if (!dataTable) return;\n",
              "\n",
              "          const docLinkHtml = 'Like what you see? Visit the ' +\n",
              "            '<a target=\"_blank\" href=https://colab.research.google.com/notebooks/data_table.ipynb>data table notebook</a>'\n",
              "            + ' to learn more about interactive tables.';\n",
              "          element.innerHTML = '';\n",
              "          dataTable['output_type'] = 'display_data';\n",
              "          await google.colab.output.renderOutput(dataTable, element);\n",
              "          const docLink = document.createElement('div');\n",
              "          docLink.innerHTML = docLinkHtml;\n",
              "          element.appendChild(docLink);\n",
              "        }\n",
              "      </script>\n",
              "    </div>\n",
              "  </div>\n",
              "  "
            ]
          },
          "metadata": {},
          "execution_count": 69
        }
      ]
    },
    {
      "cell_type": "markdown",
      "source": [
        "- iloc\n",
        "---->  숫자만 들어"
      ],
      "metadata": {
        "id": "TK3q7bRF0Nok"
      }
    },
    {
      "cell_type": "code",
      "source": [
        "print(lemonade.iloc[0:3, 0:2])"
      ],
      "metadata": {
        "colab": {
          "base_uri": "https://localhost:8080/"
        },
        "id": "J7pLYYCj0Qxr",
        "outputId": "645c254f-7732-4f3a-aa75-49224836674b"
      },
      "execution_count": null,
      "outputs": [
        {
          "output_type": "stream",
          "name": "stdout",
          "text": [
            "       Date Location\n",
            "0  7/1/2016     Park\n",
            "1  7/2/2016     Park\n",
            "2  7/3/2016     Park\n"
          ]
        }
      ]
    },
    {
      "cell_type": "markdown",
      "source": [
        "- loc : 숫자 (x)\n",
        " + 라벨 = 글자(숫자, 문자 동시포함)"
      ],
      "metadata": {
        "id": "1zsu0e0r0plo"
      }
    },
    {
      "cell_type": "code",
      "source": [
        "print(lemonade.loc[0:2, ['Date', 'Location']])"
      ],
      "metadata": {
        "colab": {
          "base_uri": "https://localhost:8080/"
        },
        "id": "CYSjvkbS0ySj",
        "outputId": "26cf17b5-d299-49c4-a844-98ec76ce11bf"
      },
      "execution_count": null,
      "outputs": [
        {
          "output_type": "stream",
          "name": "stdout",
          "text": [
            "       Date Location\n",
            "0  7/1/2016     Park\n",
            "1  7/2/2016     Park\n",
            "2  7/3/2016     Park\n"
          ]
        }
      ]
    },
    {
      "cell_type": "markdown",
      "source": [
        "## 데이터 덩령\n",
        "- sort_values()"
      ],
      "metadata": {
        "id": "RwcYsv1_3E8W"
      }
    },
    {
      "cell_type": "code",
      "source": [
        "#lemonade.head()\n",
        "print(lemonade.sort_values(by=['Revenue']).head(10))"
      ],
      "metadata": {
        "colab": {
          "base_uri": "https://localhost:8080/"
        },
        "id": "FUo9fW143EbV",
        "outputId": "e86cfa18-b698-43ad-d4a0-a69e95f251c3"
      },
      "execution_count": null,
      "outputs": [
        {
          "output_type": "stream",
          "name": "stdout",
          "text": [
            "         Date Location  Lemon  Orange  Temperature  Leaflets  Price  Sold  \\\n",
            "0    7/1/2016     Park     97      67           70      90.0   0.25   164   \n",
            "1    7/2/2016     Park     98      67           72      90.0   0.25   165   \n",
            "6    7/6/2016    Beach    103      69           82      90.0   0.25   172   \n",
            "5    7/6/2016    Beach    103      69           82      90.0   0.25   172   \n",
            "31  7/31/2016    Beach     76      47           82      68.0   0.35   123   \n",
            "13  7/13/2016    Beach    109      75           77      99.0   0.25   184   \n",
            "2    7/3/2016     Park    110      77           71     104.0   0.25   187   \n",
            "30  7/30/2016    Beach     88      57           82      81.0   0.35   145   \n",
            "14  7/14/2016    Beach    122      85           78     113.0   0.25   207   \n",
            "8         NaN    Beach    123      86           82     113.0   0.25   209   \n",
            "\n",
            "    Revenue  \n",
            "0     41.00  \n",
            "1     41.25  \n",
            "6     43.00  \n",
            "5     43.00  \n",
            "31    43.05  \n",
            "13    46.00  \n",
            "2     46.75  \n",
            "30    50.75  \n",
            "14    51.75  \n",
            "8     52.25  \n"
          ]
        }
      ]
    },
    {
      "cell_type": "code",
      "source": [
        "print(lemonade[['Date', 'Temperature', 'Revenue']].sort_values(by=['Revenue']).head(5))"
      ],
      "metadata": {
        "colab": {
          "base_uri": "https://localhost:8080/"
        },
        "id": "xHmf3HDA3g9V",
        "outputId": "ebcce825-f9c6-4c66-c961-25e15d0c65fb"
      },
      "execution_count": null,
      "outputs": [
        {
          "output_type": "stream",
          "name": "stdout",
          "text": [
            "         Date  Temperature  Revenue\n",
            "0    7/1/2016           70    41.00\n",
            "1    7/2/2016           72    41.25\n",
            "6    7/6/2016           82    43.00\n",
            "5    7/6/2016           82    43.00\n",
            "31  7/31/2016           82    43.05\n"
          ]
        }
      ]
    },
    {
      "cell_type": "code",
      "source": [
        "print(lemonade[['Date', 'Temperature', 'Revenue']].sort_values(by=['Temperature','Revenue']).head(5))"
      ],
      "metadata": {
        "colab": {
          "base_uri": "https://localhost:8080/"
        },
        "id": "wM-ZGdE24ETt",
        "outputId": "5b83d10f-1a21-4114-cec6-a10975151811"
      },
      "execution_count": null,
      "outputs": [
        {
          "output_type": "stream",
          "name": "stdout",
          "text": [
            "         Date  Temperature  Revenue\n",
            "0    7/1/2016           70    41.00\n",
            "20  7/20/2016           70    56.50\n",
            "2    7/3/2016           71    46.75\n",
            "1    7/2/2016           72    41.25\n",
            "16  7/16/2016           74    65.50\n"
          ]
        }
      ]
    },
    {
      "cell_type": "code",
      "source": [
        "print(lemonade[['Date', 'Temperature', 'Revenue']].sort_values(by=['Temperature', 'Revenue'], ascending = [True, False]).head(5))"
      ],
      "metadata": {
        "colab": {
          "base_uri": "https://localhost:8080/"
        },
        "id": "oKCPRJzA47jf",
        "outputId": "2166f3f4-b6fd-4cdb-bec5-1a6d98c9d08f"
      },
      "execution_count": null,
      "outputs": [
        {
          "output_type": "stream",
          "name": "stdout",
          "text": [
            "         Date  Temperature  Revenue\n",
            "20  7/20/2016           70    56.50\n",
            "0    7/1/2016           70    41.00\n",
            "2    7/3/2016           71    46.75\n",
            "1    7/2/2016           72    41.25\n",
            "16  7/16/2016           74    65.50\n"
          ]
        }
      ]
    },
    {
      "cell_type": "markdown",
      "source": [
        "## Group by"
      ],
      "metadata": {
        "id": "HlXy52k_5w4W"
      }
    },
    {
      "cell_type": "code",
      "source": [
        "print(lemonade.head())"
      ],
      "metadata": {
        "colab": {
          "base_uri": "https://localhost:8080/"
        },
        "id": "Uu-q9W_-6TqW",
        "outputId": "f5805120-ad0b-4155-dd09-e7807597ee0e"
      },
      "execution_count": null,
      "outputs": [
        {
          "output_type": "stream",
          "name": "stdout",
          "text": [
            "       Date Location  Lemon  Orange  Temperature  Leaflets  Price  Sold  \\\n",
            "0  7/1/2016     Park     97      67           70      90.0   0.25   164   \n",
            "1  7/2/2016     Park     98      67           72      90.0   0.25   165   \n",
            "2  7/3/2016     Park    110      77           71     104.0   0.25   187   \n",
            "3  7/4/2016    Beach    134      99           76      98.0   0.25   233   \n",
            "4  7/5/2016    Beach    159     118           78     135.0   0.25   277   \n",
            "\n",
            "   Revenue  \n",
            "0    41.00  \n",
            "1    41.25  \n",
            "2    46.75  \n",
            "3    58.25  \n",
            "4    69.25  \n"
          ]
        }
      ]
    },
    {
      "cell_type": "code",
      "source": [
        "df = lemonade.groupby(by='Location').count()\n",
        "print(df)\n",
        "print(type(df))\n",
        "\n",
        "df[['Date', 'Lemon']]\n",
        "print(df.iloc[0:1, 0:2])\n",
        "print(df.loc['Park', ['Date', 'Lemon']])"
      ],
      "metadata": {
        "id": "mNHFnop07PvA"
      },
      "execution_count": null,
      "outputs": []
    },
    {
      "cell_type": "markdown",
      "source": [
        "- 간단한 피벗 테이블 만들기"
      ],
      "metadata": {
        "id": "gb-WpELx75Ju"
      }
    },
    {
      "cell_type": "code",
      "source": [
        "lemonade.groupby('Location')['Revenue'].agg([max, min, sum, np.mean])"
      ],
      "metadata": {
        "colab": {
          "base_uri": "https://localhost:8080/",
          "height": 143
        },
        "id": "uxY43-II74Xf",
        "outputId": "e608531c-cd30-4c3f-a7ad-98c83b564730"
      },
      "execution_count": null,
      "outputs": [
        {
          "output_type": "execute_result",
          "data": {
            "text/plain": [
              "            max   min     sum       mean\n",
              "Location                                \n",
              "Beach      95.5  43.0  1002.8  58.988235\n",
              "Park      134.5  41.0  1178.2  78.546667"
            ],
            "text/html": [
              "\n",
              "  <div id=\"df-94877c17-9807-408f-b141-22c8c8b20eaf\">\n",
              "    <div class=\"colab-df-container\">\n",
              "      <div>\n",
              "<style scoped>\n",
              "    .dataframe tbody tr th:only-of-type {\n",
              "        vertical-align: middle;\n",
              "    }\n",
              "\n",
              "    .dataframe tbody tr th {\n",
              "        vertical-align: top;\n",
              "    }\n",
              "\n",
              "    .dataframe thead th {\n",
              "        text-align: right;\n",
              "    }\n",
              "</style>\n",
              "<table border=\"1\" class=\"dataframe\">\n",
              "  <thead>\n",
              "    <tr style=\"text-align: right;\">\n",
              "      <th></th>\n",
              "      <th>max</th>\n",
              "      <th>min</th>\n",
              "      <th>sum</th>\n",
              "      <th>mean</th>\n",
              "    </tr>\n",
              "    <tr>\n",
              "      <th>Location</th>\n",
              "      <th></th>\n",
              "      <th></th>\n",
              "      <th></th>\n",
              "      <th></th>\n",
              "    </tr>\n",
              "  </thead>\n",
              "  <tbody>\n",
              "    <tr>\n",
              "      <th>Beach</th>\n",
              "      <td>95.5</td>\n",
              "      <td>43.0</td>\n",
              "      <td>1002.8</td>\n",
              "      <td>58.988235</td>\n",
              "    </tr>\n",
              "    <tr>\n",
              "      <th>Park</th>\n",
              "      <td>134.5</td>\n",
              "      <td>41.0</td>\n",
              "      <td>1178.2</td>\n",
              "      <td>78.546667</td>\n",
              "    </tr>\n",
              "  </tbody>\n",
              "</table>\n",
              "</div>\n",
              "      <button class=\"colab-df-convert\" onclick=\"convertToInteractive('df-94877c17-9807-408f-b141-22c8c8b20eaf')\"\n",
              "              title=\"Convert this dataframe to an interactive table.\"\n",
              "              style=\"display:none;\">\n",
              "        \n",
              "  <svg xmlns=\"http://www.w3.org/2000/svg\" height=\"24px\"viewBox=\"0 0 24 24\"\n",
              "       width=\"24px\">\n",
              "    <path d=\"M0 0h24v24H0V0z\" fill=\"none\"/>\n",
              "    <path d=\"M18.56 5.44l.94 2.06.94-2.06 2.06-.94-2.06-.94-.94-2.06-.94 2.06-2.06.94zm-11 1L8.5 8.5l.94-2.06 2.06-.94-2.06-.94L8.5 2.5l-.94 2.06-2.06.94zm10 10l.94 2.06.94-2.06 2.06-.94-2.06-.94-.94-2.06-.94 2.06-2.06.94z\"/><path d=\"M17.41 7.96l-1.37-1.37c-.4-.4-.92-.59-1.43-.59-.52 0-1.04.2-1.43.59L10.3 9.45l-7.72 7.72c-.78.78-.78 2.05 0 2.83L4 21.41c.39.39.9.59 1.41.59.51 0 1.02-.2 1.41-.59l7.78-7.78 2.81-2.81c.8-.78.8-2.07 0-2.86zM5.41 20L4 18.59l7.72-7.72 1.47 1.35L5.41 20z\"/>\n",
              "  </svg>\n",
              "      </button>\n",
              "      \n",
              "  <style>\n",
              "    .colab-df-container {\n",
              "      display:flex;\n",
              "      flex-wrap:wrap;\n",
              "      gap: 12px;\n",
              "    }\n",
              "\n",
              "    .colab-df-convert {\n",
              "      background-color: #E8F0FE;\n",
              "      border: none;\n",
              "      border-radius: 50%;\n",
              "      cursor: pointer;\n",
              "      display: none;\n",
              "      fill: #1967D2;\n",
              "      height: 32px;\n",
              "      padding: 0 0 0 0;\n",
              "      width: 32px;\n",
              "    }\n",
              "\n",
              "    .colab-df-convert:hover {\n",
              "      background-color: #E2EBFA;\n",
              "      box-shadow: 0px 1px 2px rgba(60, 64, 67, 0.3), 0px 1px 3px 1px rgba(60, 64, 67, 0.15);\n",
              "      fill: #174EA6;\n",
              "    }\n",
              "\n",
              "    [theme=dark] .colab-df-convert {\n",
              "      background-color: #3B4455;\n",
              "      fill: #D2E3FC;\n",
              "    }\n",
              "\n",
              "    [theme=dark] .colab-df-convert:hover {\n",
              "      background-color: #434B5C;\n",
              "      box-shadow: 0px 1px 3px 1px rgba(0, 0, 0, 0.15);\n",
              "      filter: drop-shadow(0px 1px 2px rgba(0, 0, 0, 0.3));\n",
              "      fill: #FFFFFF;\n",
              "    }\n",
              "  </style>\n",
              "\n",
              "      <script>\n",
              "        const buttonEl =\n",
              "          document.querySelector('#df-94877c17-9807-408f-b141-22c8c8b20eaf button.colab-df-convert');\n",
              "        buttonEl.style.display =\n",
              "          google.colab.kernel.accessAllowed ? 'block' : 'none';\n",
              "\n",
              "        async function convertToInteractive(key) {\n",
              "          const element = document.querySelector('#df-94877c17-9807-408f-b141-22c8c8b20eaf');\n",
              "          const dataTable =\n",
              "            await google.colab.kernel.invokeFunction('convertToInteractive',\n",
              "                                                     [key], {});\n",
              "          if (!dataTable) return;\n",
              "\n",
              "          const docLinkHtml = 'Like what you see? Visit the ' +\n",
              "            '<a target=\"_blank\" href=https://colab.research.google.com/notebooks/data_table.ipynb>data table notebook</a>'\n",
              "            + ' to learn more about interactive tables.';\n",
              "          element.innerHTML = '';\n",
              "          dataTable['output_type'] = 'display_data';\n",
              "          await google.colab.output.renderOutput(dataTable, element);\n",
              "          const docLink = document.createElement('div');\n",
              "          docLink.innerHTML = docLinkHtml;\n",
              "          element.appendChild(docLink);\n",
              "        }\n",
              "      </script>\n",
              "    </div>\n",
              "  </div>\n",
              "  "
            ]
          },
          "metadata": {},
          "execution_count": 101
        }
      ]
    },
    {
      "cell_type": "code",
      "source": [
        "lemonade.groupby('Location')[['Revenue', 'Sold', 'Temperature']].agg([max, min, sum, np.mean])"
      ],
      "metadata": {
        "colab": {
          "base_uri": "https://localhost:8080/",
          "height": 175
        },
        "id": "N4jRdGfi8gaV",
        "outputId": "21b7ea8d-4b18-4574-d594-99f528104d85"
      },
      "execution_count": null,
      "outputs": [
        {
          "output_type": "execute_result",
          "data": {
            "text/plain": [
              "         Revenue                          Sold                         \\\n",
              "             max   min     sum       mean  max  min   sum        mean   \n",
              "Location                                                                \n",
              "Beach       95.5  43.0  1002.8  58.988235  282  123  3422  201.294118   \n",
              "Park       134.5  41.0  1178.2  78.546667  305  113  2855  190.333333   \n",
              "\n",
              "         Temperature                       \n",
              "                 max min   sum       mean  \n",
              "Location                                   \n",
              "Beach             84  74  1355  79.705882  \n",
              "Park              84  70  1172  78.133333  "
            ],
            "text/html": [
              "\n",
              "  <div id=\"df-e286c54d-7c89-4fb5-8187-d53827639975\">\n",
              "    <div class=\"colab-df-container\">\n",
              "      <div>\n",
              "<style scoped>\n",
              "    .dataframe tbody tr th:only-of-type {\n",
              "        vertical-align: middle;\n",
              "    }\n",
              "\n",
              "    .dataframe tbody tr th {\n",
              "        vertical-align: top;\n",
              "    }\n",
              "\n",
              "    .dataframe thead tr th {\n",
              "        text-align: left;\n",
              "    }\n",
              "\n",
              "    .dataframe thead tr:last-of-type th {\n",
              "        text-align: right;\n",
              "    }\n",
              "</style>\n",
              "<table border=\"1\" class=\"dataframe\">\n",
              "  <thead>\n",
              "    <tr>\n",
              "      <th></th>\n",
              "      <th colspan=\"4\" halign=\"left\">Revenue</th>\n",
              "      <th colspan=\"4\" halign=\"left\">Sold</th>\n",
              "      <th colspan=\"4\" halign=\"left\">Temperature</th>\n",
              "    </tr>\n",
              "    <tr>\n",
              "      <th></th>\n",
              "      <th>max</th>\n",
              "      <th>min</th>\n",
              "      <th>sum</th>\n",
              "      <th>mean</th>\n",
              "      <th>max</th>\n",
              "      <th>min</th>\n",
              "      <th>sum</th>\n",
              "      <th>mean</th>\n",
              "      <th>max</th>\n",
              "      <th>min</th>\n",
              "      <th>sum</th>\n",
              "      <th>mean</th>\n",
              "    </tr>\n",
              "    <tr>\n",
              "      <th>Location</th>\n",
              "      <th></th>\n",
              "      <th></th>\n",
              "      <th></th>\n",
              "      <th></th>\n",
              "      <th></th>\n",
              "      <th></th>\n",
              "      <th></th>\n",
              "      <th></th>\n",
              "      <th></th>\n",
              "      <th></th>\n",
              "      <th></th>\n",
              "      <th></th>\n",
              "    </tr>\n",
              "  </thead>\n",
              "  <tbody>\n",
              "    <tr>\n",
              "      <th>Beach</th>\n",
              "      <td>95.5</td>\n",
              "      <td>43.0</td>\n",
              "      <td>1002.8</td>\n",
              "      <td>58.988235</td>\n",
              "      <td>282</td>\n",
              "      <td>123</td>\n",
              "      <td>3422</td>\n",
              "      <td>201.294118</td>\n",
              "      <td>84</td>\n",
              "      <td>74</td>\n",
              "      <td>1355</td>\n",
              "      <td>79.705882</td>\n",
              "    </tr>\n",
              "    <tr>\n",
              "      <th>Park</th>\n",
              "      <td>134.5</td>\n",
              "      <td>41.0</td>\n",
              "      <td>1178.2</td>\n",
              "      <td>78.546667</td>\n",
              "      <td>305</td>\n",
              "      <td>113</td>\n",
              "      <td>2855</td>\n",
              "      <td>190.333333</td>\n",
              "      <td>84</td>\n",
              "      <td>70</td>\n",
              "      <td>1172</td>\n",
              "      <td>78.133333</td>\n",
              "    </tr>\n",
              "  </tbody>\n",
              "</table>\n",
              "</div>\n",
              "      <button class=\"colab-df-convert\" onclick=\"convertToInteractive('df-e286c54d-7c89-4fb5-8187-d53827639975')\"\n",
              "              title=\"Convert this dataframe to an interactive table.\"\n",
              "              style=\"display:none;\">\n",
              "        \n",
              "  <svg xmlns=\"http://www.w3.org/2000/svg\" height=\"24px\"viewBox=\"0 0 24 24\"\n",
              "       width=\"24px\">\n",
              "    <path d=\"M0 0h24v24H0V0z\" fill=\"none\"/>\n",
              "    <path d=\"M18.56 5.44l.94 2.06.94-2.06 2.06-.94-2.06-.94-.94-2.06-.94 2.06-2.06.94zm-11 1L8.5 8.5l.94-2.06 2.06-.94-2.06-.94L8.5 2.5l-.94 2.06-2.06.94zm10 10l.94 2.06.94-2.06 2.06-.94-2.06-.94-.94-2.06-.94 2.06-2.06.94z\"/><path d=\"M17.41 7.96l-1.37-1.37c-.4-.4-.92-.59-1.43-.59-.52 0-1.04.2-1.43.59L10.3 9.45l-7.72 7.72c-.78.78-.78 2.05 0 2.83L4 21.41c.39.39.9.59 1.41.59.51 0 1.02-.2 1.41-.59l7.78-7.78 2.81-2.81c.8-.78.8-2.07 0-2.86zM5.41 20L4 18.59l7.72-7.72 1.47 1.35L5.41 20z\"/>\n",
              "  </svg>\n",
              "      </button>\n",
              "      \n",
              "  <style>\n",
              "    .colab-df-container {\n",
              "      display:flex;\n",
              "      flex-wrap:wrap;\n",
              "      gap: 12px;\n",
              "    }\n",
              "\n",
              "    .colab-df-convert {\n",
              "      background-color: #E8F0FE;\n",
              "      border: none;\n",
              "      border-radius: 50%;\n",
              "      cursor: pointer;\n",
              "      display: none;\n",
              "      fill: #1967D2;\n",
              "      height: 32px;\n",
              "      padding: 0 0 0 0;\n",
              "      width: 32px;\n",
              "    }\n",
              "\n",
              "    .colab-df-convert:hover {\n",
              "      background-color: #E2EBFA;\n",
              "      box-shadow: 0px 1px 2px rgba(60, 64, 67, 0.3), 0px 1px 3px 1px rgba(60, 64, 67, 0.15);\n",
              "      fill: #174EA6;\n",
              "    }\n",
              "\n",
              "    [theme=dark] .colab-df-convert {\n",
              "      background-color: #3B4455;\n",
              "      fill: #D2E3FC;\n",
              "    }\n",
              "\n",
              "    [theme=dark] .colab-df-convert:hover {\n",
              "      background-color: #434B5C;\n",
              "      box-shadow: 0px 1px 3px 1px rgba(0, 0, 0, 0.15);\n",
              "      filter: drop-shadow(0px 1px 2px rgba(0, 0, 0, 0.3));\n",
              "      fill: #FFFFFF;\n",
              "    }\n",
              "  </style>\n",
              "\n",
              "      <script>\n",
              "        const buttonEl =\n",
              "          document.querySelector('#df-e286c54d-7c89-4fb5-8187-d53827639975 button.colab-df-convert');\n",
              "        buttonEl.style.display =\n",
              "          google.colab.kernel.accessAllowed ? 'block' : 'none';\n",
              "\n",
              "        async function convertToInteractive(key) {\n",
              "          const element = document.querySelector('#df-e286c54d-7c89-4fb5-8187-d53827639975');\n",
              "          const dataTable =\n",
              "            await google.colab.kernel.invokeFunction('convertToInteractive',\n",
              "                                                     [key], {});\n",
              "          if (!dataTable) return;\n",
              "\n",
              "          const docLinkHtml = 'Like what you see? Visit the ' +\n",
              "            '<a target=\"_blank\" href=https://colab.research.google.com/notebooks/data_table.ipynb>data table notebook</a>'\n",
              "            + ' to learn more about interactive tables.';\n",
              "          element.innerHTML = '';\n",
              "          dataTable['output_type'] = 'display_data';\n",
              "          await google.colab.output.renderOutput(dataTable, element);\n",
              "          const docLink = document.createElement('div');\n",
              "          docLink.innerHTML = docLinkHtml;\n",
              "          element.appendChild(docLink);\n",
              "        }\n",
              "      </script>\n",
              "    </div>\n",
              "  </div>\n",
              "  "
            ]
          },
          "metadata": {},
          "execution_count": 100
        }
      ]
    },
    {
      "cell_type": "markdown",
      "source": [
        ""
      ],
      "metadata": {
        "id": "m4xx6DNNGSvK"
      }
    },
    {
      "cell_type": "code",
      "source": [
        ""
      ],
      "metadata": {
        "id": "YvY4scLRGTEQ"
      },
      "execution_count": null,
      "outputs": []
    }
  ]
}