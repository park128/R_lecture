{
  "nbformat": 4,
  "nbformat_minor": 0,
  "metadata": {
    "colab": {
      "name": "day_0630.ipynb",
      "provenance": [],
      "collapsed_sections": [
        "9lH3ufcAI09o",
        "VT_51wqqW1pP",
        "F_HRZUm0X24_",
        "lve33ZoNa0cY",
        "YoLP_4OSbZTa",
        "Cn6puEMPfVoK"
      ],
      "include_colab_link": true
    },
    "kernelspec": {
      "name": "python3",
      "display_name": "Python 3"
    },
    "language_info": {
      "name": "python"
    }
  },
  "cells": [
    {
      "cell_type": "markdown",
      "metadata": {
        "id": "view-in-github",
        "colab_type": "text"
      },
      "source": [
        "<a href=\"https://colab.research.google.com/github/park128/R_lecture/blob/main/day_0630.ipynb\" target=\"_parent\"><img src=\"https://colab.research.google.com/assets/colab-badge.svg\" alt=\"Open In Colab\"/></a>"
      ]
    },
    {
      "cell_type": "markdown",
      "source": [
        "## 파이썬 주요 라이브러리\n",
        "- Machine Learning\n",
        "  + 정형데이터 \n",
        "  + 사이킷런 (Scikit-Learn)\n",
        "- Deep Learning\n",
        "  + 비정형데이터\n",
        "  + Tensorflow(구글) vs Pytorch(페이스북)\n",
        "  + 혼공머 : Tensorflow \n",
        "  + 실제 상용서비스 - Tensorflow vs R&D - Pytorch"
      ],
      "metadata": {
        "id": "1uTHDQWKH724"
      }
    },
    {
      "cell_type": "markdown",
      "source": [
        "## 생선분류 \n",
        "- p.45\n",
        "- 도미, 곤들매기, 농어, 등등 \n",
        "- 이 생선들을 프로그램으로 분류한다. "
      ],
      "metadata": {
        "id": "A4C0qKBVO9IH"
      }
    },
    {
      "cell_type": "markdown",
      "source": [
        "- 30cm 도미라고 알려줘라"
      ],
      "metadata": {
        "id": "W31M1LMPQRqW"
      }
    },
    {
      "cell_type": "code",
      "execution_count": null,
      "metadata": {
        "colab": {
          "base_uri": "https://localhost:8080/"
        },
        "id": "UKNgb_WFHikV",
        "outputId": "340b25bb-55b2-4554-b15d-d0c9fe8796a8"
      },
      "outputs": [
        {
          "output_type": "stream",
          "name": "stdout",
          "text": [
            "도미\n"
          ]
        }
      ],
      "source": [
        "fish_length = 31\n",
        "if fish_length >= 30:\n",
        "    print(\"도미\")"
      ]
    },
    {
      "cell_type": "markdown",
      "source": [
        "- p.47\n",
        "- 도미데이터"
      ],
      "metadata": {
        "id": "BKMMJiaFQlII"
      }
    },
    {
      "cell_type": "markdown",
      "source": [
        "## 데이터 수집"
      ],
      "metadata": {
        "id": "BbONi1qqQ4Bb"
      }
    },
    {
      "cell_type": "code",
      "source": [
        "# 도미의 길이\n",
        "bream_length = [25.4, 26.3, 26.5, 29.0, 29.0, 29.7, 29.7, 30.0, 30.0, 30.7, 31.0, 31.0, 31.5, 32.0, 32.0, 32.0, 33.0, 33.0, 33.5, 33.5, 34.0, 34.0, 34.5, 35.0, 35.0, 35.0, 35.0, 36.0, 36.0, 37.0, 38.5, 38.5, 39.5, 41.0, 41.0]\n",
        "\n",
        "# 도미의 무게\n",
        "bream_weight = [242.0, 290.0, 340.0, 363.0, 430.0, 450.0, 500.0, 390.0, 450.0, 500.0, 475.0, 500.0, 500.0, 340.0, 600.0, 600.0, 700.0, 700.0, 610.0, 650.0, 575.0, 685.0, 620.0, 680.0, 700.0, 725.0, 720.0, 714.0, 850.0, 1000.0, 920.0, 955.0, 925.0, 975.0, 950.0]"
      ],
      "metadata": {
        "id": "DlvkGWElQuJL"
      },
      "execution_count": null,
      "outputs": []
    },
    {
      "cell_type": "markdown",
      "source": [
        "## 데이터 가공\n",
        "- 여기서는 생략"
      ],
      "metadata": {
        "id": "ySSQTuKXQ63v"
      }
    },
    {
      "cell_type": "markdown",
      "source": [
        "## 데이터 시각화\n",
        "- 여러 인사이트 확인 위해 시각화, 통계 수치 계산\n",
        "- 탐색적 자료 분석(EDA : Exploratory Data Analysis)\n",
        "- 얘는 참고만 한다. "
      ],
      "metadata": {
        "id": "roZCx-bHRAUM"
      }
    },
    {
      "cell_type": "code",
      "source": [
        "import matplotlib.pyplot as plt\n",
        "\n",
        "plt.scatter(bream_length, bream_weight)\n",
        "plt.xlabel('length')\n",
        "plt.ylabel('weight')\n",
        "plt.show()"
      ],
      "metadata": {
        "colab": {
          "base_uri": "https://localhost:8080/",
          "height": 279
        },
        "id": "xeDjDNyZRX26",
        "outputId": "5ee8787c-176c-47fa-d50d-fee22f8f79fd"
      },
      "execution_count": null,
      "outputs": [
        {
          "output_type": "display_data",
          "data": {
            "text/plain": [
              "<Figure size 432x288 with 1 Axes>"
            ],
            "image/png": "[encoded data removed]"
          },
          "metadata": {
            "needs_background": "light"
          }
        }
      ]
    },
    {
      "cell_type": "markdown",
      "source": [
        "- 파이썬 시각화는 객체지향으로 한다. \n",
        "- 이유 : 좀 더 이쁘고, 아름답게 다듬으려면... \n",
        "- 캐글 시각화, 참고할 때, 아래와 같이 하는 분들이 많음"
      ],
      "metadata": {
        "id": "I7RJqmXJSnEK"
      }
    },
    {
      "cell_type": "code",
      "source": [
        "import matplotlib.pyplot as plt\n",
        "\n",
        "fig, ax = plt.subplots()\n",
        "ax.scatter(bream_length, bream_weight)\n",
        "ax.set_xlabel('length')\n",
        "ax.set_ylabel('weight')\n",
        "plt.show()"
      ],
      "metadata": {
        "colab": {
          "base_uri": "https://localhost:8080/",
          "height": 279
        },
        "id": "6dKQHr_sSU4X",
        "outputId": "00527c81-6b50-4e15-8f1f-122f163f244e"
      },
      "execution_count": null,
      "outputs": [
        {
          "output_type": "display_data",
          "data": {
            "text/plain": [
              "<Figure size 432x288 with 1 Axes>"
            ],
            "image/png": "[encoded data removed]"
          },
          "metadata": {
            "needs_background": "light"
          }
        }
      ]
    },
    {
      "cell_type": "markdown",
      "source": [
        "- 빙어 데이터 준비하기"
      ],
      "metadata": {
        "id": "ZRr57GU_Tl8t"
      }
    },
    {
      "cell_type": "code",
      "source": [
        "smelt_length = [9.8, 10.5, 10.6, 11.0, 11.2, 11.3, 11.8, 11.8, 12.0, 12.2, 12.4, 13.0, 14.3, 15.0]\n",
        "smelt_weight = [6.7, 7.5, 7.0, 9.7, 9.8, 8.7, 10.0, 9.9, 9.8, 12.2, 13.4, 12.2, 19.7, 19.9]"
      ],
      "metadata": {
        "id": "P5kucXTQToXr"
      },
      "execution_count": null,
      "outputs": []
    },
    {
      "cell_type": "markdown",
      "source": [
        "- 시각화 \n",
        "- p.50 시각화"
      ],
      "metadata": {
        "id": "Qr567hJETslZ"
      }
    },
    {
      "cell_type": "code",
      "source": [
        "fig, ax = plt.subplots()\n",
        "ax.scatter(bream_length, bream_weight)\n",
        "ax.scatter(smelt_length, smelt_weight)\n",
        "ax.set_xlabel('length')\n",
        "ax.set_ylabel('weight')\n",
        "plt.show()"
      ],
      "metadata": {
        "colab": {
          "base_uri": "https://localhost:8080/",
          "height": 279
        },
        "id": "_y522TEtT0KW",
        "outputId": "a65fdf2d-2a00-4033-8768-45eff3d0ced6"
      },
      "execution_count": null,
      "outputs": [
        {
          "output_type": "display_data",
          "data": {
            "text/plain": [
              "<Figure size 432x288 with 1 Axes>"
            ],
            "image/png": "[encoded data removed]"
          },
          "metadata": {
            "needs_background": "light"
          }
        }
      ]
    },
    {
      "cell_type": "markdown",
      "source": [
        "- 두개의 리스트 합치기"
      ],
      "metadata": {
        "id": "npYdg_yDVI0o"
      }
    },
    {
      "cell_type": "code",
      "source": [
        "length = bream_length + smelt_length \n",
        "weight = bream_weight + smelt_weight "
      ],
      "metadata": {
        "id": "by5U-bG8VNMe"
      },
      "execution_count": null,
      "outputs": []
    },
    {
      "cell_type": "markdown",
      "source": [
        "- 2차원 리스트로 만든다. "
      ],
      "metadata": {
        "id": "6yC4Jk00VZJM"
      }
    },
    {
      "cell_type": "code",
      "source": [
        "fish_data = [[l, w] for l, w in zip(length, weight)]\n",
        "fish_data[0:5]"
      ],
      "metadata": {
        "colab": {
          "base_uri": "https://localhost:8080/"
        },
        "id": "r2caoyL4Va2f",
        "outputId": "7430180d-0de2-44cb-ef28-c4a6742ed2ae"
      },
      "execution_count": null,
      "outputs": [
        {
          "output_type": "execute_result",
          "data": {
            "text/plain": [
              "[[25.4, 242.0], [26.3, 290.0], [26.5, 340.0], [29.0, 363.0], [29.0, 430.0]]"
            ]
          },
          "metadata": {},
          "execution_count": 103
        }
      ]
    },
    {
      "cell_type": "markdown",
      "source": [
        "- 라벨링을 해준다 = 지도 해준다 = 지도학습"
      ],
      "metadata": {
        "id": "PDK0OJBuWHB3"
      }
    },
    {
      "cell_type": "code",
      "source": [
        "fish_target = [1] * 35 + [0] * 14\n",
        "print(fish_target)"
      ],
      "metadata": {
        "colab": {
          "base_uri": "https://localhost:8080/"
        },
        "id": "hrpcVqB4XJYf",
        "outputId": "1e8312d9-308c-4062-dbef-2ccd09732a12"
      },
      "execution_count": null,
      "outputs": [
        {
          "output_type": "stream",
          "name": "stdout",
          "text": [
            "[1, 1, 1, 1, 1, 1, 1, 1, 1, 1, 1, 1, 1, 1, 1, 1, 1, 1, 1, 1, 1, 1, 1, 1, 1, 1, 1, 1, 1, 1, 1, 1, 1, 1, 1, 0, 0, 0, 0, 0, 0, 0, 0, 0, 0, 0, 0, 0, 0]\n"
          ]
        }
      ]
    },
    {
      "cell_type": "markdown",
      "source": [
        "## 모델링"
      ],
      "metadata": {
        "id": "sPRHqSsTXWvM"
      }
    },
    {
      "cell_type": "code",
      "source": [
        "from sklearn.neighbors import KNeighborsClassifier\n",
        "\n",
        "# 클래스 인스턴스화\n",
        "kn = KNeighborsClassifier()\n",
        "\n",
        "# 모형 학습\n",
        "#       독립변수, 종속변수\n",
        "kn.fit(fish_data, fish_target)"
      ],
      "metadata": {
        "colab": {
          "base_uri": "https://localhost:8080/"
        },
        "id": "atyE8ktnXZqh",
        "outputId": "2165c64f-84b1-4883-e2a3-d7460fd1c473"
      },
      "execution_count": null,
      "outputs": [
        {
          "output_type": "execute_result",
          "data": {
            "text/plain": [
              "KNeighborsClassifier()"
            ]
          },
          "metadata": {},
          "execution_count": 105
        }
      ]
    },
    {
      "cell_type": "code",
      "source": [
        "# 예측 정확도\n",
        "kn.score(fish_data, fish_target)"
      ],
      "metadata": {
        "colab": {
          "base_uri": "https://localhost:8080/"
        },
        "id": "RJNWsXOLYfBj",
        "outputId": "69e43ba5-2824-4e55-9c96-1727446e9be1"
      },
      "execution_count": null,
      "outputs": [
        {
          "output_type": "execute_result",
          "data": {
            "text/plain": [
              "1.0"
            ]
          },
          "metadata": {},
          "execution_count": 106
        }
      ]
    },
    {
      "cell_type": "markdown",
      "source": [
        "- 실제 예측을 해보자\n",
        "- 새로운 물고기 도착했습니다. \n",
        "  + 길이 : 30, 몸무게 : 600"
      ],
      "metadata": {
        "id": "FPou8kc7YpZZ"
      }
    },
    {
      "cell_type": "code",
      "source": [
        "ac_length = int(input(\"물고기 길이를 입력하세요...\"))\n",
        "ac_weight = int(input(\"물고기 무게를 입력하세요...\"))\n",
        "\n",
        "preds = int(kn.predict([[ac_length, ac_weight]]))\n",
        "print(preds)\n",
        "\n",
        "if preds == 1:\n",
        "  print(\"도미\")\n",
        "else:\n",
        "  print(\"빙어\")\n"
      ],
      "metadata": {
        "colab": {
          "base_uri": "https://localhost:8080/"
        },
        "id": "14iVVtXeYzXv",
        "outputId": "3e188c9c-011c-42bd-e43c-3c2a92d8edfc"
      },
      "execution_count": null,
      "outputs": [
        {
          "output_type": "stream",
          "name": "stdout",
          "text": [
            "물고기 길이를 입력하세요...20\n",
            "물고기 무게를 입력하세요...20\n",
            "0\n",
            "빙어\n"
          ]
        }
      ]
    },
    {
      "cell_type": "markdown",
      "source": [
        "## 새로운 모델 제안\n",
        "- Default : 정확도 100%\n",
        "- 제안 : 정확도 71%\n",
        "\n",
        "---> 실험 단계\n"
      ],
      "metadata": {
        "id": "9lH3ufcAI09o"
      }
    },
    {
      "cell_type": "code",
      "source": [
        "def add(a = 1, b = 0):\n",
        "  return a + b \n",
        "add()"
      ],
      "metadata": {
        "colab": {
          "base_uri": "https://localhost:8080/"
        },
        "id": "OFqqSm6UJ-vp",
        "outputId": "d9183570-8488-4578-9e76-5bb0ebfaf08b"
      },
      "execution_count": null,
      "outputs": [
        {
          "output_type": "execute_result",
          "data": {
            "text/plain": [
              "1"
            ]
          },
          "metadata": {},
          "execution_count": 108
        }
      ]
    },
    {
      "cell_type": "markdown",
      "source": [
        "- 하이퍼 파라미터 세팅\n",
        "  + n_neighbors = 49\n",
        "\n",
        "- default : 100%\n"
      ],
      "metadata": {
        "id": "zbnFkpuRKVu4"
      }
    },
    {
      "cell_type": "markdown",
      "source": [
        "## 머신러닝 알고리즘 두개의 흐름\n",
        "- 선형 모델 : 선형회귀, 로지스틱 회귀,서포트 벡터 머신\n",
        "- 의사결정트리 모델 : 1975년 의사결정트리 모델, KNN, \n",
        "  + 랜덤포레스트\n",
        "  + 부스팅계열 : LightGBM(2017), XGBoost(2016)\n",
        "\n",
        "- 선형회귀, 로지스틱회귀, 랜덤포레스트, LightGBM(=XGBoost)"
      ],
      "metadata": {
        "id": "qKvZB5I3LqB7"
      }
    },
    {
      "cell_type": "code",
      "source": [
        "kn49 = KNeighborsClassifier(n_neighbors=49)\n",
        "kn49.fit(fish_data, fish_target)\n",
        "kn49.score(fish_data, fish_target)"
      ],
      "metadata": {
        "colab": {
          "base_uri": "https://localhost:8080/"
        },
        "id": "a7XNAYytI0zV",
        "outputId": "c0c9cf5d-a905-4c62-e5d2-2925cdf97928"
      },
      "execution_count": null,
      "outputs": [
        {
          "output_type": "execute_result",
          "data": {
            "text/plain": [
              "0.7142857142857143"
            ]
          },
          "metadata": {},
          "execution_count": 109
        }
      ]
    },
    {
      "cell_type": "markdown",
      "source": [
        "## 훈련 세트와 테스트 세트\n"
      ],
      "metadata": {
        "id": "MNY4W48kNguv"
      }
    },
    {
      "cell_type": "code",
      "source": [
        "fish_length = [25.4, 26.3, 26.5, 29.0, 29.0, 29.7, 29.7, 30.0, 30.0, 30.7, 31.0, 31.0, \n",
        "                31.5, 32.0, 32.0, 32.0, 33.0, 33.0, 33.5, 33.5, 34.0, 34.0, 34.5, 35.0, \n",
        "                35.0, 35.0, 35.0, 36.0, 36.0, 37.0, 38.5, 38.5, 39.5, 41.0, 41.0, 9.8, \n",
        "                10.5, 10.6, 11.0, 11.2, 11.3, 11.8, 11.8, 12.0, 12.2, 12.4, 13.0, 14.3, 15.0]\n",
        "fish_weight = [242.0, 290.0, 340.0, 363.0, 430.0, 450.0, 500.0, 390.0, 450.0, 500.0, 475.0, 500.0, \n",
        "                500.0, 340.0, 600.0, 600.0, 700.0, 700.0, 610.0, 650.0, 575.0, 685.0, 620.0, 680.0, \n",
        "                700.0, 725.0, 720.0, 714.0, 850.0, 1000.0, 920.0, 955.0, 925.0, 975.0, 950.0, 6.7, \n",
        "                7.5, 7.0, 9.7, 9.8, 8.7, 10.0, 9.9, 9.8, 12.2, 13.4, 12.2, 19.7, 19.9]"
      ],
      "metadata": {
        "id": "fNpfHU17OQpT"
      },
      "execution_count": null,
      "outputs": []
    },
    {
      "cell_type": "markdown",
      "source": [
        "- 2차원 파이썬 리스트 \n",
        "- 라벨링"
      ],
      "metadata": {
        "id": "yUgoD139OTlf"
      }
    },
    {
      "cell_type": "code",
      "source": [
        "fish_data = [[l, w] for l, w in zip(fish_length, fish_weight)]\n",
        "fish_target = [1] * 35 + [0] * 14\n",
        "print(fish_target[0:40:5])\n",
        "print(fish_data[0:40:5])"
      ],
      "metadata": {
        "colab": {
          "base_uri": "https://localhost:8080/"
        },
        "id": "nlEvFNcgOW8C",
        "outputId": "cf080837-22a4-49b0-96ba-699e54066c71"
      },
      "execution_count": null,
      "outputs": [
        {
          "output_type": "stream",
          "name": "stdout",
          "text": [
            "[1, 1, 1, 1, 1, 1, 1, 0]\n",
            "[[25.4, 242.0], [29.7, 450.0], [31.0, 475.0], [32.0, 600.0], [34.0, 575.0], [35.0, 725.0], [38.5, 920.0], [9.8, 6.7]]\n"
          ]
        }
      ]
    },
    {
      "cell_type": "markdown",
      "source": [
        "- Sample \n",
        "- 도미 35마리, 빙어 14마리\n",
        "- 49개의 샘플 존재\n",
        "- 처음 35개를 훈련 / 나머지 14개를 테스트"
      ],
      "metadata": {
        "id": "ItEM6AShO5CK"
      }
    },
    {
      "cell_type": "code",
      "source": [
        "from sklearn.neighbors import KNeighborsClassifier\n",
        "\n",
        "# 클래스 인스턴스화\n",
        "kn = KNeighborsClassifier()\n",
        "\n",
        "# 훈련 세트로 0:34 인덱스 활용\n",
        "train_input = fish_data[:35]\n",
        "train_target = fish_target[:35]\n",
        "\n",
        "# 테스 세트로 35:마지막 인덱스 활용\n",
        "test_input = fish_data[35:]\n",
        "test_target = fish_target[35:]\n",
        "\n",
        "# 모형 학습\n",
        "kn = kn.fit(train_input, train_target)\n",
        "print(kn.score(test_input, test_target))"
      ],
      "metadata": {
        "colab": {
          "base_uri": "https://localhost:8080/"
        },
        "id": "YXMSCIU0PPpa",
        "outputId": "157af9f8-b766-4735-bfe8-72addae8ff05"
      },
      "execution_count": null,
      "outputs": [
        {
          "output_type": "stream",
          "name": "stdout",
          "text": [
            "0.0\n"
          ]
        }
      ]
    },
    {
      "cell_type": "markdown",
      "source": [
        "- 샘플링 편향\n",
        "- 훈련 세트와 테스트 세트가 골고루 섞이지 않음"
      ],
      "metadata": {
        "id": "3VYO1aFJQvwx"
      }
    },
    {
      "cell_type": "markdown",
      "source": [
        "## 샘플링 작업"
      ],
      "metadata": {
        "id": "APrfi_HRQ88S"
      }
    },
    {
      "cell_type": "code",
      "source": [
        "import numpy as np \n",
        "\n",
        "input_arr = np.array(fish_data)\n",
        "target_arr = np.array(fish_target)\n",
        "print(input_arr[0:49:7])\n",
        "print(input_arr.shape, target_arr.shape) "
      ],
      "metadata": {
        "colab": {
          "base_uri": "https://localhost:8080/"
        },
        "id": "iM17fX2vQ_lG",
        "outputId": "6652b2c3-7325-446c-adb7-6e8023cc9a01"
      },
      "execution_count": null,
      "outputs": [
        {
          "output_type": "stream",
          "name": "stdout",
          "text": [
            "[[ 25.4 242. ]\n",
            " [ 30.  390. ]\n",
            " [ 32.  600. ]\n",
            " [ 34.  685. ]\n",
            " [ 36.  850. ]\n",
            " [  9.8   6.7]\n",
            " [ 11.8   9.9]]\n",
            "(49, 2) (49,)\n"
          ]
        }
      ]
    },
    {
      "cell_type": "code",
      "source": [
        "# random으로 무작위 배열을 만들거나 설정... \n",
        "np.random.seed(42)\n",
        "index = np.arange(49)\n",
        "np.random.shuffle(index)\n",
        "print(index)"
      ],
      "metadata": {
        "colab": {
          "base_uri": "https://localhost:8080/"
        },
        "id": "bwEolSQkRowW",
        "outputId": "da549501-fb9d-4714-fa73-c60c17f01a44"
      },
      "execution_count": null,
      "outputs": [
        {
          "output_type": "stream",
          "name": "stdout",
          "text": [
            "[13 45 47 44 17 27 26 25 31 19 12  4 34  8  3  6 40 41 46 15  9 16 24 33\n",
            " 30  0 43 32  5 29 11 36  1 21  2 37 35 23 39 10 22 18 48 20  7 42 14 28\n",
            " 38]\n"
          ]
        }
      ]
    },
    {
      "cell_type": "code",
      "source": [
        "print(index)"
      ],
      "metadata": {
        "colab": {
          "base_uri": "https://localhost:8080/"
        },
        "id": "nMV7WqIpSJQV",
        "outputId": "97577374-723b-408d-f07c-bb513392c99a"
      },
      "execution_count": null,
      "outputs": [
        {
          "output_type": "stream",
          "name": "stdout",
          "text": [
            "[13 45 47 44 17 27 26 25 31 19 12  4 34  8  3  6 40 41 46 15  9 16 24 33\n",
            " 30  0 43 32  5 29 11 36  1 21  2 37 35 23 39 10 22 18 48 20  7 42 14 28\n",
            " 38]\n"
          ]
        }
      ]
    },
    {
      "cell_type": "markdown",
      "source": [
        "- 교재 77p "
      ],
      "metadata": {
        "id": "YRL54nwXSUiN"
      }
    },
    {
      "cell_type": "code",
      "source": [
        "train_input = input_arr[index[:35]]\n",
        "train_target = target_arr[index[:35]]\n",
        "\n",
        "test_input = input_arr[index[35:]]\n",
        "test_target = target_arr[index[35:]]"
      ],
      "metadata": {
        "id": "4SXJ8F7eSXK0"
      },
      "execution_count": null,
      "outputs": []
    },
    {
      "cell_type": "markdown",
      "source": [
        "## 시각화 "
      ],
      "metadata": {
        "id": "VT_51wqqW1pP"
      }
    },
    {
      "cell_type": "code",
      "source": [
        "train_input[:1]"
      ],
      "metadata": {
        "colab": {
          "base_uri": "https://localhost:8080/"
        },
        "id": "Y8VNVLZUXKnZ",
        "outputId": "ec97f716-9e70-4721-f5f5-0774c23f70bc"
      },
      "execution_count": null,
      "outputs": [
        {
          "output_type": "execute_result",
          "data": {
            "text/plain": [
              "array([[ 32., 340.]])"
            ]
          },
          "metadata": {},
          "execution_count": 117
        }
      ]
    },
    {
      "cell_type": "code",
      "source": [
        "train_input[:, 0]  # 길이 리스트\n"
      ],
      "metadata": {
        "colab": {
          "base_uri": "https://localhost:8080/"
        },
        "id": "0zgJZFL0XV7X",
        "outputId": "b275d842-64fe-4ae6-9ae1-6862d4ed3d60"
      },
      "execution_count": null,
      "outputs": [
        {
          "output_type": "execute_result",
          "data": {
            "text/plain": [
              "array([32. , 12.4, 14.3, 12.2, 33. , 36. , 35. , 35. , 38.5, 33.5, 31.5,\n",
              "       29. , 41. , 30. , 29. , 29.7, 11.3, 11.8, 13. , 32. , 30.7, 33. ,\n",
              "       35. , 41. , 38.5, 25.4, 12. , 39.5, 29.7, 37. , 31. , 10.5, 26.3,\n",
              "       34. , 26.5])"
            ]
          },
          "metadata": {},
          "execution_count": 118
        }
      ]
    },
    {
      "cell_type": "code",
      "source": [
        "import matplotlib.pyplot as plt  \n",
        "fig, ax = plt.subplots()\n",
        "ax.scatter(train_input[:, 0], train_input[:, 1])\n",
        "ax.scatter(test_input[:, 0], test_input[:, 1])\n",
        "ax.set_xlabel(\"length\")\n",
        "ax.set_ylabel(\"weight\")\n",
        "plt.show()"
      ],
      "metadata": {
        "colab": {
          "base_uri": "https://localhost:8080/"
        },
        "id": "0Q8QkmyQW2rb",
        "outputId": "c9d5a237-2dfd-4215-8d0a-e3f2dbb92c98"
      },
      "execution_count": null,
      "outputs": [
        {
          "output_type": "display_data",
          "data": {
            "text/plain": [
              "<Figure size 432x288 with 1 Axes>"
            ],
            "image/png": "[encoded data removed]"
          },
          "metadata": {
            "needs_background": "light"
          }
        }
      ]
    },
    {
      "cell_type": "markdown",
      "source": [
        "## 두번째 머신러닝 프로그램"
      ],
      "metadata": {
        "id": "F_HRZUm0X24_"
      }
    },
    {
      "cell_type": "code",
      "source": [
        "kn.fit(train_input, train_target)\n",
        "kn.score(test_input, test_target)"
      ],
      "metadata": {
        "colab": {
          "base_uri": "https://localhost:8080/"
        },
        "id": "Qm8eSVHLX5Sb",
        "outputId": "d82515c5-66b5-4f2c-e850-23622209efb6"
      },
      "execution_count": null,
      "outputs": [
        {
          "output_type": "execute_result",
          "data": {
            "text/plain": [
              "1.0"
            ]
          },
          "metadata": {},
          "execution_count": 120
        }
      ]
    },
    {
      "cell_type": "code",
      "source": [
        "kn.predict(test_input) # 예측 데이터"
      ],
      "metadata": {
        "colab": {
          "base_uri": "https://localhost:8080/"
        },
        "id": "wVXauc14YFN3",
        "outputId": "701b2eb4-845b-4f67-f2f8-72abf12dc9ad"
      },
      "execution_count": null,
      "outputs": [
        {
          "output_type": "execute_result",
          "data": {
            "text/plain": [
              "array([0, 0, 1, 0, 1, 1, 1, 0, 1, 1, 0, 1, 1, 0])"
            ]
          },
          "metadata": {},
          "execution_count": 121
        }
      ]
    },
    {
      "cell_type": "code",
      "source": [
        "test_target # 실제 데이터"
      ],
      "metadata": {
        "colab": {
          "base_uri": "https://localhost:8080/"
        },
        "id": "_llM-42sYHRl",
        "outputId": "f9b06435-3046-4b88-995e-116152adfff5"
      },
      "execution_count": null,
      "outputs": [
        {
          "output_type": "execute_result",
          "data": {
            "text/plain": [
              "array([0, 0, 1, 0, 1, 1, 1, 0, 1, 1, 0, 1, 1, 0])"
            ]
          },
          "metadata": {},
          "execution_count": 122
        }
      ]
    },
    {
      "cell_type": "markdown",
      "source": [
        "## 데이터 전처리\n",
        "- 머신러닝 시, 데이터 전처리\n",
        "- 결측치 처리, 이상치 처리 "
      ],
      "metadata": {
        "id": "lve33ZoNa0cY"
      }
    },
    {
      "cell_type": "markdown",
      "source": [
        "### 데이터 불러오기 "
      ],
      "metadata": {
        "id": "YoLP_4OSbZTa"
      }
    },
    {
      "cell_type": "code",
      "source": [
        "fish_length = [25.4, 26.3, 26.5, 29.0, 29.0, 29.7, 29.7, 30.0, 30.0, 30.7, 31.0, 31.0, \n",
        "                31.5, 32.0, 32.0, 32.0, 33.0, 33.0, 33.5, 33.5, 34.0, 34.0, 34.5, 35.0, \n",
        "                35.0, 35.0, 35.0, 36.0, 36.0, 37.0, 38.5, 38.5, 39.5, 41.0, 41.0, 9.8, \n",
        "                10.5, 10.6, 11.0, 11.2, 11.3, 11.8, 11.8, 12.0, 12.2, 12.4, 13.0, 14.3, 15.0]\n",
        "fish_weight = [242.0, 290.0, 340.0, 363.0, 430.0, 450.0, 500.0, 390.0, 450.0, 500.0, 475.0, 500.0, \n",
        "                500.0, 340.0, 600.0, 600.0, 700.0, 700.0, 610.0, 650.0, 575.0, 685.0, 620.0, 680.0, \n",
        "                700.0, 725.0, 720.0, 714.0, 850.0, 1000.0, 920.0, 955.0, 925.0, 975.0, 950.0, 6.7, \n",
        "                7.5, 7.0, 9.7, 9.8, 8.7, 10.0, 9.9, 9.8, 12.2, 13.4, 12.2, 19.7, 19.9]"
      ],
      "metadata": {
        "id": "r7tiQYl3bY0t"
      },
      "execution_count": null,
      "outputs": []
    },
    {
      "cell_type": "code",
      "source": [
        "# column_stack() 활용\n",
        "np.column_stack(([1, 2, 3], [4, 5, 6]))"
      ],
      "metadata": {
        "colab": {
          "base_uri": "https://localhost:8080/"
        },
        "id": "5YupHTs9bhPU",
        "outputId": "eba709aa-45bb-4a7c-ddfe-2f150682e7bc"
      },
      "execution_count": null,
      "outputs": [
        {
          "output_type": "execute_result",
          "data": {
            "text/plain": [
              "array([[1, 4],\n",
              "       [2, 5],\n",
              "       [3, 6]])"
            ]
          },
          "metadata": {},
          "execution_count": 124
        }
      ]
    },
    {
      "cell_type": "markdown",
      "source": [
        "- 독립변수"
      ],
      "metadata": {
        "id": "US7v-60VcKZ9"
      }
    },
    {
      "cell_type": "code",
      "source": [
        "fish_data = np.column_stack((fish_length, fish_weight))\n",
        "print(fish_data[:5])"
      ],
      "metadata": {
        "colab": {
          "base_uri": "https://localhost:8080/"
        },
        "id": "2d-gDqWVb_pV",
        "outputId": "4c689d95-d41a-4088-eced-b2845f7bd827"
      },
      "execution_count": null,
      "outputs": [
        {
          "output_type": "stream",
          "name": "stdout",
          "text": [
            "[[ 25.4 242. ]\n",
            " [ 26.3 290. ]\n",
            " [ 26.5 340. ]\n",
            " [ 29.  363. ]\n",
            " [ 29.  430. ]]\n"
          ]
        }
      ]
    },
    {
      "cell_type": "markdown",
      "source": [
        "- 종속변수 = Y = 타깃 데이터 = Target"
      ],
      "metadata": {
        "id": "gOIzihV-cNeA"
      }
    },
    {
      "cell_type": "code",
      "source": [
        "fish_target = np.concatenate((np.ones(35), np.zeros(14)))\n",
        "print(fish_target)"
      ],
      "metadata": {
        "colab": {
          "base_uri": "https://localhost:8080/"
        },
        "id": "Kyi3tOF9cM2T",
        "outputId": "7a823113-912e-46ad-f6c4-16baafef798b"
      },
      "execution_count": null,
      "outputs": [
        {
          "output_type": "stream",
          "name": "stdout",
          "text": [
            "[1. 1. 1. 1. 1. 1. 1. 1. 1. 1. 1. 1. 1. 1. 1. 1. 1. 1. 1. 1. 1. 1. 1. 1.\n",
            " 1. 1. 1. 1. 1. 1. 1. 1. 1. 1. 1. 0. 0. 0. 0. 0. 0. 0. 0. 0. 0. 0. 0. 0.\n",
            " 0.]\n"
          ]
        }
      ]
    },
    {
      "cell_type": "markdown",
      "source": [
        "### scikit-learn 훈련세트와 테스트 세트 나누기  "
      ],
      "metadata": {
        "id": "Cn6puEMPfVoK"
      }
    },
    {
      "cell_type": "code",
      "source": [
        "from sklearn.model_selection import train_test_split\n",
        "train_input, test_input, train_target, test_target = train_test_split(\n",
        "    # 독립변수, 종속변수\n",
        "    fish_data, fish_target, random_state = 42\n",
        ")\n",
        "\n",
        "train_input.shape, test_input.shape, train_target.shape, test_target.shape"
      ],
      "metadata": {
        "colab": {
          "base_uri": "https://localhost:8080/"
        },
        "id": "6hrKuyJEfbZe",
        "outputId": "fe1c6e53-b13b-43f8-b200-6620932a7514"
      },
      "execution_count": null,
      "outputs": [
        {
          "output_type": "execute_result",
          "data": {
            "text/plain": [
              "((36, 2), (13, 2), (36,), (13,))"
            ]
          },
          "metadata": {},
          "execution_count": 127
        }
      ]
    },
    {
      "cell_type": "markdown",
      "source": [
        "- p.92 도미와 빙어가 잘 섞여 있냐? "
      ],
      "metadata": {
        "id": "VWHrxwjr9wYo"
      }
    },
    {
      "cell_type": "code",
      "source": [
        "print(test_target)"
      ],
      "metadata": {
        "colab": {
          "base_uri": "https://localhost:8080/"
        },
        "id": "f_8jZUfl9zUR",
        "outputId": "cab36c32-ca2d-4736-a516-07c60833d632"
      },
      "execution_count": null,
      "outputs": [
        {
          "output_type": "stream",
          "name": "stdout",
          "text": [
            "[1. 0. 0. 0. 1. 1. 1. 1. 1. 1. 1. 1. 1.]\n"
          ]
        }
      ]
    },
    {
      "cell_type": "markdown",
      "source": [
        "- 35(도미) :14 (빙어)\n",
        "  + 2.5 : 1 \n",
        "- 테스트 셋 (비율) \n",
        "  + 3.3 : 1 \n"
      ],
      "metadata": {
        "id": "muFSzRp697M0"
      }
    },
    {
      "cell_type": "markdown",
      "source": [
        "## 층화샘플링\n",
        "- 기초 통계, 설문조사\n",
        "- 비율\n",
        "- 여론조사\n",
        "  + 남성 속옷을 구매하는 비율 (남자 9, 여자 1) \n",
        "  + 신제품 (남자 5, 여자 5)\n",
        "  "
      ],
      "metadata": {
        "id": "sPikuqXM-url"
      }
    },
    {
      "cell_type": "code",
      "source": [
        "train_input, test_input, train_target, test_target = train_test_split(\n",
        "    # 독립변수, 종속변수\n",
        "    fish_data, fish_target, stratify=fish_target, random_state = 42\n",
        ")\n",
        "\n",
        "train_input.shape, test_input.shape, train_target.shape, test_target.shape"
      ],
      "metadata": {
        "colab": {
          "base_uri": "https://localhost:8080/"
        },
        "id": "WDXyV6nK-oDN",
        "outputId": "aa3c4eef-f772-4ce6-a93f-1de205f25afd"
      },
      "execution_count": null,
      "outputs": [
        {
          "output_type": "execute_result",
          "data": {
            "text/plain": [
              "((36, 2), (13, 2), (36,), (13,))"
            ]
          },
          "metadata": {},
          "execution_count": 129
        }
      ]
    },
    {
      "cell_type": "code",
      "source": [
        "print(test_target)"
      ],
      "metadata": {
        "colab": {
          "base_uri": "https://localhost:8080/"
        },
        "id": "j0vW8YR0-35L",
        "outputId": "7ec457d9-916f-4ccc-814a-05a2dca628d4"
      },
      "execution_count": null,
      "outputs": [
        {
          "output_type": "stream",
          "name": "stdout",
          "text": [
            "[0. 0. 1. 0. 1. 0. 1. 1. 1. 1. 1. 1. 1.]\n"
          ]
        }
      ]
    },
    {
      "cell_type": "markdown",
      "source": [
        "- 테스트 세트의 비율이 2.25:1 \n"
      ],
      "metadata": {
        "id": "MDV6r2x8-75f"
      }
    },
    {
      "cell_type": "markdown",
      "source": [
        "## 수상한 도미 한 마리\n",
        "- "
      ],
      "metadata": {
        "id": "cgrGbiK6Ao4d"
      }
    },
    {
      "cell_type": "code",
      "source": [
        "from sklearn.neighbors import KNeighborsClassifier\n",
        "kn = KNeighborsClassifier()\n",
        "kn.fit(train_input, train_target)\n",
        "kn.score(test_input, test_target) "
      ],
      "metadata": {
        "colab": {
          "base_uri": "https://localhost:8080/"
        },
        "id": "S5cFfokQAu-O",
        "outputId": "877ea19c-87b5-42d7-93de-f74d59494213"
      },
      "execution_count": null,
      "outputs": [
        {
          "output_type": "execute_result",
          "data": {
            "text/plain": [
              "1.0"
            ]
          },
          "metadata": {},
          "execution_count": 131
        }
      ]
    },
    {
      "cell_type": "markdown",
      "source": [
        "- 도미 사이즈 20cm 이상 = 1\n",
        "- 빙어 사이즈 10cm 이하 = 0"
      ],
      "metadata": {
        "id": "gGnV6r7KBDTa"
      }
    },
    {
      "cell_type": "code",
      "source": [
        "print(kn.predict([[25, 150]]))"
      ],
      "metadata": {
        "colab": {
          "base_uri": "https://localhost:8080/"
        },
        "id": "o4bt0_tRA87A",
        "outputId": "9dbcabdc-9d95-4e77-a515-56288acd87a9"
      },
      "execution_count": null,
      "outputs": [
        {
          "output_type": "stream",
          "name": "stdout",
          "text": [
            "[0.]\n"
          ]
        }
      ]
    },
    {
      "cell_type": "code",
      "source": [
        "import matplotlib.pyplot as plt \n",
        "\n",
        "fig, ax = plt.subplots()\n",
        "ax.scatter(train_input[:, 0], train_input[:, 1])\n",
        "ax.scatter(25, 150, marker = '^')\n",
        "plt.show()"
      ],
      "metadata": {
        "colab": {
          "base_uri": "https://localhost:8080/",
          "height": 265
        },
        "id": "0K7UOwj6BPh_",
        "outputId": "33caacab-0529-4e0b-c1e6-1c3962cad14f"
      },
      "execution_count": null,
      "outputs": [
        {
          "output_type": "display_data",
          "data": {
            "text/plain": [
              "<Figure size 432x288 with 1 Axes>"
            ],
            "image/png": "[encoded data removed]"
          },
          "metadata": {
            "needs_background": "light"
          }
        }
      ]
    },
    {
      "cell_type": "markdown",
      "source": [
        "- 알고리즘 문제\n",
        "- "
      ],
      "metadata": {
        "id": "jEFhtvTkEFM2"
      }
    },
    {
      "cell_type": "code",
      "source": [
        "distances, indexes = kn.kneighbors([[25, 150]])\n",
        "plt.scatter(train_input[:,0], train_input[:,1])\n",
        "plt.scatter(25, 150, marker='^')\n",
        "plt.scatter(train_input[indexes,0], train_input[indexes,1], marker='D')\n",
        "plt.xlabel('length')\n",
        "plt.ylabel('weight')\n",
        "plt.show()"
      ],
      "metadata": {
        "colab": {
          "base_uri": "https://localhost:8080/",
          "height": 279
        },
        "id": "Nib0VKljEPhu",
        "outputId": "033060ce-32da-477d-a613-63a536e74fcb"
      },
      "execution_count": null,
      "outputs": [
        {
          "output_type": "display_data",
          "data": {
            "text/plain": [
              "<Figure size 432x288 with 1 Axes>"
            ],
            "image/png": "[encoded data removed]"
          },
          "metadata": {
            "needs_background": "light"
          }
        }
      ]
    },
    {
      "cell_type": "markdown",
      "source": [
        ""
      ],
      "metadata": {
        "id": "i6bGseUkEQgF"
      }
    },
    {
      "cell_type": "code",
      "source": [
        "plt.scatter(train_input[:,0], train_input[:,1])\n",
        "plt.scatter(25, 150, marker='^')\n",
        "plt.scatter(train_input[indexes,0], train_input[indexes,1], marker='D')\n",
        "plt.xlim((0, 1000))\n",
        "plt.xlabel('length')\n",
        "plt.ylabel('weight')\n",
        "plt.show()"
      ],
      "metadata": {
        "colab": {
          "base_uri": "https://localhost:8080/",
          "height": 279
        },
        "id": "jrxgIOK-E7Zo",
        "outputId": "6b8ea29f-39ad-4616-a0a9-5a644d198da1"
      },
      "execution_count": null,
      "outputs": [
        {
          "output_type": "display_data",
          "data": {
            "text/plain": [
              "<Figure size 432x288 with 1 Axes>"
            ],
            "image/png": "[encoded data removed]"
          },
          "metadata": {
            "needs_background": "light"
          }
        }
      ]
    },
    {
      "cell_type": "markdown",
      "source": [
        "- p.98 \n",
        "- 두 특성(길이와 무게)의 값이 놓인 범위가 매우 다름\n",
        "- 두 특성의 스케일이 다름. \n",
        "  + 스케일이 같도록 통계 처리 필요\n",
        "  + Feature Engineering (피처 엔지니어링)\n",
        "- 머신러닝\n",
        "  + 전체 데이터 전처리 (결측치 처리, 이상치 처리)\n",
        "  + 데이터 분리 (임의 샘플링 < 층화 샘플링)\n",
        "  + Feature Engineering\n",
        "\n"
      ],
      "metadata": {
        "id": "MkwRT6rQFW3c"
      }
    },
    {
      "cell_type": "markdown",
      "source": [
        "### 표준점수\n",
        "- z 점수"
      ],
      "metadata": {
        "id": "n6we6UiaGR0A"
      }
    },
    {
      "cell_type": "code",
      "source": [
        "mean = np.mean(train_input, axis = 0)\n",
        "std = np.std(train_input, axis=0)\n",
        "\n",
        "print(mean, std)"
      ],
      "metadata": {
        "colab": {
          "base_uri": "https://localhost:8080/"
        },
        "id": "4aNzXPeyGeSQ",
        "outputId": "1883ca35-e0f5-419f-b553-1e1e568be244"
      },
      "execution_count": null,
      "outputs": [
        {
          "output_type": "stream",
          "name": "stdout",
          "text": [
            "[ 27.29722222 454.09722222] [  9.98244253 323.29893931]\n"
          ]
        }
      ]
    },
    {
      "cell_type": "markdown",
      "source": [
        "- 표준 점수 구하기"
      ],
      "metadata": {
        "id": "L4VjOSypGxzE"
      }
    },
    {
      "cell_type": "code",
      "source": [
        "# 브로드 캐스팅 서로다른 배열을 계산할 때 \n",
        "print(train_input.shape, mean.shape, std.shape)\n",
        "train_scaled = (train_input - mean) / std\n"
      ],
      "metadata": {
        "colab": {
          "base_uri": "https://localhost:8080/"
        },
        "id": "11KS15I-GztJ",
        "outputId": "1207c680-23a4-4644-b14d-e8fe938ae8b7"
      },
      "execution_count": null,
      "outputs": [
        {
          "output_type": "stream",
          "name": "stdout",
          "text": [
            "(36, 2) (2,) (2,)\n"
          ]
        }
      ]
    },
    {
      "cell_type": "code",
      "source": [
        "train_input[0:5]"
      ],
      "metadata": {
        "colab": {
          "base_uri": "https://localhost:8080/"
        },
        "id": "0GKtwu5pLZJK",
        "outputId": "6386928c-431d-48f6-9dfa-d348c19e1078"
      },
      "execution_count": null,
      "outputs": [
        {
          "output_type": "execute_result",
          "data": {
            "text/plain": [
              "array([[ 29.7, 500. ],\n",
              "       [ 12.2,  12.2],\n",
              "       [ 33. , 700. ],\n",
              "       [ 11.3,   8.7],\n",
              "       [ 39.5, 925. ]])"
            ]
          },
          "metadata": {},
          "execution_count": 138
        }
      ]
    },
    {
      "cell_type": "code",
      "source": [
        "train_scaled[0:5]"
      ],
      "metadata": {
        "colab": {
          "base_uri": "https://localhost:8080/"
        },
        "id": "1sgl9WRcLSBT",
        "outputId": "4c2ad67d-7ddf-4fd2-ecab-6b6348fd62c2"
      },
      "execution_count": null,
      "outputs": [
        {
          "output_type": "execute_result",
          "data": {
            "text/plain": [
              "array([[ 0.24070039,  0.14198246],\n",
              "       [-1.51237757, -1.36683783],\n",
              "       [ 0.5712808 ,  0.76060496],\n",
              "       [-1.60253587, -1.37766373],\n",
              "       [ 1.22242404,  1.45655528]])"
            ]
          },
          "metadata": {},
          "execution_count": 139
        }
      ]
    },
    {
      "cell_type": "code",
      "source": [
        "plt.scatter(train_scaled[:,0], train_scaled[:,1])\n",
        "plt.scatter(25, 150, marker='^')\n",
        "plt.xlabel('length')\n",
        "plt.ylabel('weight')\n",
        "plt.show()"
      ],
      "metadata": {
        "colab": {
          "base_uri": "https://localhost:8080/",
          "height": 279
        },
        "id": "IH8b0141HUti",
        "outputId": "977f9285-80db-482c-99a3-4382fc575ee2"
      },
      "execution_count": null,
      "outputs": [
        {
          "output_type": "display_data",
          "data": {
            "text/plain": [
              "<Figure size 432x288 with 1 Axes>"
            ],
            "image/png": "[encoded data removed]"
          },
          "metadata": {
            "needs_background": "light"
          }
        }
      ]
    },
    {
      "cell_type": "code",
      "source": [
        "new = ([25, 150] - mean) / std\n",
        "plt.scatter(train_scaled[:,0], train_scaled[:,1])\n",
        "plt.scatter(new[0], new[1], marker='^')\n",
        "plt.xlabel('length')\n",
        "plt.ylabel('weight')\n",
        "plt.show()"
      ],
      "metadata": {
        "colab": {
          "base_uri": "https://localhost:8080/",
          "height": 279
        },
        "id": "x8P4dlx8Hjck",
        "outputId": "836560fa-b5f1-4f4c-8948-9c2d789846ac"
      },
      "execution_count": null,
      "outputs": [
        {
          "output_type": "display_data",
          "data": {
            "text/plain": [
              "<Figure size 432x288 with 1 Axes>"
            ],
            "image/png": "[encoded data removed]"
          },
          "metadata": {
            "needs_background": "light"
          }
        }
      ]
    },
    {
      "cell_type": "markdown",
      "source": [
        "통계처리 전 : KNN --> 예측이 틀림\n",
        "통계처리 후 : KNN --> 예측이 정확하게 맞음\n",
        "-- 통계처리 --> Feature Engineering"
      ],
      "metadata": {
        "id": "C5H07Cu0H2TH"
      }
    },
    {
      "cell_type": "markdown",
      "source": [
        "- 모형학습"
      ],
      "metadata": {
        "id": "9pcZ7N9TLtXa"
      }
    },
    {
      "cell_type": "code",
      "source": [
        "kn.fit(train_scaled, train_target)"
      ],
      "metadata": {
        "colab": {
          "base_uri": "https://localhost:8080/"
        },
        "id": "wcs9o5skLuWU",
        "outputId": "e0316107-4039-436d-b528-9d18c5b54cac"
      },
      "execution_count": null,
      "outputs": [
        {
          "output_type": "execute_result",
          "data": {
            "text/plain": [
              "KNeighborsClassifier()"
            ]
          },
          "metadata": {},
          "execution_count": 142
        }
      ]
    },
    {
      "cell_type": "code",
      "source": [
        "# kn.score(test_input, test_target)\n",
        "test_scaled = (test_input - mean) / std\n",
        "kn.score(test_scaled, test_target)"
      ],
      "metadata": {
        "colab": {
          "base_uri": "https://localhost:8080/"
        },
        "id": "7C6LCBMQMBhl",
        "outputId": "43add95f-9634-4f45-875e-59a2c9ab2dc9"
      },
      "execution_count": null,
      "outputs": [
        {
          "output_type": "execute_result",
          "data": {
            "text/plain": [
              "1.0"
            ]
          },
          "metadata": {},
          "execution_count": 143
        }
      ]
    },
    {
      "cell_type": "markdown",
      "source": [
        "- 예측"
      ],
      "metadata": {
        "id": "3NkxMfYGMmT8"
      }
    },
    {
      "cell_type": "code",
      "source": [
        "print(kn.predict([new]))"
      ],
      "metadata": {
        "colab": {
          "base_uri": "https://localhost:8080/"
        },
        "id": "HQ9bLVhKMixT",
        "outputId": "a2dfb481-ec7f-40f8-9f71-e79f8dba5471"
      },
      "execution_count": null,
      "outputs": [
        {
          "output_type": "stream",
          "name": "stdout",
          "text": [
            "[1.]\n"
          ]
        }
      ]
    },
    {
      "cell_type": "code",
      "source": [
        "distances, indexes = kn.kneighbors([new])\n",
        "plt.scatter(train_scaled[:,0], train_scaled[:,1])\n",
        "plt.scatter(new[0], new[1], marker='^')\n",
        "plt.scatter(train_scaled[indexes,0], train_scaled[indexes,1], marker='D')\n",
        "plt.xlabel('length')\n",
        "plt.ylabel('weight')\n",
        "plt.show()"
      ],
      "metadata": {
        "colab": {
          "base_uri": "https://localhost:8080/",
          "height": 279
        },
        "id": "3rQ6Ixt7M11S",
        "outputId": "4a699d4c-8f3f-409e-d459-58ec513cca85"
      },
      "execution_count": null,
      "outputs": [
        {
          "output_type": "display_data",
          "data": {
            "text/plain": [
              "<Figure size 432x288 with 1 Axes>"
            ],
            "image/png": "[encoded data removed]"
          },
          "metadata": {
            "needs_background": "light"
          }
        }
      ]
    },
    {
      "cell_type": "markdown",
      "source": [
        "## K-최근접 이웃 회귀\n",
        "- 지도 학습 알고리즘은 크게 분류와 회귀\n",
        "- 지도 학습 : 종속변수 존재\n",
        " + 분류 : 도미와 빙어 분류\n",
        " + 회귀 : 통계 회귀분석 y = ax + b / 수치 예측"
      ],
      "metadata": {
        "id": "CnK0H-y-rvrn"
      }
    },
    {
      "cell_type": "markdown",
      "source": [
        "## 데이터 불러오기"
      ],
      "metadata": {
        "id": "U-fejFNirymG"
      }
    },
    {
      "cell_type": "code",
      "source": [
        "import numpy as np\n",
        "print(np.__version__)"
      ],
      "metadata": {
        "colab": {
          "base_uri": "https://localhost:8080/"
        },
        "id": "U18cAPGKr3MD",
        "outputId": "07fda450-558a-47e8-afeb-3757e722cedb"
      },
      "execution_count": null,
      "outputs": [
        {
          "output_type": "stream",
          "name": "stdout",
          "text": [
            "1.21.6\n"
          ]
        }
      ]
    },
    {
      "cell_type": "code",
      "source": [
        "perch_length = np.array(\n",
        "    [8.4, 13.7, 15.0, 16.2, 17.4, 18.0, 18.7, 19.0, 19.6, 20.0, \n",
        "     21.0, 21.0, 21.0, 21.3, 22.0, 22.0, 22.0, 22.0, 22.0, 22.5, \n",
        "     22.5, 22.7, 23.0, 23.5, 24.0, 24.0, 24.6, 25.0, 25.6, 26.5, \n",
        "     27.3, 27.5, 27.5, 27.5, 28.0, 28.7, 30.0, 32.8, 34.5, 35.0, \n",
        "     36.5, 36.0, 37.0, 37.0, 39.0, 39.0, 39.0, 40.0, 40.0, 40.0, \n",
        "     40.0, 42.0, 43.0, 43.0, 43.5, 44.0]\n",
        "     )\n",
        "perch_weight = np.array(\n",
        "    [5.9, 32.0, 40.0, 51.5, 70.0, 100.0, 78.0, 80.0, 85.0, 85.0, \n",
        "     110.0, 115.0, 125.0, 130.0, 120.0, 120.0, 130.0, 135.0, 110.0, \n",
        "     130.0, 150.0, 145.0, 150.0, 170.0, 225.0, 145.0, 188.0, 180.0, \n",
        "     197.0, 218.0, 300.0, 260.0, 265.0, 250.0, 250.0, 300.0, 320.0, \n",
        "     514.0, 556.0, 840.0, 685.0, 700.0, 700.0, 690.0, 900.0, 650.0, \n",
        "     820.0, 850.0, 900.0, 1015.0, 820.0, 1100.0, 1000.0, 1100.0, \n",
        "     1000.0, 1000.0]\n",
        "     )"
      ],
      "metadata": {
        "id": "-q2uGIGqr49e"
      },
      "execution_count": null,
      "outputs": []
    },
    {
      "cell_type": "code",
      "source": [
        "import matplotlib.pyplot as plt\n",
        "\n",
        "fig, ax = plt.subplots() # 객체지향의 시작\n",
        "ax.scatter(perch_length, perch_weight)\n",
        "ax.set_xlabel('length')\n",
        "ax.set_ylabel('weight')\n",
        "plt.show"
      ],
      "metadata": {
        "colab": {
          "base_uri": "https://localhost:8080/",
          "height": 297
        },
        "id": "DdgNfdNVr6z2",
        "outputId": "f73e2051-bd07-4133-c3e7-2d4317288b14"
      },
      "execution_count": null,
      "outputs": [
        {
          "output_type": "execute_result",
          "data": {
            "text/plain": [
              "<function matplotlib.pyplot.show>"
            ]
          },
          "metadata": {},
          "execution_count": 148
        },
        {
          "output_type": "display_data",
          "data": {
            "text/plain": [
              "<Figure size 432x288 with 1 Axes>"
            ],
            "image/png": "[encoded data removed]"
          },
          "metadata": {
            "needs_background": "light"
          }
        }
      ]
    },
    {
      "cell_type": "code",
      "source": [
        "from sklearn.model_selection import train_test_split\n",
        "train_input, test_input, train_target, test_target = train_test_split(\n",
        "    perch_length, perch_weight, random_state = 42\n",
        "  )\n",
        "\n",
        "train_input.shape, test_input.shape, train_target, test_target.shape\n",
        "print(train_input.ndim)"
      ],
      "metadata": {
        "colab": {
          "base_uri": "https://localhost:8080/"
        },
        "id": "9SRa__Zir-e8",
        "outputId": "d0808259-d610-49a8-d276-95bb3e470c9c"
      },
      "execution_count": null,
      "outputs": [
        {
          "output_type": "stream",
          "name": "stdout",
          "text": [
            "1\n"
          ]
        }
      ]
    },
    {
      "cell_type": "markdown",
      "source": [
        "- 1차원 배열..--> 2차원배열"
      ],
      "metadata": {
        "id": "c4X2l14dsARW"
      }
    },
    {
      "cell_type": "code",
      "source": [
        "train_input = train_input.reshape(-1,1)\n",
        "test_input = test_input.reshape(-1,1)\n",
        "print(train_input.shape, test_input.shape)\n",
        "print(train_input.ndim)"
      ],
      "metadata": {
        "colab": {
          "base_uri": "https://localhost:8080/"
        },
        "id": "rULHkKzhsCQb",
        "outputId": "9b257c60-e57d-4e47-e4ca-cf24c2944214"
      },
      "execution_count": null,
      "outputs": [
        {
          "output_type": "stream",
          "name": "stdout",
          "text": [
            "(42, 1) (14, 1)\n",
            "2\n"
          ]
        }
      ]
    },
    {
      "cell_type": "markdown",
      "source": [
        "## 결정계수\n",
        "- 정확한 지표\n",
        "- 0 ~ 1 사이의 지표\n",
        "- 1에 가까울수록, 예측 모형이 잘 맞춘다."
      ],
      "metadata": {
        "id": "iurJDxtasEhu"
      }
    },
    {
      "cell_type": "code",
      "source": [
        "from sklearn.neighbors import KNeighborsRegressor\n",
        "\n",
        "knr = KNeighborsRegressor()\n",
        "\n",
        "# 모형 학습\n",
        "knr.fit(train_input, train_target)\n",
        "\n",
        "# 테스트 세트의 점수를 확인한다.\n",
        "print(knr.score(test_input, test_target))"
      ],
      "metadata": {
        "colab": {
          "base_uri": "https://localhost:8080/"
        },
        "id": "yeY-edF7sGHP",
        "outputId": "9a0da5e7-49a9-4a98-95f6-ef994fe91e1f"
      },
      "execution_count": null,
      "outputs": [
        {
          "output_type": "stream",
          "name": "stdout",
          "text": [
            "0.992809406101064\n"
          ]
        }
      ]
    },
    {
      "cell_type": "code",
      "source": [
        "from sklearn.metrics import mean_absolute_error\n",
        "\n",
        "# 예측 데이터\n",
        "test_prediction = knr.predict(test_input)\n",
        "\n",
        "# 테스트 세트에 대한 평균 절댓값 오차를\n",
        "mae = mean_absolute_error(test_target, test_prediction)\n",
        "print(mae)"
      ],
      "metadata": {
        "colab": {
          "base_uri": "https://localhost:8080/"
        },
        "id": "-ErLmhYYsIW-",
        "outputId": "dbd1883e-2646-4559-c164-f40176ccd344"
      },
      "execution_count": null,
      "outputs": [
        {
          "output_type": "stream",
          "name": "stdout",
          "text": [
            "19.157142857142862\n"
          ]
        }
      ]
    },
    {
      "cell_type": "code",
      "source": [
        "test_target[:5]"
      ],
      "metadata": {
        "colab": {
          "base_uri": "https://localhost:8080/"
        },
        "id": "aL2rJU1rsKKX",
        "outputId": "8d26d4e2-6855-4e92-e8e8-fc37da8f95f5"
      },
      "execution_count": null,
      "outputs": [
        {
          "output_type": "execute_result",
          "data": {
            "text/plain": [
              "array([  5.9, 100. , 250. , 130. , 130. ])"
            ]
          },
          "metadata": {},
          "execution_count": 153
        }
      ]
    },
    {
      "cell_type": "markdown",
      "source": [
        "- 예측이 평균적으로 19g 정도 다르다.\n",
        " + 확실한 건 오차가 존재한다.\n",
        " + 19g 정도가 의미하는게 뭐냐?\n",
        " + 개선 : 17g\n",
        " + 개선 : 15g\n",
        " + 개선 : 0이 될 때까지"
      ],
      "metadata": {
        "id": "Y6MugjZUsL3n"
      }
    },
    {
      "cell_type": "code",
      "source": [
        "print(knr.score(train_input, train_target))"
      ],
      "metadata": {
        "colab": {
          "base_uri": "https://localhost:8080/"
        },
        "id": "wR0vWfQ4sNNX",
        "outputId": "a6f01cea-9371-44eb-f9f6-678136c2763a"
      },
      "execution_count": null,
      "outputs": [
        {
          "output_type": "stream",
          "name": "stdout",
          "text": [
            "0.9698823289099254\n"
          ]
        }
      ]
    },
    {
      "cell_type": "markdown",
      "source": [
        "## 과대적합 vs 과소적합\n",
        "- 매우 힘듦. 도망 가고 싶어짐..\n",
        "- 과대적합 : 훈련세트 점수 좋음, 테스트 점수 (매우) 안좋음\n",
        "- 과소적합 : 테스트 세트의 점수가 매우 좋음\n",
        "- 결론 : 제대로 모형이 훈련이 안된 겁니다.\n",
        " + 모형 서비스에 탑재 시킬 수 없음."
      ],
      "metadata": {
        "id": "mezqg-gdsPBP"
      }
    },
    {
      "cell_type": "code",
      "source": [
        "print(\"훈련평가:\", knr.score(train_input, train_target))\n",
        "print(\"테스트 평가:\", knr.score(test_input, test_target))"
      ],
      "metadata": {
        "colab": {
          "base_uri": "https://localhost:8080/"
        },
        "id": "Ir7nWbGosQ_P",
        "outputId": "aa97777a-3f11-43b7-9e6e-6580d38bd33c"
      },
      "execution_count": null,
      "outputs": [
        {
          "output_type": "stream",
          "name": "stdout",
          "text": [
            "훈련평가: 0.9698823289099254\n",
            "테스트 평가: 0.992809406101064\n"
          ]
        }
      ]
    },
    {
      "cell_type": "markdown",
      "source": [
        "- 모형"
      ],
      "metadata": {
        "id": "FIJkDgOzsUGn"
      }
    },
    {
      "cell_type": "code",
      "source": [
        "# 이웃의 개수를 3으로 재 지정\n",
        "knr.n_neighbors = 3\n",
        "\n",
        "# 모형 다시 훈련\n",
        "print(\"훈련평가:\", knr.score(train_input, train_target))\n",
        "print(\"테스트 평가:\", knr.score(test_input, test_target))"
      ],
      "metadata": {
        "colab": {
          "base_uri": "https://localhost:8080/"
        },
        "id": "4vTAW3fLsVz_",
        "outputId": "f586c6b4-f053-4623-9952-490412a3bb7b"
      },
      "execution_count": null,
      "outputs": [
        {
          "output_type": "stream",
          "name": "stdout",
          "text": [
            "훈련평가: 0.9804899950518966\n",
            "테스트 평가: 0.9746459963987609\n"
          ]
        }
      ]
    }
  ]
}