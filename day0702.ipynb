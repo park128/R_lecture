{
  "nbformat": 4,
  "nbformat_minor": 0,
  "metadata": {
    "colab": {
      "name": "day0702.ipynb",
      "provenance": [],
      "collapsed_sections": [
        "0IWohoFFHoUd",
        "bK15e8tHH0dO",
        "ZMB90IttIueN",
        "h_nNvJkkK5lX",
        "XFYfsPWJNr3w",
        "BtZEmj9nR-OK",
        "1WbTGwLGVb5k",
        "LDFj5qJ4aG3-",
        "uJdTysTrMgOl",
        "anmPg6qoQK1n"
      ],
      "authorship_tag": "ABX9TyPpPtXsF0XyhoRSi4Sxik11",
      "include_colab_link": true
    },
    "kernelspec": {
      "name": "python3",
      "display_name": "Python 3"
    },
    "language_info": {
      "name": "python"
    }
  },
  "cells": [
    {
      "cell_type": "markdown",
      "metadata": {
        "id": "view-in-github",
        "colab_type": "text"
      },
      "source": [
        "<a href=\"https://colab.research.google.com/github/park128/R_lecture/blob/main/day0702.ipynb\" target=\"_parent\"><img src=\"https://colab.research.google.com/assets/colab-badge.svg\" alt=\"Open In Colab\"/></a>"
      ]
    },
    {
      "cell_type": "markdown",
      "source": [
        "---\n",
        "title: \"Python 기초문법\"\n",
        "date: '2022-07-02'\n",
        "---"
      ],
      "metadata": {
        "id": "DWRyZpdNzFkE"
      }
    },
    {
      "cell_type": "markdown",
      "source": [
        "# 숫자형"
      ],
      "metadata": {
        "id": "0IWohoFFHoUd"
      }
    },
    {
      "cell_type": "markdown",
      "source": [
        "## 숫자형이란?\n",
        "- 숫자형(Number)이란 숫자 형태로 이루어진 자료형으로, 우리가 이미 잘 알고 있는 것이다. 우리가 흔히 사용하는 것을 생각해 보자. 123 같은 정수, 12.34 같은 실수, 드물게 사용하긴 하지만 8진수나 16진수 같은 것도 있다.\n"
      ],
      "metadata": {
        "id": "bK15e8tHH0dO"
      }
    },
    {
      "cell_type": "markdown",
      "source": [
        "### 파이썬에서 숫자를 어떻게 사용하는지 보여 준다.\n",
        "- 정수 123, -345, 0\n",
        "- 실수 123.45,-1234.5, 3.4e10\n",
        "- 8진수 0o34,o023\n",
        "- 16진수 0x2A, 0xFF"
      ],
      "metadata": {
        "id": "fYZ8DNseIXt_"
      }
    },
    {
      "cell_type": "markdown",
      "source": [
        "##  숫자형은 어떻게 만들고 사용할까?\n"
      ],
      "metadata": {
        "id": "ZMB90IttIueN"
      }
    },
    {
      "cell_type": "markdown",
      "source": [
        "### 정수형\n",
        " - 정수형(Integer)이란 말 그대로 정수를 뜻하는 자료형을 말한다. 다음 예는 양의 정수와 음의 정수, 숫자 0을 변수 a에 대입하는 예이다."
      ],
      "metadata": {
        "id": "8eK_BYiSJDbm"
      }
    },
    {
      "cell_type": "markdown",
      "source": [
        ">>> a = 123\n",
        "\n",
        ">>> a = -178\n",
        "\n",
        ">>> a = 0"
      ],
      "metadata": {
        "id": "Y6eqAxMtND-I"
      }
    },
    {
      "cell_type": "markdown",
      "source": [
        "### 실수형\n",
        "- 파이썬에서 실수형(Floating-point)은 소수점이 포함된 숫자를 말한다. 다음은 실수를 변수 a에 대입하는 예이다."
      ],
      "metadata": {
        "id": "apAN00pEMERA"
      }
    },
    {
      "cell_type": "markdown",
      "source": [
        ">>> a = 1.2\n",
        "\n",
        ">>> a = -3.45"
      ],
      "metadata": {
        "id": "JPxjpwnsM6Xg"
      }
    },
    {
      "cell_type": "markdown",
      "source": [
        "- 위 방식은 우리가 일반적으로 볼 수 있는 실수형의 소수점 표현 방식이다."
      ],
      "metadata": {
        "id": "L5oykwPhJ_MO"
      }
    },
    {
      "cell_type": "markdown",
      "source": [
        ">>> a = 3.24E10\n",
        "\n",
        ">>> a = 4.24e-10"
      ],
      "metadata": {
        "id": "AP0t0sITM-b4"
      }
    },
    {
      "cell_type": "markdown",
      "source": [
        "- 위 방식은 \"컴퓨터식 지수 표현 방식\"으로 파이썬에서는 4.24e10 또는 4.24E10처럼 표현한다.(e와 E 둘 중 어느 것을 사용해도 무방하다.)"
      ],
      "metadata": {
        "id": "oqfkblTYKOre"
      }
    },
    {
      "cell_type": "markdown",
      "source": [
        "## 8진수와 16진수\n",
        "- 8진수 (Octal)를 만들기 위해서는 숫자가 0o 또는 0O(숫자 0 + 알파벳 소문자 o 또는 대문자O)로 시작하면 된다."
      ],
      "metadata": {
        "id": "h_nNvJkkK5lX"
      }
    },
    {
      "cell_type": "markdown",
      "source": [
        ">>> a = 0o8ff"
      ],
      "metadata": {
        "id": "HmYtuOFpMpoQ"
      }
    },
    {
      "cell_type": "markdown",
      "source": [
        "- 16진수(Hexadecimal)를 만들기 위해서는 0x로 시작하면 된다."
      ],
      "metadata": {
        "id": "D1znz7YcLSlW"
      }
    },
    {
      "cell_type": "markdown",
      "source": [
        ">>> a = 0x8ff\n",
        "\n",
        ">>> b = 0xABC"
      ],
      "metadata": {
        "id": "qAgalUQvMtLe"
      }
    },
    {
      "cell_type": "markdown",
      "source": [
        "- 8진수나 16진수는 파이썬에서 잘 사용하지 않는 형태의 숫자 자료형이니 간단히 눈으로 익히고 넘어가자."
      ],
      "metadata": {
        "id": "Gb7Y60EmLl6u"
      }
    },
    {
      "cell_type": "markdown",
      "source": [
        "## 숫자형을 활용하기 위한 연산자\n"
      ],
      "metadata": {
        "id": "XFYfsPWJNr3w"
      }
    },
    {
      "cell_type": "markdown",
      "source": [
        "### 사칙연산\n",
        "- 프로그래밍을 한 번도 해본 적이 없는 사람도 사칙연산(+,-,*,/)은 알고 있을 것이다. 파이썬 역시 계산기와 마찬가지로 다음처럼 연산자를 사용해 사칙 연산을 수행한다."
      ],
      "metadata": {
        "id": "hXI6wH-hN3RQ"
      }
    },
    {
      "cell_type": "code",
      "source": [
        "a = 3\n",
        "b = 4\n",
        "print('a + b =',a+b)\n",
        "\n",
        "print('a - b =',a-b)\n",
        "\n",
        "print('a * b =',a*b)\n",
        "\n",
        "print('a / b =',a/b)"
      ],
      "metadata": {
        "colab": {
          "base_uri": "https://localhost:8080/"
        },
        "id": "W9ZPD3xFOPnI",
        "outputId": "eea26428-3565-41f8-9fc2-a13977882b07"
      },
      "execution_count": null,
      "outputs": [
        {
          "output_type": "stream",
          "name": "stdout",
          "text": [
            "a + b = 7\n",
            "a - b = -1\n",
            "a * b = 12\n",
            "a / b = 0.75\n"
          ]
        }
      ]
    },
    {
      "cell_type": "markdown",
      "source": [
        "### x의 제곱을 나타내는 **연산자\n",
        "- 다음으로 알아야 할 연산자로 **라는 연산자가 있다. 이 연산자는 x**y처럼 사용했을 때 x의 y제곱 값을 돌려준다. 다음의 예를 통해 알아보자."
      ],
      "metadata": {
        "id": "ovou34I1PFPh"
      }
    },
    {
      "cell_type": "code",
      "source": [
        "a = 3\n",
        "b = 4\n",
        "print('a ** b =',a**b)"
      ],
      "metadata": {
        "colab": {
          "base_uri": "https://localhost:8080/"
        },
        "id": "VIe6gLwgPYqh",
        "outputId": "39a39ef8-e34d-47e2-879c-1c6ed4be797f"
      },
      "execution_count": null,
      "outputs": [
        {
          "output_type": "stream",
          "name": "stdout",
          "text": [
            "a ** b = 81\n"
          ]
        }
      ]
    },
    {
      "cell_type": "markdown",
      "source": [
        "### 나눗셈 후 나머지를 반환하는 %연산자\n",
        "- 프로그래밍을 처음 접하는 사람라면 % 연산자는 본 적이 없다. %는 나눗셈의 나머지 값을 돌려주는 연산자이다. 7을 3으로 나누면 나머지는 1이 될 것이고 3을 7로 나누면 나머지는 3이 될 것이다. 다음 예로 확인해 보자."
      ],
      "metadata": {
        "id": "9LoY7g-PPnf4"
      }
    },
    {
      "cell_type": "code",
      "source": [
        "print('7 % 3 =',7%3)\n",
        "print('3 % 7 =',3%7)"
      ],
      "metadata": {
        "colab": {
          "base_uri": "https://localhost:8080/"
        },
        "id": "Thac9KXLQVIi",
        "outputId": "2c571c3d-d8e2-4352-f91c-8a155ea94160"
      },
      "execution_count": null,
      "outputs": [
        {
          "output_type": "stream",
          "name": "stdout",
          "text": [
            "7 % 3 = 1\n",
            "3 % 7 = 3\n"
          ]
        }
      ]
    },
    {
      "cell_type": "markdown",
      "source": [
        "### 나눗셈 후 몫을 반환하는 // 연산자\n",
        "- 연산자를 사용하여 7 나누기 4를 하면 그 결과는 예상대로 1.75가 된다."
      ],
      "metadata": {
        "id": "tkLjy39CQskh"
      }
    },
    {
      "cell_type": "code",
      "source": [
        "print('7 / 4 =',7/4)"
      ],
      "metadata": {
        "colab": {
          "base_uri": "https://localhost:8080/"
        },
        "id": "R0jBvm8qQ2xB",
        "outputId": "5cdff09d-7841-4cad-edf6-9d22f406b31c"
      },
      "execution_count": null,
      "outputs": [
        {
          "output_type": "stream",
          "name": "stdout",
          "text": [
            "7 / 4 = 1.75\n"
          ]
        }
      ]
    },
    {
      "cell_type": "markdown",
      "source": [
        "이번에는 나눗셈 후 몫을 반환하는 // 연산자를 사용한 경우다."
      ],
      "metadata": {
        "id": "7LtF5f16Q_ci"
      }
    },
    {
      "cell_type": "code",
      "source": [
        "print('7 / 4 =',7/4)"
      ],
      "metadata": {
        "colab": {
          "base_uri": "https://localhost:8080/"
        },
        "id": "NjIfM9D-RG1R",
        "outputId": "fede77ec-834a-415e-8419-a2058c814e88"
      },
      "execution_count": null,
      "outputs": [
        {
          "output_type": "stream",
          "name": "stdout",
          "text": [
            "7 / 4 = 1.75\n"
          ]
        }
      ]
    },
    {
      "cell_type": "markdown",
      "source": [
        "이번에는 나눗셈 후 몫을 반화하는 // 연산자를 사용한 경우다."
      ],
      "metadata": {
        "id": "d9h-o_HJRXMS"
      }
    },
    {
      "cell_type": "code",
      "source": [
        "print('7 // 4 =',7//4)"
      ],
      "metadata": {
        "colab": {
          "base_uri": "https://localhost:8080/"
        },
        "id": "xq2u_6AARcCq",
        "outputId": "7e9b7438-2ef0-49c9-d6a0-0e8b49dc1734"
      },
      "execution_count": null,
      "outputs": [
        {
          "output_type": "stream",
          "name": "stdout",
          "text": [
            "7 // 4 = 1\n"
          ]
        }
      ]
    },
    {
      "cell_type": "markdown",
      "source": [
        "- 1.75에서 몫에 해당되는 정수값 1만 돌려주는 것을 확인할 수 있다."
      ],
      "metadata": {
        "id": "nNr_XcMORoJ5"
      }
    },
    {
      "cell_type": "markdown",
      "source": [
        "# 문자열"
      ],
      "metadata": {
        "id": "GDV-dbmSR2mq"
      }
    },
    {
      "cell_type": "markdown",
      "source": [
        "## 문자열은 어떻게 만들고 사용할까?\n",
        "- 위 예에서는 문자열을 만들 때 큰따옴표(\"\")만을 사용했지만 이 외에도 문자열을 만드는 방법은 3가지가 더 있다. 파이썬에서 문자열을 만드는 방법은 총 4가지이다.\n"
      ],
      "metadata": {
        "id": "BtZEmj9nR-OK"
      }
    },
    {
      "cell_type": "markdown",
      "source": [
        "### 1. 큰 따옴표(\")로 양쪽 둘러싸기"
      ],
      "metadata": {
        "id": "AJzxcTG0S4RT"
      }
    },
    {
      "cell_type": "code",
      "source": [
        "print(\"Hello World\")"
      ],
      "metadata": {
        "colab": {
          "base_uri": "https://localhost:8080/"
        },
        "id": "ysAPvPRBS9gc",
        "outputId": "de46c912-2be6-4831-af09-985df22ee53f"
      },
      "execution_count": null,
      "outputs": [
        {
          "output_type": "stream",
          "name": "stdout",
          "text": [
            "Hello World\n"
          ]
        }
      ]
    },
    {
      "cell_type": "markdown",
      "source": [
        "### 2. 작은따옴표(')로 양쪽 둘러싸기"
      ],
      "metadata": {
        "id": "r-xf5UPjTCgi"
      }
    },
    {
      "cell_type": "code",
      "source": [
        "print('Python is fun')"
      ],
      "metadata": {
        "colab": {
          "base_uri": "https://localhost:8080/"
        },
        "id": "I0QcZwwfTLPC",
        "outputId": "1fb486b3-e7bb-4100-f824-1f7507415d42"
      },
      "execution_count": null,
      "outputs": [
        {
          "output_type": "stream",
          "name": "stdout",
          "text": [
            "Python is fun\n"
          ]
        }
      ]
    },
    {
      "cell_type": "markdown",
      "source": [
        "### 3. 큰따옴표 3개를 연속(\"\"\")으로 써서 양쪽 둘러싸기"
      ],
      "metadata": {
        "id": "ghMGgsFhSCrq"
      }
    },
    {
      "cell_type": "code",
      "source": [
        "\"\"\"Life is too short, You need python\"\"\""
      ],
      "metadata": {
        "colab": {
          "base_uri": "https://localhost:8080/",
          "height": 35
        },
        "id": "BwgQmK4gUvp7",
        "outputId": "6a61217a-3bb0-4b25-84f7-fe1310277b07"
      },
      "execution_count": null,
      "outputs": [
        {
          "output_type": "execute_result",
          "data": {
            "text/plain": [
              "'Life is too short, You need python'"
            ],
            "application/vnd.google.colaboratory.intrinsic+json": {
              "type": "string"
            }
          },
          "metadata": {},
          "execution_count": 93
        }
      ]
    },
    {
      "cell_type": "markdown",
      "source": [
        "### 4. 작은따옴표 3개를 연속(''')으로 써서 양쪽 둘러싸기"
      ],
      "metadata": {
        "id": "3M7CqI1EVFMU"
      }
    },
    {
      "cell_type": "code",
      "source": [
        "'''Life is too short, You need python'''"
      ],
      "metadata": {
        "colab": {
          "base_uri": "https://localhost:8080/",
          "height": 35
        },
        "id": "9HFnaem8VMp7",
        "outputId": "63973d05-c06b-443a-e698-3116973aa1f1"
      },
      "execution_count": null,
      "outputs": [
        {
          "output_type": "execute_result",
          "data": {
            "text/plain": [
              "'Life is too short, You need python'"
            ],
            "application/vnd.google.colaboratory.intrinsic+json": {
              "type": "string"
            }
          },
          "metadata": {},
          "execution_count": 92
        }
      ]
    },
    {
      "cell_type": "markdown",
      "source": [
        "- 단순함이 자랑인 파이썬이 문자열을 만드는 방법은 왜 4가지나 가지게 되었을까? 그 이유에 대해 알아보자."
      ],
      "metadata": {
        "id": "v9CrbJIoVSrc"
      }
    },
    {
      "cell_type": "markdown",
      "source": [
        "## 문자열 안에 작은따옴표나 큰따옴표를 포함시키고 싶을 때\n",
        "- 문자열을 만들어 주는 주인공은 작은 따옴표(')와 큰 따옴표(\")이다. 그런데 문자열 안에도 작은 따옴표와 큰 따옴표가 들어 있어야 할 경우가 있다. 이때는 좀 더 특별한 기술이 필요하다. 예제를 하나씩 살펴보면서 원리를 익혀 보자."
      ],
      "metadata": {
        "id": "1WbTGwLGVb5k"
      }
    },
    {
      "cell_type": "markdown",
      "source": [
        "### 1.문자열에 작은 따옴표 (') 포함시키기"
      ],
      "metadata": {
        "id": "lo-Non23X9mN"
      }
    },
    {
      "cell_type": "markdown",
      "source": [
        "Python's favorite food is per1"
      ],
      "metadata": {
        "id": "j-zDk7OBYTC-"
      }
    },
    {
      "cell_type": "markdown",
      "source": [
        "- 이와 같은 문자열을 food 변수에 저장하고 싶다고 가정하자. 문자열 중 Python's에 작은따옴표(')가 포함되어 있다.\n",
        "\n",
        "이럴 때는 다음과 같이 문자열을 큰 따옴표(\")로 둘러싸야 한다. 큰 따옴표 안에 들어 있는 작은 따옴표는 문자열을 나타내기 위한 기호로 인식되지 않는다."
      ],
      "metadata": {
        "id": "hC0sCJ4xWG8s"
      }
    },
    {
      "cell_type": "code",
      "source": [
        "food = \"Python's favorite food is per1\""
      ],
      "metadata": {
        "id": "9eulmWmBYpvf"
      },
      "execution_count": null,
      "outputs": []
    },
    {
      "cell_type": "markdown",
      "source": [
        "- 프롬프트에 food를 입력해서 결과를 확인하자. 변수에 저장된 문자열이 그대로 출려고디는 것을 볼 수 있다."
      ],
      "metadata": {
        "id": "2Y2t8caUYsR1"
      }
    },
    {
      "cell_type": "code",
      "source": [
        "food"
      ],
      "metadata": {
        "colab": {
          "base_uri": "https://localhost:8080/",
          "height": 35
        },
        "id": "irVmYxFDYzBu",
        "outputId": "805c5b98-a5d1-484d-e2df-4c3695fed6ab"
      },
      "execution_count": null,
      "outputs": [
        {
          "output_type": "execute_result",
          "data": {
            "text/plain": [
              "\"Python's favorite food is per1\""
            ],
            "application/vnd.google.colaboratory.intrinsic+json": {
              "type": "string"
            }
          },
          "metadata": {},
          "execution_count": 97
        }
      ]
    },
    {
      "cell_type": "markdown",
      "source": [
        "- 시험 삼아 다음과 같이 큰 따옴표(\")가 아닌 작은 따옴표(')로 문자열을 둘러싼 후 실행을 하게 되면 'Python'이 문자열로 인식되어 아래와 같은 구문 오류(SyntaxError)가 발생할 것이다."
      ],
      "metadata": {
        "id": "Dreo80AUY2PF"
      }
    },
    {
      "cell_type": "markdown",
      "source": [
        ">>> food = 'Python's favorite food is perl'\n",
        "  File \"<stdin>\", line 1\n",
        "    food = 'Python's favorite food is perl'\n",
        "                   ^\n",
        "SyntaxError: invalid syntax"
      ],
      "metadata": {
        "id": "eEi21LDPX1nt"
      }
    },
    {
      "cell_type": "markdown",
      "source": [
        "### 2.문자열에 큰 따옴표(\")포함시키기"
      ],
      "metadata": {
        "id": "k1oE0yvdZbGO"
      }
    },
    {
      "cell_type": "markdown",
      "source": [
        "- \"Python is very easy.\" he says."
      ],
      "metadata": {
        "id": "1NJK0kHtZmYV"
      }
    },
    {
      "cell_type": "markdown",
      "source": [
        "위와 같이 큰따옴표(\")가 포함된 문자열이라면 어떻게 해야 큰따옴표가 제대로 표현될까?\n",
        "\n",
        "다음과 같이 문자열을 작은따옴표(')로 둘러싸면 된다."
      ],
      "metadata": {
        "id": "fu-xphjoZp3N"
      }
    },
    {
      "cell_type": "code",
      "source": [
        "say = '\"Python is very easy.\" he says.'"
      ],
      "metadata": {
        "id": "M-MROrSrZui9"
      },
      "execution_count": null,
      "outputs": []
    },
    {
      "cell_type": "markdown",
      "source": [
        "이렇게 작은따옴표(') 안에 사용된 큰따옴표(\")는 문자열을 만드는 기호로 인식되지 않는다."
      ],
      "metadata": {
        "id": "3z9Z6L9WZ34G"
      }
    },
    {
      "cell_type": "markdown",
      "source": [
        "## 백슬래시(\\)를 사용해서 작은따옴표(')와 큰 따옴표(\")를 문자열에 포함시키기."
      ],
      "metadata": {
        "id": "LDFj5qJ4aG3-"
      }
    },
    {
      "cell_type": "code",
      "source": [
        "food = 'Python\\'s favorite food is perl'\n",
        "say = \"\\\"Python is very easy.\\\" he says.\""
      ],
      "metadata": {
        "id": "qcoOHgrca--_"
      },
      "execution_count": null,
      "outputs": []
    },
    {
      "cell_type": "markdown",
      "source": [
        "- 작은 따옴표(')나 큰 따옴표(\")를 문자열에 포함시키는 또 다른 방법은 백슬래시(\\)를 사용하는 것이다. 즉 백슬래시(\\)를 작은 따옴표(')나 큰 따옴표(\")앞에 삽입하면 백슬래시(\\)뒤의 작은 따옴표(')나 큰 따옴표(\")는 문자열을 둘러싸는 기호의 의미가 아니라 문자('),(\")그 자체를 뜻하게 된다."
      ],
      "metadata": {
        "id": "gvXmhWS0c_N4"
      }
    },
    {
      "cell_type": "markdown",
      "source": [
        "- 어떤 방법을 사용해서 문자열 안에 작은 따옴표(')와 큰 따옴표(\")를 포함시킬지는 각자의 선택이다."
      ],
      "metadata": {
        "id": "67ncdoaidjGh"
      }
    },
    {
      "cell_type": "markdown",
      "source": [
        ""
      ],
      "metadata": {
        "id": "qtNgfzspgW7C"
      }
    },
    {
      "cell_type": "markdown",
      "source": [
        "### 여러 줄인 문자열을 변수에 대입하고 싶을 때"
      ],
      "metadata": {
        "id": "ZQJxu4dJeVMw"
      }
    },
    {
      "cell_type": "markdown",
      "source": [
        "문자열이 항상 한 줄짜리만 있는 것은 아니다. 다음과 같이 여러 줄의 문자열을 변수에 대입하려면 어떻게 처리해야 할까?"
      ],
      "metadata": {
        "id": "OsHipp-XeZfw"
      }
    },
    {
      "cell_type": "markdown",
      "source": [
        ">>>Life si too short\n",
        "\n",
        ">>>You need python"
      ],
      "metadata": {
        "id": "0MPpKE9SesmR"
      }
    },
    {
      "cell_type": "markdown",
      "source": [
        "### 1. 줄을 바꾸기 위한 이스케이프 코드 \\n 삽입하기"
      ],
      "metadata": {
        "id": "ZD3qoHMFe1zY"
      }
    },
    {
      "cell_type": "code",
      "source": [
        "multiline = \"Life is too short\\nYou need python\""
      ],
      "metadata": {
        "id": "ssdkFYmbfFkR"
      },
      "execution_count": null,
      "outputs": []
    },
    {
      "cell_type": "markdown",
      "source": [
        "위 예처럼 줄바꿈 문자\\n 을 삽입하는 방법이 있지만 읽기에 불편하고 줄이 길어지는 단점이 있다."
      ],
      "metadata": {
        "id": "_TOgGK6AfTHw"
      }
    },
    {
      "cell_type": "markdown",
      "source": [
        "### 2. 연속된 작은 따옴표 3개(''') 또는 큰 다옴표 3개(\"\"\")사용하기\n",
        "- 위 1번의 단점을 극복하기 위해 파이썬에서는 ㅏㄷ음과 같이 작은 따옴표 3개(''') 또는 큰 다옴표 3개(\"\"\")를 사용한다."
      ],
      "metadata": {
        "id": "-6I1DQ-xKVV0"
      }
    },
    {
      "cell_type": "code",
      "source": [
        "multiline='''\n",
        "Life is too short\n",
        "You need python'''\n",
        "\n",
        "print(multiline)"
      ],
      "metadata": {
        "colab": {
          "base_uri": "https://localhost:8080/"
        },
        "id": "hfnXhkTFKlm7",
        "outputId": "e9b7ba46-fac5-4750-884e-0ef0901e109d"
      },
      "execution_count": null,
      "outputs": [
        {
          "output_type": "stream",
          "name": "stdout",
          "text": [
            "\n",
            "Life is too short\n",
            "You need python\n"
          ]
        }
      ]
    },
    {
      "cell_type": "markdown",
      "source": [
        "- 작은 따옴표 3개를 사용한 경우"
      ],
      "metadata": {
        "id": "tzQYVYu0K971"
      }
    },
    {
      "cell_type": "code",
      "source": [
        "multiline=\"\"\"\n",
        "Life is too short\n",
        "Yo need python\n",
        "\"\"\"\n",
        "\n",
        "print(multiline)"
      ],
      "metadata": {
        "colab": {
          "base_uri": "https://localhost:8080/"
        },
        "id": "Mn2Q8n0BLCiW",
        "outputId": "a5256075-3201-4d29-a538-475f692eed66"
      },
      "execution_count": null,
      "outputs": [
        {
          "output_type": "stream",
          "name": "stdout",
          "text": [
            "\n",
            "Life is too short\n",
            "Yo need python\n",
            "\n"
          ]
        }
      ]
    },
    {
      "cell_type": "markdown",
      "source": [
        "- 두 경우 모두 결과는 동일하다. 위 예에서도 확인할 수 있듯이 문자열이 여러 줄인 경우 이스케이프 코드를 쓰는 것보다 따옴표를 연속해서 쓰는 것이 훨씬 깔끔하다."
      ],
      "metadata": {
        "id": "-iWu69vfMRu3"
      }
    },
    {
      "cell_type": "markdown",
      "source": [
        "## 문자열 연산하기.\n",
        "- 파이썬에서는 문자열을 더하거나 곱할 수 있다. 다른 언어에서는 쉽게 찾아볼 수 없는 재미있는 기능으로, 우리 생각을 그대로 반영해 주는 파이썬만의 장점이라고 할 수 있다. 문자열을 더하거나 곱하는 방법에 대해 알아보자.\n"
      ],
      "metadata": {
        "id": "uJdTysTrMgOl"
      }
    },
    {
      "cell_type": "markdown",
      "source": [
        "### 문자열 더해서 연결하기(Concatenation)"
      ],
      "metadata": {
        "id": "C0bE2Yq-MyZF"
      }
    },
    {
      "cell_type": "code",
      "source": [
        "head = \"Python\"\n",
        "tail = \" si fun!\"\n",
        "head + tail"
      ],
      "metadata": {
        "colab": {
          "base_uri": "https://localhost:8080/",
          "height": 35
        },
        "id": "OUg6TO1xM5Gl",
        "outputId": "bfe46f21-6c8a-415a-eb5a-f94275830482"
      },
      "execution_count": null,
      "outputs": [
        {
          "output_type": "execute_result",
          "data": {
            "text/plain": [
              "'Python si fun!'"
            ],
            "application/vnd.google.colaboratory.intrinsic+json": {
              "type": "string"
            }
          },
          "metadata": {},
          "execution_count": 279
        }
      ]
    },
    {
      "cell_type": "markdown",
      "source": [
        "- 위 소스 코드에서 세 번째 줄을 보자. 복잡하게 생각하지 말고 눈에 보이는 대로 생각해 보자.'Python is fun!'이다. 즉 head와 tail변수가 +에 의해 합쳐진 것이다."
      ],
      "metadata": {
        "id": "__RrQNlpND-Q"
      }
    },
    {
      "cell_type": "markdown",
      "source": [
        "### 문자열 곱하기"
      ],
      "metadata": {
        "id": "86jJSCKbNY3I"
      }
    },
    {
      "cell_type": "code",
      "source": [
        "a = \"Python\"\n",
        "a * 2"
      ],
      "metadata": {
        "colab": {
          "base_uri": "https://localhost:8080/",
          "height": 35
        },
        "id": "jd7yd9aANgkV",
        "outputId": "526f5645-f8fd-4de5-ae6c-6eee3ae94c87"
      },
      "execution_count": null,
      "outputs": [
        {
          "output_type": "execute_result",
          "data": {
            "text/plain": [
              "'PythonPython'"
            ],
            "application/vnd.google.colaboratory.intrinsic+json": {
              "type": "string"
            }
          },
          "metadata": {},
          "execution_count": 280
        }
      ]
    },
    {
      "cell_type": "markdown",
      "source": [
        "- 위 소스 코드에서 *의 의미는 우리가 일반적으로 사용하는 숫자 곱하기의 의미와는 다르다. 위 소스 코드에서 a * 2 문장은 a를 두 번 반복하라는 뜻이다. 즉 *는 문자열의 반복을 뜻하는 의미로 사용 됨"
      ],
      "metadata": {
        "id": "4JdRWE2bNnZg"
      }
    },
    {
      "cell_type": "markdown",
      "source": [
        "### 문자열 곱하기 응용\n",
        "- 문자열 곱하기를 좀 더 응용. 다음 소스를 IDLE에디터를 열고 작성해 봤다."
      ],
      "metadata": {
        "id": "SF39OzUqN3Gh"
      }
    },
    {
      "cell_type": "code",
      "source": [
        "# multistring.py\n",
        "\n",
        "print(\"=\" * 50)\n",
        "print(\"My program\")\n",
        "print(\"=\" * 50)"
      ],
      "metadata": {
        "colab": {
          "base_uri": "https://localhost:8080/"
        },
        "id": "yzxr3836OCXd",
        "outputId": "4566c4f3-6632-4d88-c393-fd2660466512"
      },
      "execution_count": null,
      "outputs": [
        {
          "output_type": "stream",
          "name": "stdout",
          "text": [
            "==================================================\n",
            "My program\n",
            "==================================================\n"
          ]
        }
      ]
    },
    {
      "cell_type": "markdown",
      "source": [
        "- 입력한 소스는 C:\\doit 디렉터리에 파일 이름 multistring.py로 저장\n",
        "- 프로그램을 실행 [윈도우 + R(실행) > cmd입력 > Enter]를 눌러 명령 프롬프트 창을 열고 다음을 따라해보면 결괏값이 나타남"
      ],
      "metadata": {
        "id": "fH6NIoTNOVbP"
      }
    },
    {
      "cell_type": "markdown",
      "source": [
        "### 문자열 길이 구하기\n",
        "- 문자열의 길이는 다음과 같이 len 함수를 사용하면 구할 수 있다. len 함수는 print 함수처럼 파이썬의 기본 내장 함수로 별다른 설정 없이 바로 사용할 수 있다."
      ],
      "metadata": {
        "id": "IqHBnBSnNnSl"
      }
    },
    {
      "cell_type": "code",
      "source": [
        "a = \"Life is too short\"\n",
        "len(a)"
      ],
      "metadata": {
        "colab": {
          "base_uri": "https://localhost:8080/"
        },
        "id": "RQ50d8jjP8dn",
        "outputId": "a133cde0-85f8-413f-8fa1-9eb3c4138e6b"
      },
      "execution_count": null,
      "outputs": [
        {
          "output_type": "execute_result",
          "data": {
            "text/plain": [
              "17"
            ]
          },
          "metadata": {},
          "execution_count": 284
        }
      ]
    },
    {
      "cell_type": "markdown",
      "source": [
        "## 문자열 인덱싱과 슬라이싱\n",
        "- 인덱싱(indexing)이란 무엇인가를 \"가리킨다\"는 의미이고, 슬라이싱(Slicing)은 무엇인가를 \"잘라낸다\"는 의미이다. 이런 의미를 생각하면서 다음 내용을 보자."
      ],
      "metadata": {
        "id": "anmPg6qoQK1n"
      }
    },
    {
      "cell_type": "markdown",
      "source": [
        "### 문자열 인덱싱이란?"
      ],
      "metadata": {
        "id": "9hui053KQehH"
      }
    },
    {
      "cell_type": "code",
      "source": [
        "a = \"Life is too short, You need Python\""
      ],
      "metadata": {
        "id": "Kb7B4nbSQhVG"
      },
      "execution_count": null,
      "outputs": []
    },
    {
      "cell_type": "markdown",
      "source": [
        "- 위 소스 코드에서 변수 a에 저장한 문자열의 각 문자마다 번호를 매겨 보면 다음과 같다.\n",
        "- Life is too short, You need Python\n",
        "0         1         2         3 \n",
        "0123456789012345678901234567890123\n",
        "- \"Life is too short, You need Python\" 문자열에서 L은 첫 번째 자리를 뜻하는 숫자 0, 바로 다음인 i는 1 이런식으로 계속 번호를 붙인 것이다. 중간에 있는 short의 s는 12가 된다."
      ],
      "metadata": {
        "id": "6Rd8wCBtQpqn"
      }
    },
    {
      "cell_type": "code",
      "source": [
        "a = \"Life is too short, You need Python\"\n",
        "a[3]"
      ],
      "metadata": {
        "colab": {
          "base_uri": "https://localhost:8080/",
          "height": 35
        },
        "id": "Fc9PBHTmROhv",
        "outputId": "6182834a-8b95-4247-8abb-7a638cab7930"
      },
      "execution_count": null,
      "outputs": [
        {
          "output_type": "execute_result",
          "data": {
            "text/plain": [
              "'e'"
            ],
            "application/vnd.google.colaboratory.intrinsic+json": {
              "type": "string"
            }
          },
          "metadata": {},
          "execution_count": 287
        }
      ]
    },
    {
      "cell_type": "markdown",
      "source": [
        "- a[3]이 뜻하는 것은 a라는 문자열의 네 번째 문자 e를 말한다. 프로그래밍을 처음 접하는 사람이라면 a[3]에서 숫자 3이 왜 네 번째 문자를 뜻하는지 의아할 수도 있다. 사실 이 부분이 헷갈릴 수 있는 부분인데, 이렇게 생각하면 쉽다.\n",
        "- \"파이썬은 0부터 숫자를 센다.\"\n",
        "- 따라서 파이썬은 위 문자열을 다음과 같이 바라보고 있다.\n",
        "- a[0]:'L', a[1]:'i', a[2]:'f', a[3]:'e', a[4]:' ', ...\n",
        "- a[번호]는 문자열 안의 특정한 값을 뽑아내는 역할을 한다. 이러한 작업을 인덱싱이라고 한다."
      ],
      "metadata": {
        "id": "Da5cqITIRTAp"
      }
    },
    {
      "cell_type": "markdown",
      "source": [
        "### 문자열 인덱싱 활용하기\n",
        "- 인덱싱 예를 몇 가지 더 보자"
      ],
      "metadata": {
        "id": "dPOhaVibR6eg"
      }
    },
    {
      "cell_type": "code",
      "source": [
        "a = \"Life is too short, You need Python\"\n",
        "print(a[0])\n",
        "\n",
        "print(a[12])\n",
        "\n",
        "print(a[-1])"
      ],
      "metadata": {
        "colab": {
          "base_uri": "https://localhost:8080/"
        },
        "id": "iwMpTdhmSAq2",
        "outputId": "1e8afbd2-1aa4-4082-b1be-a8060948b36a"
      },
      "execution_count": 20,
      "outputs": [
        {
          "output_type": "stream",
          "name": "stdout",
          "text": [
            "L\n",
            "s\n",
            "n\n"
          ]
        }
      ]
    },
    {
      "cell_type": "markdown",
      "source": [
        "- 앞의 a[0]과 a[12]는 쉽게 이해할 수 있는데 마지막의 a[-1]이 뜻하는 것은 문자열을 뒤에서부터 읽기 위해 마이너스(-) 기호를 붙이는 것.\n",
        "-뒤에서부터 첫 번째 문자를 표시할 때도 0부터 세어 \"a[-0]이라고 해야 하지 않을까?\"라는 의문이 들었지만 0과 -0은 똑같은 것이기 때문에 같은 값을 보여준다."
      ],
      "metadata": {
        "id": "0m5rj0NRSQn_"
      }
    },
    {
      "cell_type": "code",
      "source": [
        "a[-0]"
      ],
      "metadata": {
        "colab": {
          "base_uri": "https://localhost:8080/",
          "height": 35
        },
        "id": "0pSuMImVSzQQ",
        "outputId": "459a7059-8df6-4c01-a254-bbfb709bc89a"
      },
      "execution_count": null,
      "outputs": [
        {
          "output_type": "execute_result",
          "data": {
            "text/plain": [
              "'L'"
            ],
            "application/vnd.google.colaboratory.intrinsic+json": {
              "type": "string"
            }
          },
          "metadata": {},
          "execution_count": 292
        }
      ]
    },
    {
      "cell_type": "markdown",
      "source": [
        "- 계속해서 몇 가지 예를 더 보자."
      ],
      "metadata": {
        "id": "b_z_r-e0S2Z6"
      }
    },
    {
      "cell_type": "code",
      "source": [
        "print(a[-2])\n",
        "\n",
        "print(a[-5])"
      ],
      "metadata": {
        "colab": {
          "base_uri": "https://localhost:8080/"
        },
        "id": "e6lWkNHyS4wR",
        "outputId": "4b62c4c7-2114-4939-8d6a-6a71faa48b6f"
      },
      "execution_count": 22,
      "outputs": [
        {
          "output_type": "stream",
          "name": "stdout",
          "text": [
            "o\n",
            "y\n"
          ]
        }
      ]
    },
    {
      "cell_type": "markdown",
      "source": [
        "- 위 첫 번째 예는 뒤에서부터 두 번째 문자를 가리키는 것이고, 두 번째 예는 뒤에서부터 다섯 번째 문자를 가리키는 것이다."
      ],
      "metadata": {
        "id": "IgyBlZiPS-Kq"
      }
    },
    {
      "cell_type": "markdown",
      "source": [
        "## 문자열 슬라이싱이란?\n",
        "- 그렇다면 \"Life is too short, You need Python\" 문자열에서 단순히 한 문자만을 뽑아내는 것이 아니라 'Life' 또는 'You' 같은 단어를 뽑아내는 방법은 없을까?\n",
        "- 다음과 같이 하면 된다."
      ],
      "metadata": {
        "id": "eoTv1GaDTFX5"
      }
    },
    {
      "cell_type": "code",
      "source": [
        "a = \"Life is too short, You need Python\"\n",
        "b = a[0] +a[1] + a[2] + a[3]\n",
        "b"
      ],
      "metadata": {
        "colab": {
          "base_uri": "https://localhost:8080/",
          "height": 35
        },
        "id": "vj_qkN0fTX7g",
        "outputId": "dc86436a-461a-4b4b-af67-2a487c3e8263"
      },
      "execution_count": null,
      "outputs": [
        {
          "output_type": "execute_result",
          "data": {
            "text/plain": [
              "'Life'"
            ],
            "application/vnd.google.colaboratory.intrinsic+json": {
              "type": "string"
            }
          },
          "metadata": {},
          "execution_count": 296
        }
      ]
    },
    {
      "cell_type": "markdown",
      "source": [
        "- 위 방법처럼 단순하게 접근할 수도 있지만 파이썬에서는 더 좋은 방법을 제공한다. 바로 슬라이싱(Slicing) 기법이다.\n",
        "- 위 예는 슬라이싱 기법으로 다음과 같이 간단하게 처리할 수 잇다."
      ],
      "metadata": {
        "id": "qW7u2Bi3ToHR"
      }
    },
    {
      "cell_type": "code",
      "source": [
        "a = \"Life is too short, You need Python\"\n",
        "a [0:4]"
      ],
      "metadata": {
        "colab": {
          "base_uri": "https://localhost:8080/",
          "height": 35
        },
        "id": "uETeh0b_T0SA",
        "outputId": "6c4d59a9-ad61-45db-c590-ba4308e34922"
      },
      "execution_count": 2,
      "outputs": [
        {
          "output_type": "execute_result",
          "data": {
            "text/plain": [
              "'Life'"
            ],
            "application/vnd.google.colaboratory.intrinsic+json": {
              "type": "string"
            }
          },
          "metadata": {},
          "execution_count": 2
        }
      ]
    },
    {
      "cell_type": "markdown",
      "source": [
        "- a[0:4]가 뜻하는 것은 a 문자열, 즉 \"Life is too short, You need Python\"문장에서 자리 번호 0부터 4까지의 문자를 뽑아낸다는 뜻이다. 하지만 다음과 같은 의문이 생깃 것이ㅏ. a[0]은 L, a[1]은 i, a[2]는 f, a[3]은 e니까 a[0:3]으로도 Life라는 단어를 뽑아낼 수 있지 않을까? 다음 예로 확인해 보자.\n"
      ],
      "metadata": {
        "id": "ruC8brjET5Eh"
      }
    },
    {
      "cell_type": "code",
      "source": [
        "a[0:3]"
      ],
      "metadata": {
        "id": "HrOqLcXvQwM_",
        "colab": {
          "base_uri": "https://localhost:8080/",
          "height": 35
        },
        "outputId": "8ef13ee0-fbc6-45ae-b3ce-aa29ac41e652"
      },
      "execution_count": 3,
      "outputs": [
        {
          "output_type": "execute_result",
          "data": {
            "text/plain": [
              "'Lif'"
            ],
            "application/vnd.google.colaboratory.intrinsic+json": {
              "type": "string"
            }
          },
          "metadata": {},
          "execution_count": 3
        }
      ]
    },
    {
      "cell_type": "markdown",
      "source": [
        "- 이렇게 되는 이유는 간단하다. 슬라이싱 기법으로 a[시작 번호:끝 번호]를 지정할 때 끝 번호에 해당하는 것은 포함하지 않기 때문이다. a[0:3]을 수식으로 나타내면 다음과 같다.\n",
        "- 0 <= a < 3\n",
        "- 이 수식을 만족하는 것은 a[0], a[1], a[2]이다. 따라서 a[0:3]은 'Life'가 되는 것이다. 이 부분이 문자열 연산에서 가장 혼동하기 쉬운 부분이니 장 마지막의 연습 문제를 많이 풀어 보면서 몸에 익히기 바란다.\n"
      ],
      "metadata": {
        "id": "DZlkL-CRjsT0"
      }
    },
    {
      "cell_type": "markdown",
      "source": [
        "### 문자열을 슬라이싱 하는 방법\n",
        "- 슬라이싱의 예를 조금 더 보자."
      ],
      "metadata": {
        "id": "lWYmIQ7dkdSU"
      }
    },
    {
      "cell_type": "code",
      "source": [
        "a[0:5]"
      ],
      "metadata": {
        "colab": {
          "base_uri": "https://localhost:8080/",
          "height": 35
        },
        "id": "xHF_h6RhkiUN",
        "outputId": "2425a96e-9ffd-48c1-dad6-ffbc137706fd"
      },
      "execution_count": 5,
      "outputs": [
        {
          "output_type": "execute_result",
          "data": {
            "text/plain": [
              "'Life '"
            ],
            "application/vnd.google.colaboratory.intrinsic+json": {
              "type": "string"
            }
          },
          "metadata": {},
          "execution_count": 5
        }
      ]
    },
    {
      "cell_type": "markdown",
      "source": [
        "- 위 예는 a[0] + a[1] + a[2] + a[3] + a[4]와 동일하다. a[4]는 공백 문자이기 때문에 'Life'와 Life '는 완전히 다른 문자열이다.\n",
        "\n",
        "- 슬라이싱할 때 항상 시작 번호가 0일 필요는 없다."
      ],
      "metadata": {
        "id": "1IXpd40vkuFM"
      }
    },
    {
      "cell_type": "code",
      "source": [
        "print(a[0:2])\n",
        "\n",
        "print(a[5:7])\n",
        "\n",
        "print(a[12:17])"
      ],
      "metadata": {
        "colab": {
          "base_uri": "https://localhost:8080/"
        },
        "id": "w4HpvTHkl5gF",
        "outputId": "b3f015b9-5cc8-4b8b-c7ab-a67904331ee3"
      },
      "execution_count": 9,
      "outputs": [
        {
          "output_type": "stream",
          "name": "stdout",
          "text": [
            "Li\n",
            "is\n",
            "short\n"
          ]
        }
      ]
    },
    {
      "cell_type": "markdown",
      "source": [
        "- a[시작 번호:끝 번호]에서 끝 번호 부분을 생략하면 시작 번호부터 그 문자열의 끝까지 뽑아낸다."
      ],
      "metadata": {
        "id": "X1nB63yLmKD0"
      }
    },
    {
      "cell_type": "code",
      "source": [
        "a[19:]"
      ],
      "metadata": {
        "colab": {
          "base_uri": "https://localhost:8080/",
          "height": 35
        },
        "id": "vkyREQEVmTP9",
        "outputId": "91ff8cde-45db-4704-fc34-ce84a50c184c"
      },
      "execution_count": 10,
      "outputs": [
        {
          "output_type": "execute_result",
          "data": {
            "text/plain": [
              "'You need Python'"
            ],
            "application/vnd.google.colaboratory.intrinsic+json": {
              "type": "string"
            }
          },
          "metadata": {},
          "execution_count": 10
        }
      ]
    },
    {
      "cell_type": "markdown",
      "source": [
        "- a[시작 번호:끝 번호]에서 시작 번호를 생략하면 문자열의 처음부터 끝 번호까지 뽑아낸다."
      ],
      "metadata": {
        "id": "j2GrTGJrmSNV"
      }
    },
    {
      "cell_type": "code",
      "source": [
        "a[:17]"
      ],
      "metadata": {
        "colab": {
          "base_uri": "https://localhost:8080/",
          "height": 35
        },
        "id": "5EvojvwOmecQ",
        "outputId": "4cc5f17b-664d-4de6-ce74-3d97f67a6599"
      },
      "execution_count": 13,
      "outputs": [
        {
          "output_type": "execute_result",
          "data": {
            "text/plain": [
              "'Life is too short'"
            ],
            "application/vnd.google.colaboratory.intrinsic+json": {
              "type": "string"
            }
          },
          "metadata": {},
          "execution_count": 13
        }
      ]
    },
    {
      "cell_type": "markdown",
      "source": [
        "- a[시작 번호:끝 번호]에서 시작 번호와 끝 번호를 생략하면 문자열의 처음부터 끝까지를 뽑아낸다."
      ],
      "metadata": {
        "id": "PjbmcgLZm-7X"
      }
    },
    {
      "cell_type": "code",
      "source": [
        "a[:]"
      ],
      "metadata": {
        "colab": {
          "base_uri": "https://localhost:8080/",
          "height": 35
        },
        "id": "aXcA-kahnHDc",
        "outputId": "6a32dc2c-7895-4a9f-fe5c-16c4a8333c69"
      },
      "execution_count": 12,
      "outputs": [
        {
          "output_type": "execute_result",
          "data": {
            "text/plain": [
              "'Life is too short, You need Python'"
            ],
            "application/vnd.google.colaboratory.intrinsic+json": {
              "type": "string"
            }
          },
          "metadata": {},
          "execution_count": 12
        }
      ]
    },
    {
      "cell_type": "markdown",
      "source": [
        "- 슬라이싱에서도 인덱싱과 마찬가지로 마이너스(-) 기호를 사용할 수 있다.\n"
      ],
      "metadata": {
        "id": "r1m0fhc1nKFR"
      }
    },
    {
      "cell_type": "code",
      "source": [
        "a[19:-3]"
      ],
      "metadata": {
        "colab": {
          "base_uri": "https://localhost:8080/",
          "height": 35
        },
        "id": "nVtFBsJ7y1uj",
        "outputId": "808712ef-6722-4a21-c458-387bf0728fc5"
      },
      "execution_count": 19,
      "outputs": [
        {
          "output_type": "execute_result",
          "data": {
            "text/plain": [
              "'You need Pyt'"
            ],
            "application/vnd.google.colaboratory.intrinsic+json": {
              "type": "string"
            }
          },
          "metadata": {},
          "execution_count": 19
        }
      ]
    },
    {
      "cell_type": "markdown",
      "source": [
        "- 위 소스 코드에서 a[19:-3]이 뜻하는 것은 a[19에서 부터] a[-3]까지를 말한다."
      ],
      "metadata": {
        "id": "sVy67vDizK1i"
      }
    },
    {
      "cell_type": "markdown",
      "source": [
        "### 슬라이싱으로 문자열 나누기\n",
        "- 다음은 자주 사용하게 되는 슬라이싱 기법 중 하나이다."
      ],
      "metadata": {
        "id": "fyCT43kjz7gD"
      }
    },
    {
      "cell_type": "code",
      "source": [
        "a = \"20220702Rainy\"\n",
        "date = a[:8]\n",
        "weather = a[8:]\n",
        "print(date)\n",
        "print(weather)"
      ],
      "metadata": {
        "colab": {
          "base_uri": "https://localhost:8080/"
        },
        "id": "BiMMVFcQ0Aqz",
        "outputId": "af3cb3e8-c5e8-4b17-8342-5609226bd9b4"
      },
      "execution_count": 25,
      "outputs": [
        {
          "output_type": "stream",
          "name": "stdout",
          "text": [
            "20220628\n",
            "Rainy\n"
          ]
        }
      ]
    },
    {
      "cell_type": "markdown",
      "source": [
        "- 위 예는 문자열 a를 두 부분으로 나누는 기법이다. 숫자 8을 기준으로 문자열 a를 양쪽으로 한 번씩 슬라이싱했다. a[:8]은 a[8]이 포함되지 않고, a[8:]은 a[8]을 포함하기 때문에 을 기준으로 해서 두 부분으로 나눌 수 있는 것이다. 위 예에서는 \"20220702Rainy\" 문자열을 날짜를 나타내는 부분인 '20220702'과 날씨를 나타내는 부분인 'Rainy'로 나누는 방법을 보여 준다.\n",
        "\n",
        "- 위 문자열 \"20220702Rainy\"를 연도 20022, 월과 일을 나타내는 0702, 날씨를 나타내는 Rainy의 세 부분으로 나누려면 다음과 같이 할 수 있다."
      ],
      "metadata": {
        "id": "QPlnltd20aok"
      }
    },
    {
      "cell_type": "code",
      "source": [
        "a = \"20220702Rainy\"\n",
        "year = a[:4]\n",
        "day = a[4:8]\n",
        "weather = a[8:]\n",
        "\n",
        "print(year)\n",
        "print(day)\n",
        "print(weather)"
      ],
      "metadata": {
        "colab": {
          "base_uri": "https://localhost:8080/"
        },
        "id": "pmN6JPVwOd6A",
        "outputId": "ec8685ca-b4f1-45b2-8e16-e4a2338ddc7c"
      },
      "execution_count": 30,
      "outputs": [
        {
          "output_type": "stream",
          "name": "stdout",
          "text": [
            "2022\n",
            "0702\n",
            "Rainy\n"
          ]
        }
      ]
    },
    {
      "cell_type": "markdown",
      "source": [
        "- 위 예는 숫자 4와 8로 \"20220702Rainy\" 문자열을 세 부분으로 나누는 방법을 보여 준다."
      ],
      "metadata": {
        "id": "6jVQaIFQPSlp"
      }
    },
    {
      "cell_type": "markdown",
      "source": [
        "## 문자열 포매팅 따라하기\n",
        "###1. 숫자 바로 대입"
      ],
      "metadata": {
        "id": "OVwsYdVrQWZZ"
      }
    },
    {
      "cell_type": "code",
      "source": [
        "\"I eat %d apples.\" % 3"
      ],
      "metadata": {
        "colab": {
          "base_uri": "https://localhost:8080/",
          "height": 35
        },
        "id": "M-YUKSNPQfkL",
        "outputId": "bf925750-9b1f-44df-fc63-118bfdf0c00c"
      },
      "execution_count": 32,
      "outputs": [
        {
          "output_type": "execute_result",
          "data": {
            "text/plain": [
              "'I eat 3 apples.'"
            ],
            "application/vnd.google.colaboratory.intrinsic+json": {
              "type": "string"
            }
          },
          "metadata": {},
          "execution_count": 32
        }
      ]
    },
    {
      "cell_type": "markdown",
      "source": [
        "- 위 예제의 결괏값을 보면 알겠지만 위 예제는 문자열 안에 정수 3을 삽입하는 방법을 보여 준다. 문자열 안에서 숫자를 넣고 싶은 자리에 %d 문자를 넣어주고, 삽일할 숫자 3은 가장 뒤에 있는 % 문자 다음에 써 넣었다. 여기에서 %d는 문자열 포맷 코드라고 부른다.\n"
      ],
      "metadata": {
        "id": "gaoZ1swWQtN5"
      }
    },
    {
      "cell_type": "markdown",
      "source": [
        "### 2. 문자열 바로 대입\n",
        "- 문자열 안에 꼭 숫자만 넣으라는 법은 없다. 이번에는 숫자 대신 문자열을 넣어 보자."
      ],
      "metadata": {
        "id": "-d4bSttcQ-uC"
      }
    },
    {
      "cell_type": "code",
      "source": [
        "\"I eat %s apples.\" % \"five\""
      ],
      "metadata": {
        "colab": {
          "base_uri": "https://localhost:8080/",
          "height": 35
        },
        "id": "knV7UKE8RKfa",
        "outputId": "86566a8f-00c5-46da-eb7d-4b57764fd713"
      },
      "execution_count": 33,
      "outputs": [
        {
          "output_type": "execute_result",
          "data": {
            "text/plain": [
              "'I eat five apples.'"
            ],
            "application/vnd.google.colaboratory.intrinsic+json": {
              "type": "string"
            }
          },
          "metadata": {},
          "execution_count": 33
        }
      ]
    },
    {
      "cell_type": "markdown",
      "source": [
        "- 위 예제에서는 문자열 안에 또 다른 문자열을 삽입하기 위해 앞으로 사용한 문자열 포맷 코드 %d가 아닌 %s를 썼다. 문자는 %d이고 숫자는 %s이다.\n",
        "- 문자열을 대입할 때는 앞에서 배운 것처럼 큰따옴표나 작은따옴표를 반드시 써주어야 한다."
      ],
      "metadata": {
        "id": "oVHBDZKpW6u_"
      }
    },
    {
      "cell_type": "markdown",
      "source": [
        "### 3. 숫자 값을 나타내는 변수로 대입"
      ],
      "metadata": {
        "id": "-E39DGdoXTWE"
      }
    },
    {
      "cell_type": "code",
      "source": [
        "number = 3\n",
        "\"I eat %d apples.\" % number"
      ],
      "metadata": {
        "colab": {
          "base_uri": "https://localhost:8080/",
          "height": 35
        },
        "id": "qRqdZ7weXVl8",
        "outputId": "257b2e89-5f43-49be-cf33-a88516110737"
      },
      "execution_count": 35,
      "outputs": [
        {
          "output_type": "execute_result",
          "data": {
            "text/plain": [
              "'I eat 3 apples.'"
            ],
            "application/vnd.google.colaboratory.intrinsic+json": {
              "type": "string"
            }
          },
          "metadata": {},
          "execution_count": 35
        }
      ]
    },
    {
      "cell_type": "markdown",
      "source": [
        "1번처럼 숫자를 바로 대입하나 위 예제처럼 숫자 값을 나타내는 변수를 대입하나 결과는 같다."
      ],
      "metadata": {
        "id": "HH4BwVsbXfQk"
      }
    },
    {
      "cell_type": "markdown",
      "source": [
        "### 4. 2개 이상의 값 넣기\n",
        "- 그렇다며 문자열 안에 1개가 아닌 여러 개의 값을 넣고 싶을 땐 어떻게 해야 할까?"
      ],
      "metadata": {
        "id": "AxNLEQrNXkDN"
      }
    },
    {
      "cell_type": "code",
      "source": [
        "number = 10\n",
        "day = \"three\"\n",
        "\"I ate %d apples. so I was sick for %s days.\" % (number, day)"
      ],
      "metadata": {
        "colab": {
          "base_uri": "https://localhost:8080/",
          "height": 35
        },
        "id": "-U_MAbexY10F",
        "outputId": "a6e4948b-4076-4294-a9c3-4d1c43f1b36a"
      },
      "execution_count": 1,
      "outputs": [
        {
          "output_type": "execute_result",
          "data": {
            "text/plain": [
              "'I ate 10 apples. so I was sick for three days.'"
            ],
            "application/vnd.google.colaboratory.intrinsic+json": {
              "type": "string"
            }
          },
          "metadata": {},
          "execution_count": 1
        }
      ]
    },
    {
      "cell_type": "markdown",
      "source": [
        "- 위 예문처럼 2개 이상의 값을 넣으려면 마지막 % 다음 괄호 안에 콤마(,)로 구분하여 각각의 값을 넣어 주면 된다."
      ],
      "metadata": {
        "id": "BNq5jArY-7aG"
      }
    },
    {
      "cell_type": "markdown",
      "source": [
        "## 문자열 포맷 코드\n",
        "- 문자열 포매팅 예제에서는 대입해 넣은 자료형으로 정수와 문자열을 사용했으나 이 외에도 다양한 것을 대입할 수있다. 문자열 포맷 코드로는 다음과 같은 것이 있다.\n",
        "-코드\t설명\n",
        "\n",
        "%s\t문자열(String)\n",
        "\n",
        "%c=문자 1개(character)\n",
        "\n",
        "%d=정수(Integer)\n",
        "\n",
        "%f=부동소수(floating-point)\n",
        "\n",
        "%o=8진수\n",
        "\n",
        "%x=16진수\n",
        "\n",
        "%%=Literal % (문자 % 자체)\n",
        "\n",
        "- %s 포맷 코드는 어떤 형태의 값이든 변환해 넣을 수 있다."
      ],
      "metadata": {
        "id": "zSjHOq8k_CC2"
      }
    },
    {
      "cell_type": "code",
      "source": [
        "\"I have %s apples\" % 3\n",
        "\n",
        "\"rate is %s\" % 3.234"
      ],
      "metadata": {
        "colab": {
          "base_uri": "https://localhost:8080/",
          "height": 35
        },
        "id": "qqfddbb9_klI",
        "outputId": "829c97a5-3411-4097-c6a9-2d701dbd70ac"
      },
      "execution_count": 3,
      "outputs": [
        {
          "output_type": "execute_result",
          "data": {
            "text/plain": [
              "'rate is 3.234'"
            ],
            "application/vnd.google.colaboratory.intrinsic+json": {
              "type": "string"
            }
          },
          "metadata": {},
          "execution_count": 3
        }
      ]
    },
    {
      "cell_type": "markdown",
      "source": [
        "- 3을 문자열 안에 삽입하려면 %d를 사용하고, 3.234를 삽입하려면 %f를 사용해야 한다. 하지만 %s를 사용하면 이런 것을 생각하지 않아도 된다. %s는 자동으로 % 뒤에 있는 값을 문자열로 바꾸기 때문이다."
      ],
      "metadata": {
        "id": "9RzNxwgY_yY6"
      }
    },
    {
      "cell_type": "markdown",
      "source": [
        "### 포매팅 연산자 %d와 %를 같이 쓸 때는 %%를 쓴다.\n",
        "- \"Error is %d%.\" % 98\n",
        "이 예문의 결괏값으로 당연히 \"Error is 98%.\"가 출력될 것이라고 예상하겠지만 파이썬은 값이 올바르지 않다는 값 오류(Value Error) 메시지를 보여 준다.\n",
        "- 이유는 문자열 포맷 코드인 %d와 %r가 같은 문자열 안에 존재하는 경우, %를 나타내려면 반드시 %%로 써야 하는 법칙이 있기 때문이다. 이 점을 유의하자.\n",
        "- 문자열 안에 %d 같은 포매팅 연산자가 없으면 %는 홀로 쓰여도 상관이 없다.\n"
      ],
      "metadata": {
        "id": "6w7JRr1BAPhv"
      }
    },
    {
      "cell_type": "code",
      "source": [
        "\"Error si %d%%.\" % 98"
      ],
      "metadata": {
        "colab": {
          "base_uri": "https://localhost:8080/",
          "height": 35
        },
        "id": "ohlJz_ahAxf2",
        "outputId": "5a924ea9-7ad9-40e3-a0d4-08f8194006d9"
      },
      "execution_count": 4,
      "outputs": [
        {
          "output_type": "execute_result",
          "data": {
            "text/plain": [
              "'Error si 98%.'"
            ],
            "application/vnd.google.colaboratory.intrinsic+json": {
              "type": "string"
            }
          },
          "metadata": {},
          "execution_count": 4
        }
      ]
    },
    {
      "cell_type": "markdown",
      "source": [
        "## 포맷 코드와 숫자 함께 사용하기\n",
        "- 위에서 보았듯 %d, %s 등의 포맷 코드는 문자열 안에 어떤 값을 삽입하기 위해 사용한다. 하지만 포맷 코드를 숫자와 함께 사용하면 더 유용하게 사용할 수 있다."
      ],
      "metadata": {
        "id": "HAqC4dUrA4FH"
      }
    },
    {
      "cell_type": "markdown",
      "source": [
        "### 1. 정렬과 공백"
      ],
      "metadata": {
        "id": "BD_aBgtdBKmg"
      }
    },
    {
      "cell_type": "code",
      "source": [
        "\"%10s\" %\"hi\""
      ],
      "metadata": {
        "colab": {
          "base_uri": "https://localhost:8080/",
          "height": 35
        },
        "id": "Z_gM2gOXBMzH",
        "outputId": "13be9f6f-d1ae-4935-da1d-cd4313b0483d"
      },
      "execution_count": 5,
      "outputs": [
        {
          "output_type": "execute_result",
          "data": {
            "text/plain": [
              "'        hi'"
            ],
            "application/vnd.google.colaboratory.intrinsic+json": {
              "type": "string"
            }
          },
          "metadata": {},
          "execution_count": 5
        }
      ]
    },
    {
      "cell_type": "markdown",
      "source": [
        "- 앞의 ㅇ예문에서 %10s 는 전체 길이가 10개인 문자열 공간에서 대입되는 값을 오른쪽으로 정렬하고 그 앞의 나머지는 공백으로 남겨 두라는 의미이다.\n",
        "- 그렇다면 반대쪽인 왼쪽 정렬은 %-10s 가 될 것이다."
      ],
      "metadata": {
        "id": "h6BnVSXVBTML"
      }
    },
    {
      "cell_type": "code",
      "source": [
        "\"%-10shane.\" %'hi'"
      ],
      "metadata": {
        "colab": {
          "base_uri": "https://localhost:8080/",
          "height": 35
        },
        "id": "VuE7fVH5Bzc4",
        "outputId": "4a3982dc-b68e-47d6-95a6-d7fdff55d151"
      },
      "execution_count": 6,
      "outputs": [
        {
          "output_type": "execute_result",
          "data": {
            "text/plain": [
              "'hi        hane.'"
            ],
            "application/vnd.google.colaboratory.intrinsic+json": {
              "type": "string"
            }
          },
          "metadata": {},
          "execution_count": 6
        }
      ]
    },
    {
      "cell_type": "markdown",
      "source": [
        "- hi를 왼쪽으로 정렬하고 나머지는 공백으로 채웠음을 볼 수 있다."
      ],
      "metadata": {
        "id": "1h6OsyOqB6Lf"
      }
    },
    {
      "cell_type": "markdown",
      "source": [
        "### 2. 소수점 표현하기"
      ],
      "metadata": {
        "id": "TkZ6KPVvB-q_"
      }
    },
    {
      "cell_type": "code",
      "source": [
        "\"%0.4f\" % 3.42134234"
      ],
      "metadata": {
        "colab": {
          "base_uri": "https://localhost:8080/",
          "height": 35
        },
        "id": "0auC_LxpCBWf",
        "outputId": "0a2b87fc-01dd-418c-864a-372c1dce33cc"
      },
      "execution_count": 7,
      "outputs": [
        {
          "output_type": "execute_result",
          "data": {
            "text/plain": [
              "'3.4213'"
            ],
            "application/vnd.google.colaboratory.intrinsic+json": {
              "type": "string"
            }
          },
          "metadata": {},
          "execution_count": 7
        }
      ]
    },
    {
      "cell_type": "markdown",
      "source": [
        "- 3.42134234를 소수점 네 번째 자리까지만 나타내고 싶은 경우에는 위와 같이 사용한다. 즉 여기서'.'의 의미는 소수점 포인트를말하고 그 뒤의 숫자 4는 소수점 뒤에 나올 숫자의 개수를 말한다."
      ],
      "metadata": {
        "id": "_rVQ304pCH2X"
      }
    },
    {
      "cell_type": "code",
      "source": [
        "\"%10.4f\" % 3.42134234"
      ],
      "metadata": {
        "colab": {
          "base_uri": "https://localhost:8080/",
          "height": 35
        },
        "id": "fdFEXAWnCTrv",
        "outputId": "403d0c2b-87d1-49e6-e0dc-2c32b2363e27"
      },
      "execution_count": 8,
      "outputs": [
        {
          "output_type": "execute_result",
          "data": {
            "text/plain": [
              "'    3.4213'"
            ],
            "application/vnd.google.colaboratory.intrinsic+json": {
              "type": "string"
            }
          },
          "metadata": {},
          "execution_count": 8
        }
      ]
    },
    {
      "cell_type": "markdown",
      "source": [
        "- 위 예는 숫자 3.42134234를 소수점 네 번째 자리까지만 표시하고 전체 길이가 10개인 문자열 공간에서 오른쪽으로 정렬하는 예를 보여준다."
      ],
      "metadata": {
        "id": "G48zTOFeCg6g"
      }
    },
    {
      "cell_type": "markdown",
      "source": [
        "## format 함수를 사용한 포매팅\n",
        "- 문자열의 format 함수를 사용하면 좀 더 발전된 스타일로 문자열 포맷을 지정할 수 있다. 앞에서 살펴본 문자열 포매팅 예제를 format 함수를 사용해서 바꾸면 다음과 같다.\n"
      ],
      "metadata": {
        "id": "hKT2OIuxCo44"
      }
    },
    {
      "cell_type": "markdown",
      "source": [
        "\n",
        "### 숫자 바로 대입하기"
      ],
      "metadata": {
        "id": "kf_nKiamEBcJ"
      }
    },
    {
      "cell_type": "code",
      "source": [
        "\"I eat {0} apples\".format(3)"
      ],
      "metadata": {
        "colab": {
          "base_uri": "https://localhost:8080/",
          "height": 35
        },
        "id": "9rw16tdxDoTg",
        "outputId": "2f55e406-2afc-4dd9-c84b-68eb50de8c5f"
      },
      "execution_count": 9,
      "outputs": [
        {
          "output_type": "execute_result",
          "data": {
            "text/plain": [
              "'I eat 3 apples'"
            ],
            "application/vnd.google.colaboratory.intrinsic+json": {
              "type": "string"
            }
          },
          "metadata": {},
          "execution_count": 9
        }
      ]
    },
    {
      "cell_type": "markdown",
      "source": [
        "- \"I eat {0} apples\" 문자열 중 {0} 부분이 숫자 3으로 바뀌었다."
      ],
      "metadata": {
        "id": "GDwsyPvFDwhh"
      }
    },
    {
      "cell_type": "markdown",
      "source": [
        "### 문자열 바로 대입하기"
      ],
      "metadata": {
        "id": "QLivEvCDD6bJ"
      }
    },
    {
      "cell_type": "code",
      "source": [
        "\"I eat {0} apples\".format(\"five\")"
      ],
      "metadata": {
        "colab": {
          "base_uri": "https://localhost:8080/",
          "height": 35
        },
        "id": "OZZqh9S_D-Yn",
        "outputId": "68a8b058-762a-44e0-8831-8737ea49f766"
      },
      "execution_count": 10,
      "outputs": [
        {
          "output_type": "execute_result",
          "data": {
            "text/plain": [
              "'I eat five apples'"
            ],
            "application/vnd.google.colaboratory.intrinsic+json": {
              "type": "string"
            }
          },
          "metadata": {},
          "execution_count": 10
        }
      ]
    },
    {
      "cell_type": "markdown",
      "source": [
        "- 문자열의 {0} 항목이 five라는 문자열로 바뀌었다."
      ],
      "metadata": {
        "id": "zHJwcrszEUyx"
      }
    },
    {
      "cell_type": "markdown",
      "source": [
        "### 숫자 값을 가진 변수로 대입하기"
      ],
      "metadata": {
        "id": "FzACzaxQEbNg"
      }
    }
  ]
}